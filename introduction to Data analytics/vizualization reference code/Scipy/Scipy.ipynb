{
 "cells": [
  {
   "cell_type": "code",
   "execution_count": 14,
   "metadata": {},
   "outputs": [],
   "source": [
    "import numpy as np"
   ]
  },
  {
   "cell_type": "markdown",
   "metadata": {},
   "source": [
    "# File Input / Output package"
   ]
  },
  {
   "cell_type": "code",
   "execution_count": 15,
   "metadata": {},
   "outputs": [
    {
     "data": {
      "text/plain": [
       "array([[1., 1., 1., 1., 1.],\n",
       "       [1., 1., 1., 1., 1.],\n",
       "       [1., 1., 1., 1., 1.],\n",
       "       [1., 1., 1., 1., 1.],\n",
       "       [1., 1., 1., 1., 1.]])"
      ]
     },
     "execution_count": 15,
     "metadata": {},
     "output_type": "execute_result"
    }
   ],
   "source": [
    "import scipy.io as sio\n",
    "\n",
    "array = np.ones((5, 5)) # Create 5 x 5, dimensional one's array\n",
    "sio.savemat('example.mat', {'ar': array}) # save as mat file\n",
    "data = sio.loadmat('example.mat', struct_as_record=True) #load the file\n",
    "data['ar']"
   ]
  },
  {
   "cell_type": "markdown",
   "metadata": {},
   "source": [
    "# Special function"
   ]
  },
  {
   "cell_type": "code",
   "execution_count": 30,
   "metadata": {},
   "outputs": [
    {
     "data": {
      "text/plain": [
       "array([2.154, 2.08 , 2.289, 2.924])"
      ]
     },
     "execution_count": 30,
     "metadata": {},
     "output_type": "execute_result"
    }
   ],
   "source": [
    "# Cubic Root Function\n",
    "from scipy import special\n",
    "arr = np.round(special.cbrt([10, 9, 12, 25]),3)\n",
    "arr"
   ]
  },
  {
   "cell_type": "code",
   "execution_count": 39,
   "metadata": {},
   "outputs": [
    {
     "name": "stdout",
     "output_type": "stream",
     "text": [
      "[  10. 1000.]\n",
      "[4. 8.]\n",
      "1.0\n",
      "0.7071067811865475\n"
     ]
    }
   ],
   "source": [
    "# Exponential Function\n",
    "arr1 = special.exp10([1,3])\n",
    "print(arr1)\n",
    "arr2 = special.exp2([2, 3])\n",
    "print(arr2)\n",
    "a = special.sindg(90)\n",
    "print(a)\n",
    "b = special.cosdg(45)\n",
    "print(b)"
   ]
  },
  {
   "cell_type": "code",
   "execution_count": 40,
   "metadata": {},
   "outputs": [
    {
     "data": {
      "text/plain": [
       "array([0.95162582, 0.99501663, 1.        , 1.00501671, 1.05170918])"
      ]
     },
     "execution_count": 40,
     "metadata": {},
     "output_type": "execute_result"
    }
   ],
   "source": [
    "# Relative Error Exponential Function\n",
    "arr2 = special.exprel([-0.1, -0.01, 0, 0.01, 0.1])\n",
    "arr2"
   ]
  },
  {
   "cell_type": "code",
   "execution_count": 46,
   "metadata": {},
   "outputs": [
    {
     "data": {
      "text/plain": [
       "2.4076059644443806"
      ]
     },
     "execution_count": 46,
     "metadata": {},
     "output_type": "execute_result"
    }
   ],
   "source": [
    "# Log Sum Exponential Function\n",
    "a = np.arange(3)\n",
    "arr3 = special.logsumexp(a)\n",
    "arr3"
   ]
  },
  {
   "cell_type": "code",
   "execution_count": 50,
   "metadata": {},
   "outputs": [
    {
     "data": {
      "text/plain": [
       "(1.0000000000000002+1.6375789613221059e-15j)"
      ]
     },
     "execution_count": 50,
     "metadata": {},
     "output_type": "execute_result"
    }
   ],
   "source": [
    "# Lambert Function\n",
    "w = special.lambertw(1)\n",
    "w * np.exp(w)\n",
    "\n",
    "w1 = special.lambertw(1, k=3) # the branches are indexed by the integer k\n",
    "w1 * np.exp(w1)"
   ]
  },
  {
   "cell_type": "code",
   "execution_count": 56,
   "metadata": {},
   "outputs": [],
   "source": [
    "# Combintaion & Permutation \n",
    "'''If exact is False, then floating point precision is used, \n",
    "   otherwise exact long integer is computed.\n",
    "   If repetition is True, then the number of combinations\n",
    "   with repetition is computed.'''\n",
    "arr4 = special.comb(10, 5, exact = False,repetition=True) # Combination\n",
    "\n",
    "arr5 = special.perm(10, 5, exact = True) #Permutation"
   ]
  },
  {
   "cell_type": "code",
   "execution_count": 76,
   "metadata": {},
   "outputs": [
    {
     "data": {
      "text/plain": [
       "(-0.08239527266561189+0.0917742874352593j)"
      ]
     },
     "execution_count": 76,
     "metadata": {},
     "output_type": "execute_result"
    }
   ],
   "source": [
    "arr6 = special.gamma([0, 0.5, 1, 5])\n",
    "c = 2 + 3j\n",
    "special.gamma(c)"
   ]
  },
  {
   "cell_type": "code",
   "execution_count": null,
   "metadata": {},
   "outputs": [],
   "source": []
  }
 ],
 "metadata": {
  "kernelspec": {
   "display_name": "Python 3",
   "language": "python",
   "name": "python3"
  },
  "language_info": {
   "codemirror_mode": {
    "name": "ipython",
    "version": 3
   },
   "file_extension": ".py",
   "mimetype": "text/x-python",
   "name": "python",
   "nbconvert_exporter": "python",
   "pygments_lexer": "ipython3",
   "version": "3.8.0"
  }
 },
 "nbformat": 4,
 "nbformat_minor": 4
}
