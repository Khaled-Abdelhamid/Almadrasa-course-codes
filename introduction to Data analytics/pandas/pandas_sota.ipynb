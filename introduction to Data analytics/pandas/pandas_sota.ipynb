{
  "cells": [
    {
      "cell_type": "markdown",
      "id": "ae90d978",
      "metadata": {
        "id": "ae90d978"
      },
      "source": [
        "# Pandas\n",
        "\n",
        "<img src=\"https://raw.githubusercontent.com/fralfaro/DS-Cheat-Sheets/main/docs/examples/pandas/pandas.png\" alt=\"numpy logo\" width = \"300\">\n",
        "\n",
        "[Pandas](https://pandas.pydata.org/) is built on NumPy and provides easy-to-use\n",
        "data structures and data analysis tools for the Python\n",
        "programming language.\n",
        "\n",
        "## Install and import Pandas\n",
        "\n",
        "`\n",
        "$ pip install pandas\n",
        "`"
      ]
    },
    {
      "cell_type": "code",
      "execution_count": null,
      "id": "805a07df",
      "metadata": {
        "id": "805a07df"
      },
      "outputs": [],
      "source": [
        "# Import Pandas convention\n",
        "import pandas as pd"
      ]
    },
    {
      "cell_type": "markdown",
      "id": "75775834",
      "metadata": {
        "id": "75775834"
      },
      "source": [
        "## Pandas Data Structures\n",
        "\n",
        "**Series**\n",
        "\n",
        "<img src=\"https://raw.githubusercontent.com/fralfaro/DS-Cheat-Sheets/main/docs/examples/pandas/serie.png\" alt=\"numpy logo\" >\n",
        "\n",
        "A **one-dimensional** labeled array a capable of holding any data type."
      ]
    },
    {
      "cell_type": "code",
      "execution_count": null,
      "id": "fbef430f",
      "metadata": {
        "id": "fbef430f",
        "outputId": "8779d9d7-24df-45c0-afcc-ff05db556026"
      },
      "outputs": [],
      "source": [
        "# Import pandas\n",
        "import pandas as pd\n",
        "\n",
        "# Create a pandas Series representing monthly sales data\n",
        "sales_data = pd.Series(\n",
        "    [1500, 1200, 1800, 1600, 1300, 1700, 1400, 1500, 1600, 1800],\n",
        "    index=['jan', 'feb', 'mar', 'apr', 'may', 'jun', 'jul', 'aug', 'sep', 'oct']\n",
        ")\n",
        "\n",
        "# Print the pandas Series\n",
        "print(\"Monthly Sales Data:\")\n",
        "print(sales_data)"
      ]
    },
    {
      "cell_type": "markdown",
      "id": "feba27ca",
      "metadata": {
        "id": "feba27ca"
      },
      "source": [
        "**DataFrame**\n",
        "\n",
        "<img src=\"https://raw.githubusercontent.com/fralfaro/DS-Cheat-Sheets/main/docs/examples/pandas/df.png\" alt=\"numpy logo\" >\n",
        "\n",
        "**two-dimensional** labeled data structure with columns of potentially different types."
      ]
    },
    {
      "cell_type": "code",
      "execution_count": null,
      "id": "7bcbaad2",
      "metadata": {
        "id": "7bcbaad2",
        "outputId": "48351fde-482b-451a-ff25-58b4b9133120"
      },
      "outputs": [],
      "source": [
        "# Create a pandas DataFrame with more instances\n",
        "data = {\n",
        "    'country': ['United States', 'China', 'Japan', 'Germany', 'United Kingdom', 'India', 'France', 'Italy', 'Brazil', 'Canada'],\n",
        "    'capital': ['Washington, D.C.', 'Beijing', 'Tokyo', 'Berlin', 'London', 'New Delhi', 'Paris', 'Rome', 'Brasília', 'Ottawa'],\n",
        "    'population': [331449281, 1393000000, 126476461, 83783945, 67886011, 1303171035, 67186600, 60277900, 211050000, 37742154],\n",
        "    'GDP': [21.44, 14.34, 5.07, 4.01, 2.99, 3.11, 2.78, 2.15, 1.77, 1.73]\n",
        "}\n",
        "df = pd.DataFrame(\n",
        "    data,\n",
        "    columns=['country', 'capital', 'population', 'GDP']\n",
        ")\n",
        "\n",
        "# Print the DataFrame 'df'\n",
        "print(\"\\ndf:\")\n",
        "df"
      ]
    },
    {
      "cell_type": "markdown",
      "id": "4f0980ce",
      "metadata": {
        "id": "4f0980ce"
      },
      "source": [
        "## Getting Elements\n"
      ]
    },
    {
      "cell_type": "code",
      "execution_count": null,
      "id": "e9b66371",
      "metadata": {
        "id": "e9b66371",
        "outputId": "d7540732-3d48-4db5-b590-54b3b7bb212d"
      },
      "outputs": [],
      "source": [
        "# Get one element from a Series\n",
        "sales_data['jan']\n",
        "\n",
        "# another way to do it\n",
        "sales_data.jan"
      ]
    },
    {
      "cell_type": "code",
      "execution_count": null,
      "id": "ab5893b3",
      "metadata": {
        "id": "ab5893b3",
        "outputId": "706a24de-f01e-4a27-85d6-6e23247ce24d"
      },
      "outputs": [],
      "source": [
        "# Get subset of a DataFrame\n",
        "df[1:]"
      ]
    },
    {
      "cell_type": "markdown",
      "id": "383c41b4",
      "metadata": {
        "id": "383c41b4"
      },
      "source": [
        "## Selecting, Boolean Indexing & Setting\n"
      ]
    },
    {
      "cell_type": "code",
      "execution_count": null,
      "id": "19e43639",
      "metadata": {
        "id": "19e43639",
        "outputId": "cc5b5989-4d46-4549-ea7c-be3952626717"
      },
      "outputs": [],
      "source": [
        "# Select single value by row & 'Belgium' column\n",
        "df.iloc[[0],[0]]\n",
        "# Output: 'Belgium'"
      ]
    },
    {
      "cell_type": "code",
      "execution_count": null,
      "id": "7a1c5d55",
      "metadata": {
        "id": "7a1c5d55",
        "outputId": "fd0dff04-ced5-47dc-bbeb-6924d6469066"
      },
      "outputs": [],
      "source": [
        "# Select single value by row & 'Belgium' column labels\n",
        "df.loc[[0], ['country']]\n",
        "# Output: 'Belgium'"
      ]
    },
    {
      "cell_type": "code",
      "execution_count": null,
      "id": "e1b983e8",
      "metadata": {
        "id": "e1b983e8",
        "outputId": "cf0ec9e0-d06e-4015-dcae-03e42c7d5e78"
      },
      "outputs": [],
      "source": [
        "# Select single row of subset of rows\n",
        "df.loc[2]\n",
        "# print(type(df.loc[2]))\n",
        "# Output:\n",
        "# Country     Brazil\n",
        "# Capital    Brasília\n",
        "# Population 207847528"
      ]
    },
    {
      "cell_type": "code",
      "execution_count": null,
      "id": "cab4fc1e",
      "metadata": {
        "id": "cab4fc1e",
        "outputId": "20a91ed6-1d1a-4f79-cbeb-f41cb90ffad5"
      },
      "outputs": [],
      "source": [
        "# Select a single column of subset of columns\n",
        "df.loc[:,'capital']\n",
        "# df['Capital']\n",
        "\n",
        "# Output:\n",
        "# 0     Brussels\n",
        "# 1    New Delhi\n",
        "# 2     Brasília"
      ]
    },
    {
      "cell_type": "code",
      "execution_count": null,
      "id": "894bd29b",
      "metadata": {
        "id": "894bd29b",
        "outputId": "983081f3-8ecd-44f4-cb88-b4d147534717"
      },
      "outputs": [],
      "source": [
        "# Boolean indexing - Series s where value is not > 1\n",
        "sales_data[~(sales_data > 1)]"
      ]
    },
    {
      "cell_type": "code",
      "execution_count": null,
      "id": "137fc348",
      "metadata": {
        "id": "137fc348",
        "outputId": "3b243bfb-9211-4dee-98c3-769f5d151509"
      },
      "outputs": [],
      "source": [
        "# Boolean indexing - s where value is <-1 or >2\n",
        "s[(s < -1) | (s > 2)]"
      ]
    },
    {
      "cell_type": "code",
      "execution_count": null,
      "id": "75baf5fe",
      "metadata": {
        "id": "75baf5fe",
        "outputId": "82c2edeb-158d-4311-8de4-5647bc0be712"
      },
      "outputs": [],
      "source": [
        "# Use filter to adjust DataFrame\n",
        "df[df['Population'] > 1200000000]"
      ]
    },
    {
      "cell_type": "code",
      "execution_count": null,
      "id": "6e02eea4",
      "metadata": {
        "id": "6e02eea4",
        "outputId": "c99fa377-e906-41e8-fd01-751ce24438c4"
      },
      "outputs": [],
      "source": [
        "# Setting index a of Series s to 6\n",
        "sales_data['may'] = 60000\n",
        "sales_data"
      ]
    },
    {
      "cell_type": "markdown",
      "id": "bfee4693",
      "metadata": {
        "id": "bfee4693"
      },
      "source": [
        "## Dropping\n"
      ]
    },
    {
      "cell_type": "code",
      "execution_count": null,
      "id": "62c2d966",
      "metadata": {
        "id": "62c2d966",
        "outputId": "a208d4fe-a0fe-4ca9-c737-366b0202db4e"
      },
      "outputs": [],
      "source": [
        "# Drop values from rows (axis=0)\n",
        "sales_data.drop(['may', 'mar'])"
      ]
    },
    {
      "cell_type": "code",
      "execution_count": null,
      "id": "4a8f5162",
      "metadata": {
        "id": "4a8f5162",
        "outputId": "49634434-3aa3-4044-bee3-db6bf82511e3"
      },
      "outputs": [],
      "source": [
        "# Drop values from columns (axis=1)\n",
        "df.drop('country', axis=1)"
      ]
    },
    {
      "cell_type": "markdown",
      "id": "9c8c241f",
      "metadata": {
        "id": "9c8c241f"
      },
      "source": [
        "## Sort & Rank\n"
      ]
    },
    {
      "cell_type": "code",
      "execution_count": null,
      "id": "920604d0",
      "metadata": {
        "id": "920604d0",
        "outputId": "ed4f748b-ad38-47b9-a45d-b6a9da7d3b17"
      },
      "outputs": [],
      "source": [
        "# Sort by labels along an axis\n",
        "df.sort_index()"
      ]
    },
    {
      "cell_type": "code",
      "execution_count": null,
      "id": "555e9a3e",
      "metadata": {
        "id": "555e9a3e",
        "outputId": "89c70f81-a6ff-4e76-a28d-d6dea1932d2d"
      },
      "outputs": [],
      "source": [
        "# Sort by the values along an axis\n",
        "df.sort_values(by='country')"
      ]
    },
    {
      "cell_type": "code",
      "execution_count": null,
      "id": "555d69ea",
      "metadata": {
        "id": "555d69ea",
        "outputId": "7cd609db-b4f8-4c77-9aa9-8dd3671e6caf"
      },
      "outputs": [],
      "source": [
        "# Assign ranks to entries\n",
        "df.rank()"
      ]
    },
    {
      "cell_type": "markdown",
      "id": "f469a195",
      "metadata": {
        "id": "f469a195"
      },
      "source": [
        "## Applying Functions\n"
      ]
    },
    {
      "cell_type": "code",
      "execution_count": null,
      "id": "e971306a",
      "metadata": {
        "id": "e971306a"
      },
      "outputs": [],
      "source": [
        "# Define a function\n",
        "f = lambda x: x*2"
      ]
    },
    {
      "cell_type": "code",
      "execution_count": null,
      "id": "698dac12",
      "metadata": {
        "id": "698dac12",
        "outputId": "03c79572-7db2-4ae0-cc83-ad2d75b1e6a3"
      },
      "outputs": [],
      "source": [
        "# Apply function to DataFrame\n",
        "df.apply(f)"
      ]
    },
    {
      "cell_type": "code",
      "execution_count": null,
      "id": "3a6559b8",
      "metadata": {
        "id": "3a6559b8",
        "outputId": "d94ea963-3c92-41c2-d0ee-96c850246454"
      },
      "outputs": [],
      "source": [
        "# Apply function element-wise\n",
        "df.applymap(f)"
      ]
    },
    {
      "cell_type": "code",
      "execution_count": null,
      "id": "f710c2e0",
      "metadata": {},
      "outputs": [],
      "source": [
        "\n",
        "df[\"country\"] = df[\"country\"].apply(lambda x: x.upper())\n",
        "\n",
        "df"
      ]
    },
    {
      "cell_type": "markdown",
      "id": "c4e7b538",
      "metadata": {},
      "source": [
        "## TQDM with pandas"
      ]
    },
    {
      "cell_type": "code",
      "execution_count": null,
      "id": "30ccff2f",
      "metadata": {},
      "outputs": [],
      "source": [
        "import time\n",
        "def placeholder_function(x):\n",
        "    time.sleep(0.5)\n",
        "    return x.upper()"
      ]
    },
    {
      "cell_type": "code",
      "execution_count": null,
      "id": "f39e2fec",
      "metadata": {},
      "outputs": [],
      "source": [
        "from tqdm import tqdm\n",
        "# Create new `pandas` methods which use `tqdm` progress\n",
        "# (can use tqdm_gui, optional kwargs, etc.)\n",
        "tqdm.pandas()\n",
        "\n",
        "df[\"country\"] = df[\"country\"].progress_apply(placeholder_function)\n",
        "\n",
        "df"
      ]
    },
    {
      "cell_type": "code",
      "execution_count": null,
      "id": "f9481672",
      "metadata": {},
      "outputs": [],
      "source": [
        "# Even better progress bar\n",
        "from tqdm.auto import tqdm\n",
        "# Create new `pandas` methods which use `tqdm` progress\n",
        "# (can use tqdm_gui, optional kwargs, etc.)\n",
        "tqdm.pandas()\n",
        "\n",
        "df[\"country\"] = df[\"country\"].progress_apply(placeholder_function)\n",
        "\n",
        "df"
      ]
    },
    {
      "cell_type": "markdown",
      "id": "19c0ad57",
      "metadata": {
        "id": "19c0ad57"
      },
      "source": [
        "## Basic Information\n"
      ]
    },
    {
      "cell_type": "code",
      "execution_count": null,
      "id": "5028d138",
      "metadata": {
        "id": "5028d138",
        "outputId": "93f026ce-43c3-4923-9ee0-689fac55bb1b"
      },
      "outputs": [],
      "source": [
        "# Get the shape (rows, columns)\n",
        "df.shape"
      ]
    },
    {
      "cell_type": "code",
      "execution_count": null,
      "id": "dab599a3",
      "metadata": {
        "id": "dab599a3",
        "outputId": "984bbd52-ba9f-48d7-d919-ede54282a036"
      },
      "outputs": [],
      "source": [
        "# Describe index\n",
        "df.index"
      ]
    },
    {
      "cell_type": "code",
      "execution_count": null,
      "id": "96da4563",
      "metadata": {
        "id": "96da4563",
        "outputId": "0000f00f-4a51-4a3c-a574-cbc769546bfe"
      },
      "outputs": [],
      "source": [
        "# Describe DataFrame columns\n",
        "df.columns"
      ]
    },
    {
      "cell_type": "code",
      "execution_count": null,
      "id": "695b930a",
      "metadata": {
        "id": "695b930a",
        "outputId": "acb0f882-8de8-46d5-eed2-d4ae06d97ded"
      },
      "outputs": [],
      "source": [
        "# Info on DataFrame\n",
        "df.info()"
      ]
    },
    {
      "cell_type": "code",
      "execution_count": null,
      "id": "be231fa8",
      "metadata": {
        "id": "be231fa8",
        "outputId": "c243a545-7678-4467-df52-afcefd2347ee"
      },
      "outputs": [],
      "source": [
        "# Number of non-NA values\n",
        "df.count()"
      ]
    },
    {
      "cell_type": "code",
      "execution_count": null,
      "id": "71fb9189",
      "metadata": {},
      "outputs": [],
      "source": [
        "df[\"country\"].value_counts()"
      ]
    },
    {
      "cell_type": "markdown",
      "id": "5e534cba",
      "metadata": {
        "id": "5e534cba"
      },
      "source": [
        "## Summary"
      ]
    },
    {
      "cell_type": "code",
      "execution_count": null,
      "id": "5a8429aa",
      "metadata": {
        "id": "5a8429aa",
        "outputId": "2da42b8a-cc9f-4381-f2fd-7ad2677a0885"
      },
      "outputs": [],
      "source": [
        "# Sum of values\n",
        "sum_values = df['Population'].sum()\n",
        "\n",
        "# Cumulative sum of values\n",
        "cumulative_sum_values = df['Population'].cumsum()\n",
        "\n",
        "# Minimum/maximum values\n",
        "min_values = df['Population'].min()\n",
        "max_values = df['Population'].max()\n",
        "\n",
        "# Index of minimum/maximum values\n",
        "idx_min_values = df['Population'].idxmin()\n",
        "idx_max_values = df['Population'].idxmax()\n",
        "\n",
        "# Summary statistics\n",
        "summary_stats = df['Population'].describe()\n",
        "\n",
        "# Mean of values\n",
        "mean_values = df['Population'].mean()\n",
        "\n",
        "# Median of values\n",
        "median_values = df['Population'].median()\n",
        "\n",
        "print(\"Example DataFrame:\")\n",
        "print(df)\n",
        "\n",
        "print(\"\\nSum of values:\")\n",
        "print(sum_values)\n",
        "\n",
        "print(\"\\nCumulative sum of values:\")\n",
        "print(cumulative_sum_values)\n",
        "\n",
        "print(\"\\nMinimum values:\")\n",
        "print(min_values)\n",
        "\n",
        "print(\"\\nMaximum values:\")\n",
        "print(max_values)\n",
        "\n",
        "print(\"\\nIndex of minimum values:\")\n",
        "print(idx_min_values)\n",
        "\n",
        "print(\"\\nIndex of maximum values:\")\n",
        "print(idx_max_values)\n",
        "\n",
        "print(\"\\nSummary statistics:\")\n",
        "print(summary_stats)\n",
        "\n",
        "print(\"\\nMean values:\")\n",
        "print(mean_values)\n",
        "\n",
        "print(\"\\nMedian values:\")\n",
        "print(median_values)\n"
      ]
    },
    {
      "cell_type": "code",
      "execution_count": null,
      "id": "9dcc262c",
      "metadata": {},
      "outputs": [],
      "source": [
        "# easier way to get the summaries\n",
        "df.describe()\n",
        "# df.describe().T"
      ]
    },
    {
      "cell_type": "markdown",
      "id": "3708dad4",
      "metadata": {},
      "source": [
        "# Introduction to data profiling"
      ]
    },
    {
      "cell_type": "code",
      "execution_count": null,
      "id": "1c09b5ac",
      "metadata": {},
      "outputs": [],
      "source": [
        "from ydata_profiling import ProfileReport\n",
        "profile = ProfileReport(df, title=\"Profiling Report\",explorative=True)\n",
        "# profile.to_widgets()\n",
        "# profile.to_notebook_iframe()\n",
        "# profile.to_file(\"your_report.html\")"
      ]
    },
    {
      "cell_type": "markdown",
      "id": "7da015f7",
      "metadata": {
        "id": "7da015f7"
      },
      "source": [
        "## Internal Data Alignment\n"
      ]
    },
    {
      "cell_type": "code",
      "execution_count": null,
      "id": "7758b275",
      "metadata": {
        "id": "7758b275",
        "outputId": "9f9234da-ac28-42bb-b7cf-9cd03f45d869"
      },
      "outputs": [],
      "source": [
        "# Create Series with different indices\n",
        "import pandas as pd\n",
        "\n",
        "# Create a pandas Series representing monthly sales data\n",
        "sales_data_1 = pd.Series(\n",
        "    [1500, 1200, 1800, 1600, 1300, 1700, 1400, 1500, 1600, 1800],\n",
        "    index=['jan', 'feb', 'mar', 'apr', 'may', 'jun', 'jul', 'aug', 'sep', 'oct']\n",
        ")\n",
        "\n",
        "# Print the pandas Series\n",
        "print(\"Monthly Sales Data:\")\n",
        "print(sales_data)\n",
        "\n",
        "# Create a pandas Series representing monthly sales data with different values\n",
        "sales_data_2 = pd.Series(\n",
        "    [500, 300, 700, 800, 600, 900, 1000, 1100, 1200, 1300],\n",
        "    index=['jan', 'feb', 'mar', 'apr', 'may', 'jun', 'jul', 'aug', 'sep', 'oct']\n",
        ")\n",
        "\n",
        "# Print the pandas Series\n",
        "print(\"Monthly Sales Data:\")\n",
        "print(sales_data)"
      ]
    },
    {
      "cell_type": "code",
      "execution_count": null,
      "id": "93c866cc",
      "metadata": {
        "id": "93c866cc",
        "outputId": "e1573639-9d90-4277-9f3f-d49b7136da95"
      },
      "outputs": [],
      "source": [
        "# Add two Series with different indices\n",
        "result = sales_data_1 + sales_data_2\n",
        "result"
      ]
    },
    {
      "cell_type": "markdown",
      "id": "5f62e0fe",
      "metadata": {
        "id": "5f62e0fe"
      },
      "source": [
        "## Arithmetic Operations with Fill Methods"
      ]
    },
    {
      "cell_type": "code",
      "execution_count": null,
      "id": "b1da5cf4",
      "metadata": {
        "id": "b1da5cf4",
        "outputId": "b8df1431-d7bc-4533-de8a-e42c97c57654"
      },
      "outputs": [],
      "source": [
        "sales_data_1 = pd.Series(\n",
        "    [1500, 1200, 1800, 1600, 1300, 1400, 1500, 1600, 1800],\n",
        "    index=['jan', 'feb', 'mar', 'apr',  'jun', 'jul', 'aug', 'sep', 'oct']\n",
        ")\n",
        "sales_data_2 = pd.Series(\n",
        "    [500, 300, 700, 800, 600, 900, 1000, 1100, 1300],\n",
        "    index=['jan', 'feb', 'mar', 'apr', 'may', 'jun', 'jul', 'aug', 'oct']\n",
        ")\n",
        "\n",
        "# Perform arithmetic operations with fill methods\n",
        "result_add = sales_data_1.add(sales_data_2, fill_value=0)\n",
        "result_sub = sales_data_1.sub(sales_data_2, fill_value=2)\n",
        "result_div = sales_data_1.div(sales_data_2, fill_value=4)\n",
        "result_mul = sales_data_1.mul(sales_data_2, fill_value=3)\n",
        "\n",
        "print(\"result_add:\")\n",
        "print(result_add)\n",
        "\n",
        "print(\"\\nresult_sub:\")\n",
        "print(result_sub)\n",
        "\n",
        "print(\"\\nresult_div:\")\n",
        "print(result_div)\n",
        "\n",
        "print(\"\\nresult_mul:\")\n",
        "print(result_mul)"
      ]
    },
    {
      "cell_type": "markdown",
      "id": "3e3c7ab3",
      "metadata": {
        "id": "3e3c7ab3"
      },
      "source": [
        "## Asking For Help"
      ]
    },
    {
      "cell_type": "code",
      "execution_count": null,
      "id": "4d12c36b",
      "metadata": {
        "id": "4d12c36b",
        "outputId": "70899690-4617-4194-c8ab-526ebf8a35da"
      },
      "outputs": [],
      "source": [
        "# Display help for a function or object\n",
        "help(pd.Series.loc)"
      ]
    }
  ],
  "metadata": {
    "colab": {
      "provenance": []
    },
    "kernelspec": {
      "display_name": "Python 3 (ipykernel)",
      "language": "python",
      "name": "python3"
    },
    "language_info": {
      "codemirror_mode": {
        "name": "ipython",
        "version": 3
      },
      "file_extension": ".py",
      "mimetype": "text/x-python",
      "name": "python",
      "nbconvert_exporter": "python",
      "pygments_lexer": "ipython3",
      "version": "3.10.9"
    }
  },
  "nbformat": 4,
  "nbformat_minor": 5
}
