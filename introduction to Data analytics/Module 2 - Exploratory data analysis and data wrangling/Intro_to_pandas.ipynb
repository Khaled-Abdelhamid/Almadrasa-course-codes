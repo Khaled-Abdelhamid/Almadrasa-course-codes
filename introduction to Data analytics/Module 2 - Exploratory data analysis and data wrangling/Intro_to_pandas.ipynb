{
 "cells": [
  {
   "cell_type": "markdown",
   "metadata": {},
   "source": [
    "# Introduction to Pandas\n",
    "\n",
    "<img src=\"https://raw.githubusercontent.com/fralfaro/DS-Cheat-Sheets/main/docs/examples/pandas/pandas.png\" alt=\"numpy logo\" width = \"300\">\n",
    "\n",
    "[Pandas](https://pandas.pydata.org/) is built on NumPy and provides easy-to-use\n",
    "data structures and data analysis tools for the Python\n",
    "programming language.\n",
    "\n",
    "## Install and import Pandas\n",
    "\n",
    "`\n",
    "$ pip install pandas\n",
    "`"
   ]
  },
  {
   "cell_type": "code",
   "execution_count": null,
   "metadata": {},
   "outputs": [],
   "source": [
    "# Import Pandas convention\n",
    "import pandas as pd"
   ]
  },
  {
   "cell_type": "markdown",
   "metadata": {},
   "source": [
    "## Pandas Data Structures"
   ]
  },
  {
   "cell_type": "markdown",
   "metadata": {},
   "source": [
    "### Series\n",
    "\n",
    "<img src=\"https://raw.githubusercontent.com/fralfaro/DS-Cheat-Sheets/main/docs/examples/pandas/serie.png\" alt=\"numpy logo\" >\n",
    "\n",
    "A **one-dimensional** labeled array a capable of holding any data type."
   ]
  },
  {
   "cell_type": "code",
   "execution_count": null,
   "metadata": {},
   "outputs": [],
   "source": [
    "# Import pandas\n",
    "import pandas as pd\n",
    "\n",
    "# Create a pandas Series representing monthly sales data\n",
    "sales_data = pd.Series(\n",
    "    [1500, 1200, 1800, 1600, 1300, 1700, 1400, 1500, 1600, 1800],\n",
    "    index=['jan', 'feb', 'mar', 'apr', 'may', 'jun', 'jul', 'aug', 'sep', 'oct']\n",
    ")\n",
    "\n",
    "# Print the pandas Series\n",
    "print(\"Monthly Sales Data:\")\n",
    "print(sales_data)\n",
    "print(type(sales_data))"
   ]
  },
  {
   "cell_type": "markdown",
   "metadata": {},
   "source": [
    "### DataFrame\n",
    "\n",
    "<img src=\"https://raw.githubusercontent.com/fralfaro/DS-Cheat-Sheets/main/docs/examples/pandas/df.png\" alt=\"numpy logo\" >\n",
    "\n",
    "**two-dimensional** labeled data structure with columns of potentially different types."
   ]
  },
  {
   "cell_type": "code",
   "execution_count": null,
   "metadata": {},
   "outputs": [],
   "source": [
    "# Create a pandas DataFrame with more instances\n",
    "data = {\n",
    "    'country': ['United States', 'China', 'Japan', 'Germany', 'United Kingdom', 'India', 'France', 'Italy', 'Brazil', 'Canada'],\n",
    "    'capital': ['Washington, D.C.', 'Beijing', 'Tokyo', 'Berlin', 'London', 'New Delhi', 'Paris', 'Rome', 'Brasília', 'Ottawa'],\n",
    "    'population': [331449281, 1393000000, 126476461, 83783945, 67886011, 1303171035, 67186600, 60277900, 211050000, 37742154],\n",
    "    'GDP': [21.44, 14.34, 5.07, 4.01, 2.99, 3.11, 2.78, 2.15, 1.77, 1.73]\n",
    "}\n",
    "df = pd.DataFrame(\n",
    "    data,\n",
    "    columns=['country', 'capital', 'population', 'GDP']\n",
    ")\n",
    "\n",
    "# Print the DataFrame 'df'\n",
    "print(\"\\ndf:\")\n",
    "df"
   ]
  },
  {
   "cell_type": "code",
   "execution_count": null,
   "metadata": {},
   "outputs": [],
   "source": [
    "import pandas as pd\n",
    "\n",
    "# Original data structure\n",
    "data_list_of_dicts = [\n",
    "    {\"country\": \"United States\",\"capital\": \"Washington, D.C.\",\"population\": 331449281,\"GDP\": 21.44,},\n",
    "    {\"country\": \"China\", \"capital\": \"Beijing\", \"population\": 1393000000, \"GDP\": 14.34},\n",
    "    {\"country\": \"Japan\", \"capital\": \"Tokyo\", \"population\": 126476461, \"GDP\": 5.07},\n",
    "    {\"country\": \"Germany\", \"capital\": \"Berlin\", \"population\": 83783945, \"GDP\": 4.01},\n",
    "    {\"country\": \"United Kingdom\",\"capital\": \"London\",\"population\": 67886011,\"GDP\": 2.99},\n",
    "    {\"country\": \"India\", \"capital\": \"New Delhi\", \"population\": 1303171035, \"GDP\": 3.11},\n",
    "    {\"country\": \"France\", \"capital\": \"Paris\", \"population\": 67186600, \"GDP\": 2.78},\n",
    "    {\"country\": \"Italy\", \"capital\": \"Rome\", \"population\": 60277900, \"GDP\": 2.15},\n",
    "    {\"country\": \"Brazil\", \"capital\": \"Brasília\", \"population\": 211050000, \"GDP\": 1.77},\n",
    "    {\"country\": \"Canada\", \"capital\": \"Ottawa\", \"population\": 37742154, \"GDP\": 1.73},\n",
    "]\n",
    "\n",
    "# Creating DataFrame from list of dictionaries\n",
    "df = pd.DataFrame(\n",
    "    data_list_of_dicts, columns=[\"country\", \"capital\", \"population\", \"GDP\"]\n",
    ")\n",
    "df.sample()"
   ]
  },
  {
   "cell_type": "markdown",
   "metadata": {},
   "source": [
    "# How to read Data"
   ]
  },
  {
   "cell_type": "markdown",
   "metadata": {},
   "source": [
    "## Read csv files"
   ]
  },
  {
   "cell_type": "code",
   "execution_count": null,
   "metadata": {},
   "outputs": [],
   "source": [
    "import pandas as pd"
   ]
  },
  {
   "cell_type": "code",
   "execution_count": null,
   "metadata": {},
   "outputs": [],
   "source": [
    "covid_df = pd.read_csv('./pandas_data/covid19-og.csv')\n",
    "covid_df"
   ]
  },
  {
   "cell_type": "code",
   "execution_count": null,
   "metadata": {},
   "outputs": [],
   "source": [
    "# Load the first 10 rows of the AirBnb NYC 2019 dataset for quick inspection\n",
    "nyc_df = pd.read_csv(\"./pandas_data/AirBnb_NYC_2019.csv\", index_col=0)\n",
    "nyc_df"
   ]
  },
  {
   "cell_type": "code",
   "execution_count": null,
   "metadata": {},
   "outputs": [],
   "source": [
    "# Load the dataset with multi-level indices and headers\n",
    "warehouse_df = pd.read_csv(\n",
    "    \"./pandas_data/multi_index_warehouses.csv\", index_col=[0, 1, 2], header=[0, 1]\n",
    ")\n",
    "warehouse_df"
   ]
  },
  {
   "cell_type": "markdown",
   "metadata": {},
   "source": [
    "## Read Excel files"
   ]
  },
  {
   "cell_type": "code",
   "execution_count": null,
   "metadata": {},
   "outputs": [],
   "source": [
    "pd.read_excel(\"./pandas_data/covid19.xlsx\", sheet_name=\"gre\")"
   ]
  },
  {
   "cell_type": "markdown",
   "metadata": {},
   "source": [
    "## Read JSON files"
   ]
  },
  {
   "cell_type": "code",
   "execution_count": null,
   "metadata": {},
   "outputs": [],
   "source": [
    "pd.read_json(\"./pandas_data/admits.json\")"
   ]
  },
  {
   "cell_type": "markdown",
   "metadata": {},
   "source": [
    "# Editing the DF"
   ]
  },
  {
   "cell_type": "markdown",
   "metadata": {},
   "source": [
    "## Renaming indices/columns"
   ]
  },
  {
   "cell_type": "code",
   "execution_count": null,
   "metadata": {},
   "outputs": [],
   "source": [
    "import pandas as pd\n",
    "\n",
    "# Original data structure\n",
    "data_list_of_dicts = [\n",
    "    {\"country\": \"United States\",\"capital\": \"Washington, D.C.\",\"population\": 331449281,\"GDP\": 21.44},\n",
    "    {\"country\": \"China\", \"capital\": \"Beijing\", \"population\": 1393000000, \"GDP\": 14.34},\n",
    "    {\"country\": \"Japan\", \"capital\": \"Tokyo\", \"population\": 126476461, \"GDP\": 5.07},\n",
    "    {\"country\": \"Germany\", \"capital\": \"Berlin\", \"population\": 83783945, \"GDP\": 4.01},\n",
    "    {\"country\": \"United Kingdom\",\"capital\": \"London\",\"population\": 67886011,\"GDP\": 2.99},\n",
    "    {\"country\": \"India\", \"capital\": \"New Delhi\", \"population\": 1303171035, \"GDP\": 3.11},\n",
    "    {\"country\": \"France\", \"capital\": \"Paris\", \"population\": 67186600, \"GDP\": 2.78},\n",
    "    {\"country\": \"Italy\", \"capital\": \"Rome\", \"population\": 60277900, \"GDP\": 2.15},\n",
    "    {\"country\": \"Brazil\", \"capital\": \"Brasília\", \"population\": 211050000, \"GDP\": 1.77},\n",
    "    {\"country\": \"Canada\", \"capital\": \"Ottawa\", \"population\": 37742154, \"GDP\": 1.73},\n",
    "]\n",
    "\n",
    "# Creating DataFrame from list of dictionaries\n",
    "df = pd.DataFrame(\n",
    "    data_list_of_dicts, columns=[\"country\", \"capital\", \"population\", \"GDP\"]\n",
    ")\n",
    "df.head(10)"
   ]
  },
  {
   "cell_type": "code",
   "execution_count": null,
   "metadata": {},
   "outputs": [],
   "source": [
    "new_df = df.set_index(\"country\")\n",
    "new_df.rename({\"united States\": \"us\", \"United Kingdom\": \"uk\"}, axis=0,inplace=True)\n",
    "new_df"
   ]
  },
  {
   "cell_type": "code",
   "execution_count": null,
   "metadata": {},
   "outputs": [],
   "source": [
    "df.rename({0: \"zero\"}, axis=0)"
   ]
  },
  {
   "cell_type": "code",
   "execution_count": null,
   "metadata": {},
   "outputs": [],
   "source": [
    "df.rename({\"population\": \"population_number\",\"GDP\" : \"gross_domestic_product\"}, axis=1)"
   ]
  },
  {
   "cell_type": "code",
   "execution_count": null,
   "metadata": {},
   "outputs": [],
   "source": [
    "import pandas as pd\n",
    "\n",
    "# Original data structure\n",
    "data_list_of_dicts = [\n",
    "    {\"Country\": \"United States\",\"Capital\": \"Washington, D.C.\",\"Population Number\": 331449281,\"Gross Domestic Product\": 21.44},\n",
    "    {\"Country\": \"China\", \"Capital\": \"Beijing\", \"Population Number\": 1393000000, \"Gross Domestic Product\": 14.34},\n",
    "    {\"Country\": \"Japan\", \"Capital\": \"Tokyo\", \"Population Number\": 126476461, \"Gross Domestic Product\": 5.07},\n",
    "    {\"Country\": \"Germany\", \"Capital\": \"Berlin\", \"Population Number\": 83783945, \"Gross Domestic Product\": 4.01},\n",
    "    {\"Country\": \"United Kingdom\",\"Capital\": \"London\",\"Population Number\": 67886011,\"Gross Domestic Product\": 2.99},\n",
    "    {\"Country\": \"India\", \"Capital\": \"New Delhi\", \"Population Number\": 1303171035, \"Gross Domestic Product\": 3.11},\n",
    "    {\"Country\": \"France\", \"Capital\": \"Paris\", \"Population Number\": 67186600, \"Gross Domestic Product\": 2.78},\n",
    "    {\"Country\": \"Italy\", \"Capital\": \"Rome\", \"Population Number\": 60277900, \"Gross Domestic Product\": 2.15},\n",
    "    {\"Country\": \"Brazil\", \"Capital\": \"Brasília\", \"Population Number\": 211050000, \"Gross Domestic Product\": 1.77},\n",
    "    {\"Country\": \"Canada\", \"Capital\": \"Ottawa\", \"Population Number\": 37742154, \"Gross Domestic Product\": 1.73},\n",
    "]\n",
    "\n",
    "# Creating DataFrame from list of dictionaries\n",
    "df = pd.DataFrame(\n",
    "    data_list_of_dicts, columns=[\"Country\", \"Capital\", \"Population Number\", \"Gross Domestic Product\"]\n",
    ")\n",
    "df.head(10)"
   ]
  },
  {
   "cell_type": "code",
   "execution_count": null,
   "metadata": {},
   "outputs": [],
   "source": [
    "df.columns = df.columns.str.lower().str.replace(\" \",\"_\")\n",
    "df"
   ]
  },
  {
   "cell_type": "code",
   "execution_count": null,
   "metadata": {},
   "outputs": [],
   "source": [
    "df.columns = [col.lower().replace(\" \", \"_\") for col in df.columns]\n",
    "df"
   ]
  },
  {
   "cell_type": "markdown",
   "metadata": {},
   "source": [
    "## Getting Elements\n"
   ]
  },
  {
   "cell_type": "code",
   "execution_count": null,
   "metadata": {},
   "outputs": [],
   "source": [
    "# Import pandas\n",
    "import pandas as pd\n",
    "\n",
    "# Create a pandas Series representing monthly sales data\n",
    "sales_data = pd.Series(\n",
    "    [1500, 1200, 1800, 1600, 1300, 1700, 1400, 1500, 1600, 1800],\n",
    "    index=[\"jan\", \"feb\", \"mar\", \"apr\", \"may\", \"jun\", \"jul\", \"aug\", \"sep\", \"oct\"],\n",
    ")\n",
    "sales_data"
   ]
  },
  {
   "cell_type": "code",
   "execution_count": null,
   "metadata": {},
   "outputs": [],
   "source": [
    "# Get one element from a Series\n",
    "sales_data[\"jan\"]\n",
    "\n",
    "# # another way to do it\n",
    "# sales_data.jan"
   ]
  },
  {
   "cell_type": "code",
   "execution_count": null,
   "metadata": {},
   "outputs": [],
   "source": [
    "sales_data[[\"jan\", \"apr\"]]"
   ]
  },
  {
   "cell_type": "code",
   "execution_count": null,
   "metadata": {},
   "outputs": [],
   "source": [
    "# Get subset of a DataFrame\n",
    "sales_data[1:6:2]"
   ]
  },
  {
   "cell_type": "code",
   "execution_count": null,
   "metadata": {},
   "outputs": [],
   "source": [
    "sales_data[sales_data > 1500]"
   ]
  },
  {
   "cell_type": "code",
   "execution_count": null,
   "metadata": {},
   "outputs": [],
   "source": [
    "import pandas as pd\n",
    "\n",
    "# Original data structure\n",
    "data_list_of_dicts = [\n",
    "    {\n",
    "        \"country\": \"United States\",\n",
    "        \"capital\": \"Washington, D.C.\",\n",
    "        \"population\": 331449281,\n",
    "        \"GDP\": 21.44,\n",
    "    },\n",
    "    {\"country\": \"China\", \"capital\": \"Beijing\", \"population\": 1393000000, \"GDP\": 14.34},\n",
    "    {\"country\": \"Japan\", \"capital\": \"Tokyo\", \"population\": 126476461, \"GDP\": 5.07},\n",
    "    {\"country\": \"Germany\", \"capital\": \"Berlin\", \"population\": 83783945, \"GDP\": 4.01},\n",
    "    {\n",
    "        \"country\": \"United Kingdom\",\n",
    "        \"capital\": \"London\",\n",
    "        \"population\": 67886011,\n",
    "        \"GDP\": 2.99,\n",
    "    },\n",
    "    {\"country\": \"India\", \"capital\": \"New Delhi\", \"population\": 1303171035, \"GDP\": 3.11},\n",
    "    {\"country\": \"France\", \"capital\": \"Paris\", \"population\": 67186600, \"GDP\": 2.78},\n",
    "    {\"country\": \"Italy\", \"capital\": \"Rome\", \"population\": 60277900, \"GDP\": 2.15},\n",
    "    {\"country\": \"Brazil\", \"capital\": \"Brasília\", \"population\": 211050000, \"GDP\": 1.77},\n",
    "    {\"country\": \"Canada\", \"capital\": \"Ottawa\", \"population\": 37742154, \"GDP\": 1.73},\n",
    "]\n",
    "\n",
    "# Creating DataFrame from list of dictionaries\n",
    "df = pd.DataFrame(\n",
    "    data_list_of_dicts, columns=[\"country\", \"capital\", \"population\", \"GDP\"]\n",
    ")\n",
    "df.head(10)"
   ]
  },
  {
   "cell_type": "code",
   "execution_count": null,
   "metadata": {},
   "outputs": [],
   "source": [
    "df[(df[\"GDP\"] > 10) | (df[\"population\"] > 331449281)]"
   ]
  },
  {
   "cell_type": "markdown",
   "metadata": {},
   "source": [
    "## Dropping\n"
   ]
  },
  {
   "cell_type": "code",
   "execution_count": null,
   "metadata": {},
   "outputs": [],
   "source": [
    "# Import pandas\n",
    "import pandas as pd\n",
    "\n",
    "# Create a pandas Series representing monthly sales data\n",
    "sales_data = pd.Series(\n",
    "    [1500, 1200, 1800, 1600, 1300, 1700, 1400, 1500, 1600, 1800],\n",
    "    index=[\"jan\", \"feb\", \"mar\", \"apr\", \"may\", \"jun\", \"jul\", \"aug\", \"sep\", \"oct\"],\n",
    ")\n",
    "sales_data"
   ]
  },
  {
   "cell_type": "code",
   "execution_count": null,
   "metadata": {},
   "outputs": [],
   "source": [
    "# Drop values from rows (axis=0)\n",
    "sales_data.drop(['may', 'mar'])"
   ]
  },
  {
   "cell_type": "code",
   "execution_count": null,
   "metadata": {},
   "outputs": [],
   "source": [
    "import pandas as pd\n",
    "\n",
    "# Original data structure\n",
    "data_list_of_dicts = [\n",
    "    {\"country\": \"United States\",\"capital\": \"Washington, D.C.\",\"population\": 331449281,\"GDP\": 21.44},\n",
    "    {\"country\": \"China\", \"capital\": \"Beijing\", \"population\": 1393000000, \"GDP\": 14.34},\n",
    "    {\"country\": \"Japan\", \"capital\": \"Tokyo\", \"population\": 126476461, \"GDP\": 5.07},\n",
    "    {\"country\": \"Germany\", \"capital\": \"Berlin\", \"population\": 83783945, \"GDP\": 4.01},\n",
    "    {\"country\": \"United Kingdom\",\"capital\": \"London\",\"population\": 67886011,\"GDP\": 2.99},\n",
    "    {\"country\": \"India\", \"capital\": \"New Delhi\", \"population\": 1303171035, \"GDP\": 3.11},\n",
    "    {\"country\": \"France\", \"capital\": \"Paris\", \"population\": 67186600, \"GDP\": 2.78},\n",
    "    {\"country\": \"Italy\", \"capital\": \"Rome\", \"population\": 60277900, \"GDP\": 2.15},\n",
    "    {\"country\": \"Brazil\", \"capital\": \"Brasília\", \"population\": 211050000, \"GDP\": 1.77},\n",
    "    {\"country\": \"Canada\", \"capital\": \"Ottawa\", \"population\": 37742154, \"GDP\": 1.73},\n",
    "]\n",
    "\n",
    "# Creating DataFrame from list of dictionaries\n",
    "df = pd.DataFrame(\n",
    "    data_list_of_dicts, columns=[\"country\", \"capital\", \"population\", \"GDP\"]\n",
    ")\n",
    "df.head(20)"
   ]
  },
  {
   "cell_type": "code",
   "execution_count": null,
   "metadata": {},
   "outputs": [],
   "source": [
    "df.drop_duplicates(subset=[\"country\", \"capital\"],keep=\"last\")"
   ]
  },
  {
   "cell_type": "code",
   "execution_count": null,
   "metadata": {},
   "outputs": [],
   "source": [
    "df.duplicated(subset=[\"country\", \"capital\"]).sum()"
   ]
  },
  {
   "cell_type": "code",
   "execution_count": null,
   "metadata": {},
   "outputs": [],
   "source": [
    "import pandas as pd\n",
    "\n",
    "# Assuming the original DataFrame creation code remains unchanged\n",
    "data_list_of_dicts = [\n",
    "    {\"country\": \"United States\",\"capital\": \"Washington, D.C.\",\"population\": 331449281,\"GDP\": 21.44},\n",
    "    {\"country\": \"China\", \"capital\": \"Beijing\", \"population\": 1393000000, \"GDP\": 14.34},\n",
    "    {\"country\": \"Japan\", \"capital\": \"Tokyo\", \"population\": 126476461, \"GDP\": 5.07},\n",
    "    {\"country\": \"Germany\", \"capital\": \"Berlin\", \"population\": 83783945, \"GDP\": 4.01},\n",
    "    {\"country\": \"United Kingdom\",\"capital\": \"London\",\"population\": 67886011,\"GDP\": 2.99},\n",
    "    {\"capital\": \"New Delhi\", \"population\": 1303171035, \"GDP\": 3.11},\n",
    "    {\"country\": \"France\", \"capital\": \"Paris\", \"population\": 67186600},\n",
    "    {\"country\": \"Italy\", \"capital\": \"Rome\", \"population\": 60277900, \"GDP\": 2.15},\n",
    "    {\"country\": \"Brazil\", \"capital\": \"Brasília\", \"GDP\": 1.77},\n",
    "    {\"country\": \"Canada\", \"capital\": \"Ottawa\", \"population\": 37742154, \"GDP\": 1.73},\n",
    "]\n",
    "\n",
    "df = pd.DataFrame(\n",
    "    data_list_of_dicts, columns=[\"country\", \"capital\", \"population\", \"GDP\"]\n",
    ")\n",
    "df\n",
    "\n"
   ]
  },
  {
   "cell_type": "code",
   "execution_count": null,
   "metadata": {},
   "outputs": [],
   "source": [
    "na_counts = df.isna().sum()\n",
    "print(na_counts)"
   ]
  },
  {
   "cell_type": "code",
   "execution_count": null,
   "metadata": {},
   "outputs": [],
   "source": [
    "# Dropping rows with any NaN values\n",
    "df.dropna()"
   ]
  },
  {
   "cell_type": "markdown",
   "metadata": {},
   "source": [
    "## Applying Functions\n"
   ]
  },
  {
   "cell_type": "code",
   "execution_count": null,
   "metadata": {},
   "outputs": [],
   "source": [
    "df"
   ]
  },
  {
   "cell_type": "code",
   "execution_count": null,
   "metadata": {},
   "outputs": [],
   "source": [
    "# Apply function to DataFrame\n",
    "df.apply(lambda x: x/2)"
   ]
  },
  {
   "cell_type": "code",
   "execution_count": null,
   "metadata": {},
   "outputs": [],
   "source": [
    "df[\"country\"] = df[\"country\"].apply(lambda x: x.upper())\n",
    "df[\"capital\"] = df[\"capital\"].apply(lambda x: x.lower())\n",
    "\n",
    "df"
   ]
  },
  {
   "cell_type": "markdown",
   "metadata": {},
   "source": [
    "## TQDM with pandas"
   ]
  },
  {
   "cell_type": "code",
   "execution_count": null,
   "metadata": {},
   "outputs": [],
   "source": [
    "import time\n",
    "\n",
    "def placeholder_function(x):\n",
    "    time.sleep(0.5)\n",
    "    return x.upper()\n",
    "\n",
    "\n"
   ]
  },
  {
   "cell_type": "code",
   "execution_count": null,
   "metadata": {},
   "outputs": [],
   "source": [
    "from tqdm import tqdm\n",
    "# # Create new `pandas` methods which use `tqdm` progress\n",
    "# # (can use tqdm_gui, optional kwargs, etc.)\n",
    "tqdm.pandas()\n",
    "\n",
    "df[\"country\"] = df[\"country\"].progress_apply(placeholder_function)\n",
    "\n",
    "df"
   ]
  },
  {
   "cell_type": "code",
   "execution_count": null,
   "metadata": {},
   "outputs": [],
   "source": [
    "# Even better progress bar\n",
    "from tqdm.auto import tqdm\n",
    "# Create new `pandas` methods which use `tqdm` progress\n",
    "# (can use tqdm_gui, optional kwargs, etc.)\n",
    "tqdm.pandas()\n",
    "\n",
    "df[\"country\"] = df[\"country\"].progress_apply(placeholder_function)\n",
    "\n",
    "df"
   ]
  },
  {
   "cell_type": "markdown",
   "metadata": {},
   "source": [
    "## Basic Information\n"
   ]
  },
  {
   "cell_type": "code",
   "execution_count": 55,
   "metadata": {},
   "outputs": [
    {
     "data": {
      "text/html": [
       "<div>\n",
       "<style scoped>\n",
       "    .dataframe tbody tr th:only-of-type {\n",
       "        vertical-align: middle;\n",
       "    }\n",
       "\n",
       "    .dataframe tbody tr th {\n",
       "        vertical-align: top;\n",
       "    }\n",
       "\n",
       "    .dataframe thead th {\n",
       "        text-align: right;\n",
       "    }\n",
       "</style>\n",
       "<table border=\"1\" class=\"dataframe\">\n",
       "  <thead>\n",
       "    <tr style=\"text-align: right;\">\n",
       "      <th></th>\n",
       "      <th>country</th>\n",
       "      <th>capital</th>\n",
       "      <th>population</th>\n",
       "      <th>GDP</th>\n",
       "    </tr>\n",
       "  </thead>\n",
       "  <tbody>\n",
       "    <tr>\n",
       "      <th>0</th>\n",
       "      <td>United States</td>\n",
       "      <td>Washington, D.C.</td>\n",
       "      <td>331449281</td>\n",
       "      <td>21.44</td>\n",
       "    </tr>\n",
       "    <tr>\n",
       "      <th>1</th>\n",
       "      <td>China</td>\n",
       "      <td>Beijing</td>\n",
       "      <td>1393000000</td>\n",
       "      <td>14.34</td>\n",
       "    </tr>\n",
       "    <tr>\n",
       "      <th>2</th>\n",
       "      <td>Japan</td>\n",
       "      <td>Tokyo</td>\n",
       "      <td>126476461</td>\n",
       "      <td>5.07</td>\n",
       "    </tr>\n",
       "    <tr>\n",
       "      <th>3</th>\n",
       "      <td>Germany</td>\n",
       "      <td>Berlin</td>\n",
       "      <td>83783945</td>\n",
       "      <td>4.01</td>\n",
       "    </tr>\n",
       "    <tr>\n",
       "      <th>4</th>\n",
       "      <td>United Kingdom</td>\n",
       "      <td>London</td>\n",
       "      <td>67886011</td>\n",
       "      <td>2.99</td>\n",
       "    </tr>\n",
       "    <tr>\n",
       "      <th>5</th>\n",
       "      <td>India</td>\n",
       "      <td>New Delhi</td>\n",
       "      <td>1303171035</td>\n",
       "      <td>3.11</td>\n",
       "    </tr>\n",
       "    <tr>\n",
       "      <th>6</th>\n",
       "      <td>France</td>\n",
       "      <td>Paris</td>\n",
       "      <td>67186600</td>\n",
       "      <td>2.78</td>\n",
       "    </tr>\n",
       "    <tr>\n",
       "      <th>7</th>\n",
       "      <td>Italy</td>\n",
       "      <td>Rome</td>\n",
       "      <td>60277900</td>\n",
       "      <td>2.15</td>\n",
       "    </tr>\n",
       "    <tr>\n",
       "      <th>8</th>\n",
       "      <td>Brazil</td>\n",
       "      <td>Brasília</td>\n",
       "      <td>211050000</td>\n",
       "      <td>1.77</td>\n",
       "    </tr>\n",
       "    <tr>\n",
       "      <th>9</th>\n",
       "      <td>Canada</td>\n",
       "      <td>Ottawa</td>\n",
       "      <td>37742154</td>\n",
       "      <td>1.73</td>\n",
       "    </tr>\n",
       "  </tbody>\n",
       "</table>\n",
       "</div>"
      ],
      "text/plain": [
       "          country           capital  population    GDP\n",
       "0   United States  Washington, D.C.   331449281  21.44\n",
       "1           China           Beijing  1393000000  14.34\n",
       "2           Japan             Tokyo   126476461   5.07\n",
       "3         Germany            Berlin    83783945   4.01\n",
       "4  United Kingdom            London    67886011   2.99\n",
       "5           India         New Delhi  1303171035   3.11\n",
       "6          France             Paris    67186600   2.78\n",
       "7           Italy              Rome    60277900   2.15\n",
       "8          Brazil          Brasília   211050000   1.77\n",
       "9          Canada            Ottawa    37742154   1.73"
      ]
     },
     "execution_count": 55,
     "metadata": {},
     "output_type": "execute_result"
    }
   ],
   "source": [
    "import pandas as pd\n",
    "\n",
    "# Original data structure\n",
    "data_list_of_dicts = [\n",
    "    {\"country\": \"United States\",\"capital\": \"Washington, D.C.\",\"population\": 331449281,\"GDP\": 21.44},\n",
    "    {\"country\": \"China\", \"capital\": \"Beijing\", \"population\": 1393000000, \"GDP\": 14.34},\n",
    "    {\"country\": \"Japan\", \"capital\": \"Tokyo\", \"population\": 126476461, \"GDP\": 5.07},\n",
    "    {\"country\": \"Germany\", \"capital\": \"Berlin\", \"population\": 83783945, \"GDP\": 4.01},\n",
    "    {\"country\": \"United Kingdom\",\"capital\": \"London\",\"population\": 67886011,\"GDP\": 2.99},\n",
    "    {\"country\": \"India\", \"capital\": \"New Delhi\", \"population\": 1303171035, \"GDP\": 3.11},\n",
    "    {\"country\": \"France\", \"capital\": \"Paris\", \"population\": 67186600, \"GDP\": 2.78},\n",
    "    {\"country\": \"Italy\", \"capital\": \"Rome\", \"population\": 60277900, \"GDP\": 2.15},\n",
    "    {\"country\": \"Brazil\", \"capital\": \"Brasília\", \"population\": 211050000, \"GDP\": 1.77},\n",
    "    {\"country\": \"Canada\", \"capital\": \"Ottawa\", \"population\": 37742154, \"GDP\": 1.73},\n",
    "]\n",
    "\n",
    "# Creating DataFrame from list of dictionaries\n",
    "df = pd.DataFrame(\n",
    "    data_list_of_dicts, columns=[\"country\", \"capital\", \"population\", \"GDP\"]\n",
    ")\n",
    "df.head(20)"
   ]
  },
  {
   "cell_type": "code",
   "execution_count": 12,
   "metadata": {},
   "outputs": [
    {
     "data": {
      "text/html": [
       "<div>\n",
       "<style scoped>\n",
       "    .dataframe tbody tr th:only-of-type {\n",
       "        vertical-align: middle;\n",
       "    }\n",
       "\n",
       "    .dataframe tbody tr th {\n",
       "        vertical-align: top;\n",
       "    }\n",
       "\n",
       "    .dataframe thead th {\n",
       "        text-align: right;\n",
       "    }\n",
       "</style>\n",
       "<table border=\"1\" class=\"dataframe\">\n",
       "  <thead>\n",
       "    <tr style=\"text-align: right;\">\n",
       "      <th></th>\n",
       "      <th>country</th>\n",
       "      <th>capital</th>\n",
       "      <th>population</th>\n",
       "      <th>GDP</th>\n",
       "    </tr>\n",
       "  </thead>\n",
       "  <tbody>\n",
       "    <tr>\n",
       "      <th>0</th>\n",
       "      <td>United States</td>\n",
       "      <td>Washington, D.C.</td>\n",
       "      <td>331449281</td>\n",
       "      <td>21.44</td>\n",
       "    </tr>\n",
       "    <tr>\n",
       "      <th>1</th>\n",
       "      <td>China</td>\n",
       "      <td>Beijing</td>\n",
       "      <td>1393000000</td>\n",
       "      <td>14.34</td>\n",
       "    </tr>\n",
       "    <tr>\n",
       "      <th>2</th>\n",
       "      <td>Japan</td>\n",
       "      <td>Tokyo</td>\n",
       "      <td>126476461</td>\n",
       "      <td>5.07</td>\n",
       "    </tr>\n",
       "    <tr>\n",
       "      <th>3</th>\n",
       "      <td>Germany</td>\n",
       "      <td>Berlin</td>\n",
       "      <td>83783945</td>\n",
       "      <td>4.01</td>\n",
       "    </tr>\n",
       "    <tr>\n",
       "      <th>4</th>\n",
       "      <td>United Kingdom</td>\n",
       "      <td>London</td>\n",
       "      <td>67886011</td>\n",
       "      <td>2.99</td>\n",
       "    </tr>\n",
       "    <tr>\n",
       "      <th>5</th>\n",
       "      <td>India</td>\n",
       "      <td>New Delhi</td>\n",
       "      <td>1303171035</td>\n",
       "      <td>3.11</td>\n",
       "    </tr>\n",
       "    <tr>\n",
       "      <th>6</th>\n",
       "      <td>France</td>\n",
       "      <td>Paris</td>\n",
       "      <td>67186600</td>\n",
       "      <td>2.78</td>\n",
       "    </tr>\n",
       "    <tr>\n",
       "      <th>7</th>\n",
       "      <td>Italy</td>\n",
       "      <td>Rome</td>\n",
       "      <td>60277900</td>\n",
       "      <td>2.15</td>\n",
       "    </tr>\n",
       "    <tr>\n",
       "      <th>8</th>\n",
       "      <td>Brazil</td>\n",
       "      <td>Brasília</td>\n",
       "      <td>211050000</td>\n",
       "      <td>1.77</td>\n",
       "    </tr>\n",
       "    <tr>\n",
       "      <th>9</th>\n",
       "      <td>Canada</td>\n",
       "      <td>Ottawa</td>\n",
       "      <td>37742154</td>\n",
       "      <td>1.73</td>\n",
       "    </tr>\n",
       "  </tbody>\n",
       "</table>\n",
       "</div>"
      ],
      "text/plain": [
       "          country           capital  population    GDP\n",
       "0   United States  Washington, D.C.   331449281  21.44\n",
       "1           China           Beijing  1393000000  14.34\n",
       "2           Japan             Tokyo   126476461   5.07\n",
       "3         Germany            Berlin    83783945   4.01\n",
       "4  United Kingdom            London    67886011   2.99\n",
       "5           India         New Delhi  1303171035   3.11\n",
       "6          France             Paris    67186600   2.78\n",
       "7           Italy              Rome    60277900   2.15\n",
       "8          Brazil          Brasília   211050000   1.77\n",
       "9          Canada            Ottawa    37742154   1.73"
      ]
     },
     "execution_count": 12,
     "metadata": {},
     "output_type": "execute_result"
    }
   ],
   "source": [
    "df"
   ]
  },
  {
   "cell_type": "code",
   "execution_count": 13,
   "metadata": {},
   "outputs": [
    {
     "data": {
      "text/plain": [
       "(10, 4)"
      ]
     },
     "execution_count": 13,
     "metadata": {},
     "output_type": "execute_result"
    }
   ],
   "source": [
    "# Get the shape (rows, columns)\n",
    "df.shape"
   ]
  },
  {
   "cell_type": "code",
   "execution_count": 18,
   "metadata": {},
   "outputs": [],
   "source": [
    "# df = df.set_index(\"country\")\n",
    "df = df.reset_index()"
   ]
  },
  {
   "cell_type": "code",
   "execution_count": 19,
   "metadata": {},
   "outputs": [
    {
     "data": {
      "text/plain": [
       "RangeIndex(start=0, stop=10, step=1)"
      ]
     },
     "execution_count": 19,
     "metadata": {},
     "output_type": "execute_result"
    }
   ],
   "source": [
    "# Describe index\n",
    "df.index"
   ]
  },
  {
   "cell_type": "code",
   "execution_count": 21,
   "metadata": {},
   "outputs": [
    {
     "data": {
      "text/plain": [
       "Index(['country', 'capital', 'population', 'GDP'], dtype='object')"
      ]
     },
     "execution_count": 21,
     "metadata": {},
     "output_type": "execute_result"
    }
   ],
   "source": [
    "# Describe DataFrame columns\n",
    "df.columns"
   ]
  },
  {
   "cell_type": "code",
   "execution_count": 22,
   "metadata": {},
   "outputs": [
    {
     "name": "stdout",
     "output_type": "stream",
     "text": [
      "<class 'pandas.core.frame.DataFrame'>\n",
      "RangeIndex: 10 entries, 0 to 9\n",
      "Data columns (total 4 columns):\n",
      " #   Column      Non-Null Count  Dtype  \n",
      "---  ------      --------------  -----  \n",
      " 0   country     10 non-null     object \n",
      " 1   capital     10 non-null     object \n",
      " 2   population  10 non-null     int64  \n",
      " 3   GDP         10 non-null     float64\n",
      "dtypes: float64(1), int64(1), object(2)\n",
      "memory usage: 448.0+ bytes\n"
     ]
    }
   ],
   "source": [
    "# Info on DataFrame\n",
    "df.info()"
   ]
  },
  {
   "cell_type": "code",
   "execution_count": 23,
   "metadata": {},
   "outputs": [
    {
     "data": {
      "text/plain": [
       "country       10\n",
       "capital       10\n",
       "population    10\n",
       "GDP           10\n",
       "dtype: int64"
      ]
     },
     "execution_count": 23,
     "metadata": {},
     "output_type": "execute_result"
    }
   ],
   "source": [
    "# Number of non-NA values\n",
    "df.count()"
   ]
  },
  {
   "cell_type": "code",
   "execution_count": 32,
   "metadata": {},
   "outputs": [
    {
     "data": {
      "text/plain": [
       "<Axes: >"
      ]
     },
     "execution_count": 32,
     "metadata": {},
     "output_type": "execute_result"
    },
    {
     "data": {
      "image/png": "[encoded data removed]",
      "text/plain": [
       "<Figure size 640x480 with 1 Axes>"
      ]
     },
     "metadata": {},
     "output_type": "display_data"
    }
   ],
   "source": [
    "df[\"country\"].value_counts()"
   ]
  },
  {
   "cell_type": "code",
   "execution_count": 39,
   "metadata": {},
   "outputs": [
    {
     "data": {
      "text/plain": [
       "<Axes: >"
      ]
     },
     "execution_count": 39,
     "metadata": {},
     "output_type": "execute_result"
    },
    {
     "data": {
      "image/png": "[encoded data removed]",
      "text/plain": [
       "<Figure size 640x480 with 1 Axes>"
      ]
     },
     "metadata": {},
     "output_type": "display_data"
    }
   ],
   "source": [
    "df[\"country\"].hist(xrot=40)"
   ]
  },
  {
   "cell_type": "markdown",
   "metadata": {},
   "source": [
    "## Summary"
   ]
  },
  {
   "cell_type": "code",
   "execution_count": 52,
   "metadata": {},
   "outputs": [
    {
     "data": {
      "text/plain": [
       "count    1.900000e+01\n",
       "mean     2.419256e+08\n",
       "std      3.974185e+08\n",
       "min      3.774215e+07\n",
       "25%      6.027790e+07\n",
       "50%      8.378394e+07\n",
       "75%      2.110500e+08\n",
       "max      1.393000e+09\n",
       "Name: population, dtype: float64"
      ]
     },
     "execution_count": 52,
     "metadata": {},
     "output_type": "execute_result"
    }
   ],
   "source": [
    "# Sum of values\n",
    "df['population'].sum()\n",
    "\n",
    "# # Cumulative sum of values\n",
    "df['population'].cumsum()\n",
    "\n",
    "# # Minimum/maximum values\n",
    "df['population'].min()\n",
    "df['population'].max()\n",
    "\n",
    "# # Index of minimum/maximum values\n",
    "df['population'].idxmin()\n",
    "df['population'].idxmax()\n",
    "\n",
    "\n",
    "# # Mean of values\n",
    "df['population'].mean()\n",
    "\n",
    "# # Median of values\n",
    "df['population'].median()\n",
    "\n",
    "# # Summary statistics\n",
    "df['population'].describe()"
   ]
  },
  {
   "cell_type": "code",
   "execution_count": 54,
   "metadata": {},
   "outputs": [
    {
     "data": {
      "text/html": [
       "<div>\n",
       "<style scoped>\n",
       "    .dataframe tbody tr th:only-of-type {\n",
       "        vertical-align: middle;\n",
       "    }\n",
       "\n",
       "    .dataframe tbody tr th {\n",
       "        vertical-align: top;\n",
       "    }\n",
       "\n",
       "    .dataframe thead th {\n",
       "        text-align: right;\n",
       "    }\n",
       "</style>\n",
       "<table border=\"1\" class=\"dataframe\">\n",
       "  <thead>\n",
       "    <tr style=\"text-align: right;\">\n",
       "      <th></th>\n",
       "      <th>count</th>\n",
       "      <th>mean</th>\n",
       "      <th>std</th>\n",
       "      <th>min</th>\n",
       "      <th>25%</th>\n",
       "      <th>50%</th>\n",
       "      <th>75%</th>\n",
       "      <th>max</th>\n",
       "    </tr>\n",
       "  </thead>\n",
       "  <tbody>\n",
       "    <tr>\n",
       "      <th>population</th>\n",
       "      <td>19.0</td>\n",
       "      <td>2.419256e+08</td>\n",
       "      <td>3.974185e+08</td>\n",
       "      <td>37742154.00</td>\n",
       "      <td>60277900.00</td>\n",
       "      <td>83783945.00</td>\n",
       "      <td>2.110500e+08</td>\n",
       "      <td>1.393000e+09</td>\n",
       "    </tr>\n",
       "    <tr>\n",
       "      <th>GDP</th>\n",
       "      <td>19.0</td>\n",
       "      <td>4.397895e+00</td>\n",
       "      <td>4.998284e+00</td>\n",
       "      <td>1.73</td>\n",
       "      <td>2.15</td>\n",
       "      <td>2.78</td>\n",
       "      <td>4.010000e+00</td>\n",
       "      <td>2.144000e+01</td>\n",
       "    </tr>\n",
       "  </tbody>\n",
       "</table>\n",
       "</div>"
      ],
      "text/plain": [
       "            count          mean           std          min          25%  \\\n",
       "population   19.0  2.419256e+08  3.974185e+08  37742154.00  60277900.00   \n",
       "GDP          19.0  4.397895e+00  4.998284e+00         1.73         2.15   \n",
       "\n",
       "                    50%           75%           max  \n",
       "population  83783945.00  2.110500e+08  1.393000e+09  \n",
       "GDP                2.78  4.010000e+00  2.144000e+01  "
      ]
     },
     "execution_count": 54,
     "metadata": {},
     "output_type": "execute_result"
    }
   ],
   "source": [
    "# easier way to get the summaries\n",
    "# df.describe()\n",
    "df.describe().T"
   ]
  },
  {
   "cell_type": "markdown",
   "metadata": {},
   "source": [
    "## Introduction to data profiling"
   ]
  },
  {
   "cell_type": "code",
   "execution_count": 57,
   "metadata": {},
   "outputs": [
    {
     "data": {
      "application/vnd.jupyter.widget-view+json": {
       "model_id": "44382e9f1b414c1ab18e95daa8b87e27",
       "version_major": 2,
       "version_minor": 0
      },
      "text/plain": [
       "Summarize dataset:   0%|          | 0/5 [00:00<?, ?it/s]"
      ]
     },
     "metadata": {},
     "output_type": "display_data"
    },
    {
     "data": {
      "application/vnd.jupyter.widget-view+json": {
       "model_id": "29493282940e48a3abee468a945b8d26",
       "version_major": 2,
       "version_minor": 0
      },
      "text/plain": [
       "Generate report structure:   0%|          | 0/1 [00:00<?, ?it/s]"
      ]
     },
     "metadata": {},
     "output_type": "display_data"
    },
    {
     "data": {
      "application/vnd.jupyter.widget-view+json": {
       "model_id": "e28d01ea92904b3f83099f0f0d0e2660",
       "version_major": 2,
       "version_minor": 0
      },
      "text/plain": [
       "Render HTML:   0%|          | 0/1 [00:00<?, ?it/s]"
      ]
     },
     "metadata": {},
     "output_type": "display_data"
    },
    {
     "data": {
      "application/vnd.jupyter.widget-view+json": {
       "model_id": "98c902216d624a039c5f907b820fd69d",
       "version_major": 2,
       "version_minor": 0
      },
      "text/plain": [
       "Export report to file:   0%|          | 0/1 [00:00<?, ?it/s]"
      ]
     },
     "metadata": {},
     "output_type": "display_data"
    }
   ],
   "source": [
    "from ydata_profiling import ProfileReport\n",
    "profile = ProfileReport(df, title=\"Profiling Report\",explorative=True)\n",
    "# profile.to_widgets()\n",
    "# profile.to_notebook_iframe()\n",
    "profile.to_file(\"your_report.html\")"
   ]
  }
 ],
 "metadata": {
  "kernelspec": {
   "display_name": "introduction_to_data_analytics-jZTzfAo0-py3.10",
   "language": "python",
   "name": "python3"
  },
  "language_info": {
   "codemirror_mode": {
    "name": "ipython",
    "version": 3
   },
   "file_extension": ".py",
   "mimetype": "text/x-python",
   "name": "python",
   "nbconvert_exporter": "python",
   "pygments_lexer": "ipython3",
   "version": "3.10.13"
  }
 },
 "nbformat": 4,
 "nbformat_minor": 2
}
