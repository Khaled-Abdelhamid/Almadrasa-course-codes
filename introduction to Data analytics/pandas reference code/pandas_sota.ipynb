{
  "cells": [
    {
      "cell_type": "markdown",
      "id": "ae90d978",
      "metadata": {
        "id": "ae90d978"
      },
      "source": [
        "## Introduction to Pandas\n",
        "\n",
        "<img src=\"https://raw.githubusercontent.com/fralfaro/DS-Cheat-Sheets/main/docs/examples/pandas/pandas.png\" alt=\"numpy logo\" width = \"300\">\n",
        "\n",
        "[Pandas](https://pandas.pydata.org/) is built on NumPy and provides easy-to-use\n",
        "data structures and data analysis tools for the Python\n",
        "programming language.\n",
        "\n",
        "## Install and import Pandas\n",
        "\n",
        "`\n",
        "$ pip install pandas\n",
        "`"
      ]
    },
    {
      "cell_type": "code",
      "execution_count": null,
      "id": "805a07df",
      "metadata": {
        "id": "805a07df"
      },
      "outputs": [],
      "source": [
        "# Import Pandas convention\n",
        "import pandas as pd"
      ]
    },
    {
      "cell_type": "markdown",
      "id": "75775834",
      "metadata": {
        "id": "75775834"
      },
      "source": [
        "## Pandas Data Structures"
      ]
    },
    {
      "cell_type": "markdown",
      "id": "344be21a",
      "metadata": {},
      "source": [
        "### Series\n",
        "\n",
        "<img src=\"https://raw.githubusercontent.com/fralfaro/DS-Cheat-Sheets/main/docs/examples/pandas/serie.png\" alt=\"numpy logo\" >\n",
        "\n",
        "A **one-dimensional** labeled array a capable of holding any data type."
      ]
    },
    {
      "cell_type": "code",
      "execution_count": null,
      "id": "fbef430f",
      "metadata": {
        "id": "fbef430f",
        "outputId": "8779d9d7-24df-45c0-afcc-ff05db556026"
      },
      "outputs": [],
      "source": [
        "# Import pandas\n",
        "import pandas as pd\n",
        "\n",
        "# Create a pandas Series representing monthly sales data\n",
        "sales_data = pd.Series(\n",
        "    [1500, 1200, 1800, 1600, 1300, 1700, 1400, 1500, 1600, 1800],\n",
        "    index=['jan', 'feb', 'mar', 'apr', 'may', 'jun', 'jul', 'aug', 'sep', 'oct']\n",
        ")\n",
        "\n",
        "# Print the pandas Series\n",
        "print(\"Monthly Sales Data:\")\n",
        "print(sales_data)"
      ]
    },
    {
      "cell_type": "markdown",
      "id": "feba27ca",
      "metadata": {
        "id": "feba27ca"
      },
      "source": [
        "### DataFrame\n",
        "\n",
        "<img src=\"https://raw.githubusercontent.com/fralfaro/DS-Cheat-Sheets/main/docs/examples/pandas/df.png\" alt=\"numpy logo\" >\n",
        "\n",
        "**two-dimensional** labeled data structure with columns of potentially different types."
      ]
    },
    {
      "cell_type": "code",
      "execution_count": null,
      "id": "7bcbaad2",
      "metadata": {
        "id": "7bcbaad2",
        "outputId": "48351fde-482b-451a-ff25-58b4b9133120"
      },
      "outputs": [],
      "source": [
        "# Create a pandas DataFrame with more instances\n",
        "data = {\n",
        "    'country': ['United States', 'China', 'Japan', 'Germany', 'United Kingdom', 'India', 'France', 'Italy', 'Brazil', 'Canada'],\n",
        "    'capital': ['Washington, D.C.', 'Beijing', 'Tokyo', 'Berlin', 'London', 'New Delhi', 'Paris', 'Rome', 'Brasília', 'Ottawa'],\n",
        "    'population': [331449281, 1393000000, 126476461, 83783945, 67886011, 1303171035, 67186600, 60277900, 211050000, 37742154],\n",
        "    'GDP': [21.44, 14.34, 5.07, 4.01, 2.99, 3.11, 2.78, 2.15, 1.77, 1.73]\n",
        "}\n",
        "df = pd.DataFrame(\n",
        "    data,\n",
        "    columns=['country', 'capital', 'population', 'GDP']\n",
        ")\n",
        "\n",
        "# Print the DataFrame 'df'\n",
        "print(\"\\ndf:\")\n",
        "df"
      ]
    },
    {
      "cell_type": "markdown",
      "id": "15a9f184",
      "metadata": {},
      "source": [
        "## Read csv files"
      ]
    },
    {
      "cell_type": "code",
      "execution_count": null,
      "id": "3b5dbcc7",
      "metadata": {},
      "outputs": [],
      "source": [
        "df = pd.read_csv('./data/covid19-og.csv')\n",
        "df"
      ]
    },
    {
      "cell_type": "code",
      "execution_count": null,
      "id": "26f5f14d",
      "metadata": {},
      "outputs": [],
      "source": [
        "# Load the first 10 rows of the AirBnb NYC 2019 dataset for quick inspection\n",
        "nyc = pd.read_csv('./data/AirBnb_NYC_2019.csv', index_col=0, nrows=10)\n",
        "nyc"
      ]
    },
    {
      "cell_type": "code",
      "execution_count": null,
      "id": "93faf907",
      "metadata": {},
      "outputs": [],
      "source": [
        "# Load the dataset with multi-level indices and headers\n",
        "df = pd.read_csv('./data/multi_index_warehouses.csv', index_col=[0,1,2], header=[0,1])\n",
        "df"
      ]
    },
    {
      "cell_type": "markdown",
      "id": "a5b13d8c",
      "metadata": {},
      "source": [
        "## Read Excel files"
      ]
    },
    {
      "cell_type": "code",
      "execution_count": null,
      "id": "3beb8fb2",
      "metadata": {},
      "outputs": [],
      "source": [
        "pd.read_excel('./data/covid19.xlsx')"
      ]
    },
    {
      "cell_type": "markdown",
      "id": "dedd60c8",
      "metadata": {},
      "source": [
        "## Read JSON files"
      ]
    },
    {
      "cell_type": "code",
      "execution_count": null,
      "id": "fd9af8dd",
      "metadata": {},
      "outputs": [],
      "source": [
        "pd.read_json('./data/admits.json').sort_index()"
      ]
    },
    {
      "cell_type": "code",
      "execution_count": null,
      "id": "fff72f64",
      "metadata": {},
      "outputs": [],
      "source": [
        "admits = pd.read_csv('./data/admits.csv')\n",
        "admits"
      ]
    },
    {
      "cell_type": "markdown",
      "id": "38618168",
      "metadata": {},
      "source": [
        "## Renaming indices/columns"
      ]
    },
    {
      "cell_type": "code",
      "execution_count": null,
      "id": "be105921",
      "metadata": {},
      "outputs": [],
      "source": [
        "df.rename({'Los Angeles':'LA'},axis=0)\n",
        "# This is a new object as we haven't set inplace=True, so this will not impact the original dataframe"
      ]
    },
    {
      "cell_type": "code",
      "execution_count": null,
      "id": "dee2736f",
      "metadata": {},
      "outputs": [],
      "source": [
        "df.rename({2010: 20100}, axis=1)\n",
        "# This is a new object as we haven't set inplace=True, so this will not impact the original dataframe"
      ]
    },
    {
      "cell_type": "markdown",
      "id": "4f0980ce",
      "metadata": {
        "id": "4f0980ce"
      },
      "source": [
        "## Getting Elements\n"
      ]
    },
    {
      "cell_type": "markdown",
      "id": "04e2ca43",
      "metadata": {},
      "source": [
        "## Sorting\n"
      ]
    },
    {
      "cell_type": "code",
      "execution_count": null,
      "id": "71b0236f",
      "metadata": {},
      "outputs": [],
      "source": [
        "# Sort by labels along an axis\n",
        "df.sort_index()"
      ]
    },
    {
      "cell_type": "code",
      "execution_count": null,
      "id": "f9e5f2dd",
      "metadata": {},
      "outputs": [],
      "source": [
        "# Sort by the values along an axis\n",
        "df.sort_values(by='country')"
      ]
    },
    {
      "cell_type": "code",
      "execution_count": null,
      "id": "e9b66371",
      "metadata": {
        "id": "e9b66371",
        "outputId": "d7540732-3d48-4db5-b590-54b3b7bb212d"
      },
      "outputs": [],
      "source": [
        "# Get one element from a Series\n",
        "sales_data['jan']\n",
        "\n",
        "# another way to do it\n",
        "sales_data.jan"
      ]
    },
    {
      "cell_type": "code",
      "execution_count": null,
      "id": "ab5893b3",
      "metadata": {
        "id": "ab5893b3",
        "outputId": "706a24de-f01e-4a27-85d6-6e23247ce24d"
      },
      "outputs": [],
      "source": [
        "# Get subset of a DataFrame\n",
        "df[1:]"
      ]
    },
    {
      "cell_type": "markdown",
      "id": "383c41b4",
      "metadata": {
        "id": "383c41b4"
      },
      "source": [
        "## Selecting, Boolean Indexing & Setting\n"
      ]
    },
    {
      "cell_type": "code",
      "execution_count": null,
      "id": "19e43639",
      "metadata": {
        "id": "19e43639",
        "outputId": "cc5b5989-4d46-4549-ea7c-be3952626717"
      },
      "outputs": [],
      "source": [
        "# Select single value by row & 'Belgium' column\n",
        "df.iloc[[0],[0]]"
      ]
    },
    {
      "cell_type": "code",
      "execution_count": null,
      "id": "7a1c5d55",
      "metadata": {
        "id": "7a1c5d55",
        "outputId": "fd0dff04-ced5-47dc-bbeb-6924d6469066"
      },
      "outputs": [],
      "source": [
        "# Select single value by row & 'Belgium' column labels\n",
        "df.loc[[0], ['country']]"
      ]
    },
    {
      "cell_type": "code",
      "execution_count": null,
      "id": "e1b983e8",
      "metadata": {
        "id": "e1b983e8",
        "outputId": "cf0ec9e0-d06e-4015-dcae-03e42c7d5e78"
      },
      "outputs": [],
      "source": [
        "# Select single row of subset of rows\n",
        "df.loc[2]\n",
        "# print(type(df.loc[2]))"
      ]
    },
    {
      "cell_type": "code",
      "execution_count": null,
      "id": "cab4fc1e",
      "metadata": {
        "id": "cab4fc1e",
        "outputId": "20a91ed6-1d1a-4f79-cbeb-f41cb90ffad5"
      },
      "outputs": [],
      "source": [
        "# Select a single column of subset of columns\n",
        "df.loc[:,'capital']\n",
        "# df['capital']"
      ]
    },
    {
      "cell_type": "code",
      "execution_count": null,
      "id": "894bd29b",
      "metadata": {
        "id": "894bd29b",
        "outputId": "983081f3-8ecd-44f4-cb88-b4d147534717"
      },
      "outputs": [],
      "source": [
        "# Boolean indexing - Series sales_data where value is not > 1\n",
        "sales_data[~(sales_data > 1)]"
      ]
    },
    {
      "cell_type": "code",
      "execution_count": null,
      "id": "137fc348",
      "metadata": {
        "id": "137fc348",
        "outputId": "3b243bfb-9211-4dee-98c3-769f5d151509"
      },
      "outputs": [],
      "source": [
        "# Boolean indexing - sales_data where value is <-1 or >2\n",
        "sales_data[(sales_data < -1) | (sales_data > 2)]"
      ]
    },
    {
      "cell_type": "code",
      "execution_count": null,
      "id": "75baf5fe",
      "metadata": {
        "id": "75baf5fe",
        "outputId": "82c2edeb-158d-4311-8de4-5647bc0be712"
      },
      "outputs": [],
      "source": [
        "# Use filter to adjust DataFrame\n",
        "df[df['population'] > 1200000000]"
      ]
    },
    {
      "cell_type": "code",
      "execution_count": null,
      "id": "6e02eea4",
      "metadata": {
        "id": "6e02eea4",
        "outputId": "c99fa377-e906-41e8-fd01-751ce24438c4"
      },
      "outputs": [],
      "source": [
        "# Setting index a of Series sales_data to 6\n",
        "sales_data['may'] = 60000\n",
        "sales_data"
      ]
    },
    {
      "cell_type": "markdown",
      "id": "bfee4693",
      "metadata": {
        "id": "bfee4693"
      },
      "source": [
        "## Dropping\n"
      ]
    },
    {
      "cell_type": "code",
      "execution_count": null,
      "id": "62c2d966",
      "metadata": {
        "id": "62c2d966",
        "outputId": "a208d4fe-a0fe-4ca9-c737-366b0202db4e"
      },
      "outputs": [],
      "source": [
        "# Drop values from rows (axis=0)\n",
        "sales_data.drop(['may', 'mar'])"
      ]
    },
    {
      "cell_type": "code",
      "execution_count": null,
      "id": "4a8f5162",
      "metadata": {
        "id": "4a8f5162",
        "outputId": "49634434-3aa3-4044-bee3-db6bf82511e3"
      },
      "outputs": [],
      "source": [
        "# Drop values from columns (axis=1)\n",
        "df.drop('country', axis=1)"
      ]
    },
    {
      "cell_type": "markdown",
      "id": "f469a195",
      "metadata": {
        "id": "f469a195"
      },
      "source": [
        "## Applying Functions\n"
      ]
    },
    {
      "cell_type": "code",
      "execution_count": null,
      "id": "e971306a",
      "metadata": {
        "id": "e971306a"
      },
      "outputs": [],
      "source": [
        "# Define a function\n",
        "f = lambda x: x*2"
      ]
    },
    {
      "cell_type": "code",
      "execution_count": null,
      "id": "698dac12",
      "metadata": {
        "id": "698dac12",
        "outputId": "03c79572-7db2-4ae0-cc83-ad2d75b1e6a3"
      },
      "outputs": [],
      "source": [
        "# Apply function to DataFrame\n",
        "df.apply(f)"
      ]
    },
    {
      "cell_type": "code",
      "execution_count": null,
      "id": "3a6559b8",
      "metadata": {
        "id": "3a6559b8",
        "outputId": "d94ea963-3c92-41c2-d0ee-96c850246454"
      },
      "outputs": [],
      "source": [
        "# Apply function element-wise\n",
        "df.applymap(f)"
      ]
    },
    {
      "cell_type": "code",
      "execution_count": null,
      "id": "f710c2e0",
      "metadata": {},
      "outputs": [],
      "source": [
        "\n",
        "df[\"country\"] = df[\"country\"].apply(lambda x: x.upper())\n",
        "\n",
        "df"
      ]
    },
    {
      "cell_type": "markdown",
      "id": "c4e7b538",
      "metadata": {},
      "source": [
        "## TQDM with pandas"
      ]
    },
    {
      "cell_type": "code",
      "execution_count": null,
      "id": "30ccff2f",
      "metadata": {},
      "outputs": [],
      "source": [
        "import time\n",
        "def placeholder_function(x):\n",
        "    time.sleep(0.5)\n",
        "    return x.upper()"
      ]
    },
    {
      "cell_type": "code",
      "execution_count": null,
      "id": "f39e2fec",
      "metadata": {},
      "outputs": [],
      "source": [
        "from tqdm import tqdm\n",
        "# Create new `pandas` methods which use `tqdm` progress\n",
        "# (can use tqdm_gui, optional kwargs, etc.)\n",
        "tqdm.pandas()\n",
        "\n",
        "df[\"country\"] = df[\"country\"].progress_apply(placeholder_function)\n",
        "\n",
        "df"
      ]
    },
    {
      "cell_type": "code",
      "execution_count": null,
      "id": "f9481672",
      "metadata": {},
      "outputs": [],
      "source": [
        "# Even better progress bar\n",
        "from tqdm.auto import tqdm\n",
        "# Create new `pandas` methods which use `tqdm` progress\n",
        "# (can use tqdm_gui, optional kwargs, etc.)\n",
        "tqdm.pandas()\n",
        "\n",
        "df[\"country\"] = df[\"country\"].progress_apply(placeholder_function)\n",
        "\n",
        "df"
      ]
    },
    {
      "cell_type": "markdown",
      "id": "19c0ad57",
      "metadata": {
        "id": "19c0ad57"
      },
      "source": [
        "## Basic Information\n"
      ]
    },
    {
      "cell_type": "code",
      "execution_count": null,
      "id": "5028d138",
      "metadata": {
        "id": "5028d138",
        "outputId": "93f026ce-43c3-4923-9ee0-689fac55bb1b"
      },
      "outputs": [],
      "source": [
        "# Get the shape (rows, columns)\n",
        "df.shape"
      ]
    },
    {
      "cell_type": "code",
      "execution_count": null,
      "id": "dab599a3",
      "metadata": {
        "id": "dab599a3",
        "outputId": "984bbd52-ba9f-48d7-d919-ede54282a036"
      },
      "outputs": [],
      "source": [
        "# Describe index\n",
        "df.index"
      ]
    },
    {
      "cell_type": "code",
      "execution_count": null,
      "id": "96da4563",
      "metadata": {
        "id": "96da4563",
        "outputId": "0000f00f-4a51-4a3c-a574-cbc769546bfe"
      },
      "outputs": [],
      "source": [
        "# Describe DataFrame columns\n",
        "df.columns"
      ]
    },
    {
      "cell_type": "code",
      "execution_count": null,
      "id": "695b930a",
      "metadata": {
        "id": "695b930a",
        "outputId": "acb0f882-8de8-46d5-eed2-d4ae06d97ded"
      },
      "outputs": [],
      "source": [
        "# Info on DataFrame\n",
        "df.info()"
      ]
    },
    {
      "cell_type": "code",
      "execution_count": null,
      "id": "be231fa8",
      "metadata": {
        "id": "be231fa8",
        "outputId": "c243a545-7678-4467-df52-afcefd2347ee"
      },
      "outputs": [],
      "source": [
        "# Number of non-NA values\n",
        "df.count()"
      ]
    },
    {
      "cell_type": "code",
      "execution_count": null,
      "id": "71fb9189",
      "metadata": {},
      "outputs": [],
      "source": [
        "df[\"country\"].value_counts()"
      ]
    },
    {
      "cell_type": "markdown",
      "id": "5e534cba",
      "metadata": {
        "id": "5e534cba"
      },
      "source": [
        "## Summary"
      ]
    },
    {
      "cell_type": "code",
      "execution_count": null,
      "id": "5a8429aa",
      "metadata": {
        "id": "5a8429aa",
        "outputId": "2da42b8a-cc9f-4381-f2fd-7ad2677a0885"
      },
      "outputs": [],
      "source": [
        "# Sum of values\n",
        "sum_values = df['population'].sum()\n",
        "\n",
        "# Cumulative sum of values\n",
        "cumulative_sum_values = df['population'].cumsum()\n",
        "\n",
        "# Minimum/maximum values\n",
        "min_values = df['population'].min()\n",
        "max_values = df['population'].max()\n",
        "\n",
        "# Index of minimum/maximum values\n",
        "idx_min_values = df['population'].idxmin()\n",
        "idx_max_values = df['population'].idxmax()\n",
        "\n",
        "# Summary statistics\n",
        "summary_stats = df['population'].describe()\n",
        "\n",
        "# Mean of values\n",
        "mean_values = df['population'].mean()\n",
        "\n",
        "# Median of values\n",
        "median_values = df['population'].median()\n",
        "\n",
        "print(\"Example DataFrame:\")\n",
        "print(df)\n",
        "\n",
        "print(\"\\nSum of values:\")\n",
        "print(sum_values)\n",
        "\n",
        "print(\"\\nCumulative sum of values:\")\n",
        "print(cumulative_sum_values)\n",
        "\n",
        "print(\"\\nMinimum values:\")\n",
        "print(min_values)\n",
        "\n",
        "print(\"\\nMaximum values:\")\n",
        "print(max_values)\n",
        "\n",
        "print(\"\\nIndex of minimum values:\")\n",
        "print(idx_min_values)\n",
        "\n",
        "print(\"\\nIndex of maximum values:\")\n",
        "print(idx_max_values)\n",
        "\n",
        "print(\"\\nSummary statistics:\")\n",
        "print(summary_stats)\n",
        "\n",
        "print(\"\\nMean values:\")\n",
        "print(mean_values)\n",
        "\n",
        "print(\"\\nMedian values:\")\n",
        "print(median_values)"
      ]
    },
    {
      "cell_type": "code",
      "execution_count": null,
      "id": "9dcc262c",
      "metadata": {},
      "outputs": [],
      "source": [
        "# easier way to get the summaries\n",
        "df.describe()\n",
        "# df.describe().T"
      ]
    },
    {
      "cell_type": "markdown",
      "id": "3708dad4",
      "metadata": {},
      "source": [
        "## Introduction to data profiling"
      ]
    },
    {
      "cell_type": "code",
      "execution_count": null,
      "id": "1c09b5ac",
      "metadata": {},
      "outputs": [],
      "source": [
        "from ydata_profiling import ProfileReport\n",
        "profile = ProfileReport(df, title=\"Profiling Report\",explorative=True)\n",
        "# profile.to_widgets()\n",
        "# profile.to_notebook_iframe()\n",
        "# profile.to_file(\"your_report.html\")"
      ]
    },
    {
      "cell_type": "markdown",
      "id": "7da015f7",
      "metadata": {
        "id": "7da015f7"
      },
      "source": [
        "## Internal Data Alignment\n"
      ]
    },
    {
      "cell_type": "code",
      "execution_count": null,
      "id": "7758b275",
      "metadata": {
        "id": "7758b275",
        "outputId": "9f9234da-ac28-42bb-b7cf-9cd03f45d869"
      },
      "outputs": [],
      "source": [
        "# Create Series with different indices\n",
        "import pandas as pd\n",
        "\n",
        "# Create a pandas Series representing monthly sales data\n",
        "sales_data_1 = pd.Series(\n",
        "    [1500, 1200, 1800, 1600, 1300, 1700, 1400, 1500, 1600, 1800],\n",
        "    index=['jan', 'feb', 'mar', 'apr', 'may', 'jun', 'jul', 'aug', 'sep', 'oct']\n",
        ")\n",
        "\n",
        "# Print the pandas Series\n",
        "print(\"Monthly Sales Data:\")\n",
        "print(sales_data)\n",
        "\n",
        "# Create a pandas Series representing monthly sales data with different values\n",
        "sales_data_2 = pd.Series(\n",
        "    [500, 300, 700, 800, 600, 900, 1000, 1100, 1200, 1300],\n",
        "    index=['jan', 'feb', 'mar', 'apr', 'may', 'jun', 'jul', 'aug', 'sep', 'oct']\n",
        ")\n",
        "\n",
        "# Print the pandas Series\n",
        "print(\"Monthly Sales Data:\")\n",
        "print(sales_data)"
      ]
    },
    {
      "cell_type": "code",
      "execution_count": null,
      "id": "93c866cc",
      "metadata": {
        "id": "93c866cc",
        "outputId": "e1573639-9d90-4277-9f3f-d49b7136da95"
      },
      "outputs": [],
      "source": [
        "# Add two Series with different indices\n",
        "result = sales_data_1 + sales_data_2\n",
        "result"
      ]
    },
    {
      "cell_type": "markdown",
      "id": "5f62e0fe",
      "metadata": {
        "id": "5f62e0fe"
      },
      "source": [
        "## Arithmetic Operations with Fill Methods"
      ]
    },
    {
      "cell_type": "code",
      "execution_count": null,
      "id": "b1da5cf4",
      "metadata": {
        "id": "b1da5cf4",
        "outputId": "b8df1431-d7bc-4533-de8a-e42c97c57654"
      },
      "outputs": [],
      "source": [
        "sales_data_1 = pd.Series(\n",
        "    [1500, 1200, 1800, 1600, 1300, 1400, 1500, 1600],\n",
        "    index=['jan', 'feb', 'mar', 'apr', 'jun', 'jul', 'aug', 'sep']\n",
        ")\n",
        "sales_data_2 = pd.Series(\n",
        "    [500, 700, 800, 600, 900, 1000, 1100, 1300],\n",
        "    index=['feb', 'mar', 'apr', 'may', 'jun', 'jul', 'aug', 'oct']\n",
        ")\n",
        "\n",
        "# Perform arithmetic operations with fill methods\n",
        "result_add = sales_data_1.add(sales_data_2, fill_value=10000)\n",
        "result_sub = sales_data_1.sub(sales_data_2, fill_value=10000)\n",
        "result_div = sales_data_1.div(sales_data_2, fill_value=10000)\n",
        "result_mul = sales_data_1.mul(sales_data_2, fill_value=10000)\n",
        "\n",
        "result_combined = pd.DataFrame({\n",
        "    'sales_data_1': sales_data_1,\n",
        "    'sales_data_2': sales_data_2,\n",
        "    'result_add': result_add,\n",
        "    'result_sub': result_sub,\n",
        "    'result_div': result_div,\n",
        "    'result_mul': result_mul\n",
        "})\n",
        "\n",
        "result_combined"
      ]
    },
    {
      "cell_type": "markdown",
      "id": "3e3c7ab3",
      "metadata": {
        "id": "3e3c7ab3"
      },
      "source": [
        "## Asking For Help"
      ]
    },
    {
      "cell_type": "code",
      "execution_count": null,
      "id": "4d12c36b",
      "metadata": {
        "id": "4d12c36b",
        "outputId": "70899690-4617-4194-c8ab-526ebf8a35da"
      },
      "outputs": [],
      "source": [
        "# Display help for a function or object\n",
        "help(pd.Series.loc)"
      ]
    },
    {
      "cell_type": "markdown",
      "id": "c5cc117f",
      "metadata": {},
      "source": [
        "## Saving to json"
      ]
    },
    {
      "cell_type": "code",
      "execution_count": null,
      "id": "0aa7f4a7",
      "metadata": {},
      "outputs": [],
      "source": [
        "admits.to_json(orient='columns')"
      ]
    },
    {
      "cell_type": "code",
      "execution_count": null,
      "id": "6d093fba",
      "metadata": {},
      "outputs": [],
      "source": [
        "admits.to_json(orient='values')"
      ]
    },
    {
      "cell_type": "code",
      "execution_count": null,
      "id": "7e7d38e5",
      "metadata": {},
      "outputs": [],
      "source": [
        "admits.to_json(orient='index')"
      ]
    },
    {
      "cell_type": "code",
      "execution_count": null,
      "id": "3bb4d91a",
      "metadata": {},
      "outputs": [],
      "source": [
        "admits.to_json('data/split_json.json', orient='split')"
      ]
    },
    {
      "cell_type": "code",
      "execution_count": null,
      "id": "999fc1e9",
      "metadata": {},
      "outputs": [],
      "source": [
        "pd.read_json('data/split_json.json', orient='split')"
      ]
    },
    {
      "cell_type": "code",
      "execution_count": null,
      "id": "d2e659e7",
      "metadata": {},
      "outputs": [],
      "source": [
        "admits.to_json(orient='records')"
      ]
    },
    {
      "cell_type": "code",
      "execution_count": null,
      "id": "da412be9",
      "metadata": {},
      "outputs": [],
      "source": [
        "admits.to_json(orient='table')"
      ]
    },
    {
      "cell_type": "markdown",
      "id": "49aed680",
      "metadata": {},
      "source": [
        "1. orient='columns'\n",
        "2. orient='index'\n",
        "3. orient='values'\n",
        "4. orient='records'\n",
        "5. orient='table'\n",
        "6. orient='split'"
      ]
    },
    {
      "cell_type": "code",
      "execution_count": null,
      "id": "9b96033b",
      "metadata": {},
      "outputs": [],
      "source": [
        "admits.to_csv('data/admits_new.csv', index=False)"
      ]
    },
    {
      "cell_type": "code",
      "execution_count": null,
      "id": "680a8473",
      "metadata": {},
      "outputs": [],
      "source": [
        "df"
      ]
    },
    {
      "cell_type": "markdown",
      "id": "fd78e827",
      "metadata": {},
      "source": [
        "## .loc[ ] method"
      ]
    },
    {
      "cell_type": "code",
      "execution_count": null,
      "id": "9206107a",
      "metadata": {},
      "outputs": [],
      "source": [
        "# Select data for 'Mobile' in 'San Diego' within 'CA Warehouses' for the second half of 2010\n",
        "df.loc[('CA Warehouses', 'San Diego', 'Mobile'), (2010, 'Jul-Dec')] "
      ]
    },
    {
      "cell_type": "code",
      "execution_count": null,
      "id": "2374d315",
      "metadata": {},
      "outputs": [],
      "source": [
        "df.loc[('NY Warehouses'):, :]"
      ]
    },
    {
      "cell_type": "code",
      "execution_count": null,
      "id": "0c990e63",
      "metadata": {},
      "outputs": [],
      "source": [
        "df.index.names = ['State', 'City', 'Product']\n",
        "df.columns.names = ['Year', 'Semester']"
      ]
    },
    {
      "cell_type": "code",
      "execution_count": null,
      "id": "c047dd50",
      "metadata": {},
      "outputs": [],
      "source": [
        "df.columns"
      ]
    },
    {
      "cell_type": "code",
      "execution_count": null,
      "id": "dc7e8999",
      "metadata": {},
      "outputs": [],
      "source": [
        "df"
      ]
    },
    {
      "cell_type": "code",
      "execution_count": null,
      "id": "7e9bddb4",
      "metadata": {},
      "outputs": [],
      "source": [
        "df"
      ]
    },
    {
      "cell_type": "code",
      "execution_count": null,
      "id": "9b2a4c02",
      "metadata": {},
      "outputs": [],
      "source": [
        "# Select data in 'df' for rows from ('CA Warehouses', 'San Francisco', 'AC') to\n",
        "# ('NY Warehouses', 'Ithaca', 'Mobile') and columns from (2012, 'Jul-Dec') to 2015.\n",
        "df.loc[('CA Warehouses', 'San Francisco', 'AC'):('NY Warehouses', 'Ithaca', 'Mobile'),\n",
        "       (2012, 'Jul-Dec'):(2015)]"
      ]
    },
    {
      "cell_type": "code",
      "execution_count": null,
      "id": "bdb1ad92",
      "metadata": {},
      "outputs": [],
      "source": [
        "df[(2011, 'Jan-Jun')]"
      ]
    },
    {
      "cell_type": "code",
      "execution_count": null,
      "id": "dc7346b8",
      "metadata": {},
      "outputs": [],
      "source": [
        "df.loc['NY Warehouses':'TX Warehouses', :]"
      ]
    },
    {
      "cell_type": "markdown",
      "id": "882bab57",
      "metadata": {},
      "source": [
        "## Slicing ranges ( using [ ] )"
      ]
    },
    {
      "cell_type": "code",
      "execution_count": null,
      "id": "318148a2",
      "metadata": {},
      "outputs": [],
      "source": [
        "nyc[1:5]"
      ]
    },
    {
      "cell_type": "code",
      "execution_count": null,
      "id": "d4f3f2d9",
      "metadata": {},
      "outputs": [],
      "source": [
        "nyc[['host_name', 'neighbourhood']]"
      ]
    },
    {
      "cell_type": "code",
      "execution_count": null,
      "id": "a2888e9d",
      "metadata": {},
      "outputs": [],
      "source": [
        "nyc[[True, False, True, False,True, False, True, False,True, False]]"
      ]
    },
    {
      "cell_type": "markdown",
      "id": "976930d7",
      "metadata": {},
      "source": [
        "## Selection by label (df.loc)"
      ]
    },
    {
      "cell_type": "code",
      "execution_count": null,
      "id": "3d78b1b3",
      "metadata": {},
      "outputs": [],
      "source": [
        "nyc.loc[2595:5022, 'host_name':]"
      ]
    },
    {
      "cell_type": "markdown",
      "id": "ae0f7460",
      "metadata": {},
      "source": [
        "## Selection by position (df.iloc)"
      ]
    },
    {
      "cell_type": "code",
      "execution_count": null,
      "id": "aaf624c7",
      "metadata": {},
      "outputs": [],
      "source": [
        "nyc.iloc[[0,5,7,9], 4:8]"
      ]
    },
    {
      "cell_type": "markdown",
      "id": "c3e4bade",
      "metadata": {},
      "source": [
        "## df.at[ ]"
      ]
    },
    {
      "cell_type": "code",
      "execution_count": null,
      "id": "6e4683fd",
      "metadata": {},
      "outputs": [],
      "source": [
        "nyc.at[3647, 'neighbourhood_group']"
      ]
    },
    {
      "cell_type": "markdown",
      "id": "c9efd549",
      "metadata": {},
      "source": [
        "## df.iat[ ]"
      ]
    },
    {
      "cell_type": "code",
      "execution_count": null,
      "id": "63ad0b7f",
      "metadata": {},
      "outputs": [],
      "source": [
        "nyc.iat[2,3]"
      ]
    },
    {
      "cell_type": "markdown",
      "id": "16288878",
      "metadata": {},
      "source": [
        "## df.isin( )"
      ]
    },
    {
      "cell_type": "code",
      "execution_count": null,
      "id": "4d3ab024",
      "metadata": {},
      "outputs": [],
      "source": [
        "nyc[nyc['neighbourhood_group'].isin(['Manhattan'])]"
      ]
    },
    {
      "cell_type": "code",
      "execution_count": null,
      "id": "5727ce0f",
      "metadata": {},
      "outputs": [],
      "source": [
        "crit = {'neighbourhood_group':['Manhattan'], 'room_type':['Private room']}\n",
        "crit"
      ]
    },
    {
      "cell_type": "code",
      "execution_count": null,
      "id": "1d4cfa43",
      "metadata": {},
      "outputs": [],
      "source": [
        "nyc.isin(crit)"
      ]
    },
    {
      "cell_type": "markdown",
      "id": "5ad6f870",
      "metadata": {},
      "source": [
        "## df.where( )"
      ]
    },
    {
      "cell_type": "code",
      "execution_count": null,
      "id": "493bf4f1",
      "metadata": {},
      "outputs": [],
      "source": [
        "nyc.where(nyc['price'] < 100)"
      ]
    },
    {
      "cell_type": "markdown",
      "id": "c2fc3b7f",
      "metadata": {},
      "source": [
        "## df.mask( )"
      ]
    },
    {
      "cell_type": "code",
      "execution_count": null,
      "id": "19ac75c6",
      "metadata": {},
      "outputs": [],
      "source": [
        "nyc.mask(nyc['price'] < 100)"
      ]
    },
    {
      "cell_type": "markdown",
      "id": "041de251",
      "metadata": {},
      "source": [
        "## df.query( )"
      ]
    },
    {
      "cell_type": "code",
      "execution_count": null,
      "id": "063cc12e",
      "metadata": {},
      "outputs": [],
      "source": [
        "nyc.query('neighbourhood_group == \"Manhattan\" & price < 100 & availability_365 > 50')"
      ]
    },
    {
      "cell_type": "markdown",
      "id": "36a56d94",
      "metadata": {},
      "source": [
        "## df.get( )"
      ]
    },
    {
      "cell_type": "code",
      "execution_count": null,
      "id": "762b0388",
      "metadata": {},
      "outputs": [],
      "source": [
        "nyc.get(\"name\")"
      ]
    },
    {
      "cell_type": "markdown",
      "id": "e0cd700d",
      "metadata": {},
      "source": [
        "## df.sample( )"
      ]
    },
    {
      "cell_type": "code",
      "execution_count": null,
      "id": "764bf72d",
      "metadata": {},
      "outputs": [],
      "source": [
        "nyc.sample(5, replace=False, weights=[0,5,5,8,14,25,8,1,5,8])"
      ]
    },
    {
      "cell_type": "markdown",
      "id": "8fe25f76",
      "metadata": {},
      "source": [
        "## df.set_index( )"
      ]
    },
    {
      "cell_type": "code",
      "execution_count": null,
      "id": "4341ed95",
      "metadata": {},
      "outputs": [],
      "source": [
        "x = pd.Series([1,2,3,4,5,6,7,8,9,10])\n",
        "x"
      ]
    },
    {
      "cell_type": "code",
      "execution_count": null,
      "id": "9945290f",
      "metadata": {},
      "outputs": [],
      "source": [
        "nyc.set_index(x, inplace=True)"
      ]
    },
    {
      "cell_type": "code",
      "execution_count": null,
      "id": "89832638",
      "metadata": {},
      "outputs": [],
      "source": [
        "nyc"
      ]
    },
    {
      "cell_type": "markdown",
      "id": "41275d28",
      "metadata": {},
      "source": [
        "## df.reset_index( )"
      ]
    },
    {
      "cell_type": "code",
      "execution_count": null,
      "id": "be0c96fd",
      "metadata": {},
      "outputs": [],
      "source": [
        "nyc = nyc.set_index('name')"
      ]
    },
    {
      "cell_type": "code",
      "execution_count": null,
      "id": "8fa373e1",
      "metadata": {},
      "outputs": [],
      "source": [
        "nyc.reset_index(inplace=True)"
      ]
    },
    {
      "cell_type": "code",
      "execution_count": null,
      "id": "d2602773",
      "metadata": {},
      "outputs": [],
      "source": [
        "nyc"
      ]
    },
    {
      "cell_type": "markdown",
      "id": "b52aebcf",
      "metadata": {},
      "source": [
        "## merge"
      ]
    },
    {
      "cell_type": "code",
      "execution_count": null,
      "id": "9052d3fc",
      "metadata": {},
      "outputs": [],
      "source": [
        "df = pd.DataFrame({\n",
        "    'Brand': ['Tata', 'Tesla', 'Audi', 'BMW'],\n",
        "    'Location': ['India', 'US', 'Germany', 'Germany'],\n",
        "    'Model':['Ace', '3', 'Q3', 'Z4'],\n",
        "    'Sales': [100,75,84,92]\n",
        "})\n",
        "df"
      ]
    },
    {
      "cell_type": "code",
      "execution_count": null,
      "id": "6a9980ec",
      "metadata": {},
      "outputs": [],
      "source": [
        "df = pd.read_csv('data/cars_us_jp_eu_clean.csv')\n",
        "df.head(10)"
      ]
    },
    {
      "cell_type": "code",
      "execution_count": null,
      "id": "35e53956",
      "metadata": {},
      "outputs": [],
      "source": [
        "import pandas as pd\n",
        "import numpy as np"
      ]
    },
    {
      "cell_type": "code",
      "execution_count": null,
      "id": "b47fe521",
      "metadata": {},
      "outputs": [],
      "source": [
        "df = pd.read_csv('data/pokedex.csv', index_col=0)\n",
        "df.head()"
      ]
    },
    {
      "cell_type": "code",
      "execution_count": null,
      "id": "e373add4",
      "metadata": {},
      "outputs": [],
      "source": [
        "df.columns"
      ]
    },
    {
      "cell_type": "code",
      "execution_count": null,
      "id": "0bae3b53",
      "metadata": {},
      "outputs": [],
      "source": [
        "cols_to_keep = ['name', 'generation',\n",
        "       'status', 'species', 'type_1', 'type_2', 'height_m',\n",
        "       'weight_kg', 'abilities_number', 'ability_1', 'ability_2',\n",
        "       'total_points', 'hp', 'attack', 'defense',\n",
        "       'sp_attack', 'sp_defense', 'speed',\n",
        "       'percentage_male','against_normal',\n",
        "       'against_fire', 'against_water', 'against_electric', 'against_grass',\n",
        "       'against_ice', 'against_fight', 'against_poison', 'against_ground',\n",
        "       'against_flying', 'against_psychic', 'against_bug', 'against_rock',\n",
        "       'against_ghost', 'against_dragon', 'against_dark', 'against_steel',\n",
        "       'against_fairy']"
      ]
    },
    {
      "cell_type": "code",
      "execution_count": null,
      "id": "67a87ac4",
      "metadata": {},
      "outputs": [],
      "source": [
        "df = df[cols_to_keep]\n",
        "df.shape"
      ]
    },
    {
      "cell_type": "code",
      "execution_count": null,
      "id": "4fab3f62",
      "metadata": {},
      "outputs": [],
      "source": [
        "df.head()"
      ]
    },
    {
      "cell_type": "code",
      "execution_count": null,
      "id": "15ed9119",
      "metadata": {},
      "outputs": [],
      "source": [
        "df.shape"
      ]
    },
    {
      "cell_type": "code",
      "execution_count": null,
      "id": "72d321a9",
      "metadata": {},
      "outputs": [],
      "source": [
        "g = df.groupby(by='brand')\n",
        "g"
      ]
    },
    {
      "cell_type": "code",
      "execution_count": null,
      "id": "bfa923bf",
      "metadata": {},
      "outputs": [],
      "source": [
        "g.groups"
      ]
    },
    {
      "cell_type": "code",
      "execution_count": null,
      "id": "2cfb7396",
      "metadata": {},
      "outputs": [],
      "source": [
        "g.get_group('Europe')"
      ]
    },
    {
      "cell_type": "code",
      "execution_count": null,
      "id": "8a1c61f0",
      "metadata": {},
      "outputs": [],
      "source": [
        "g.mean()"
      ]
    },
    {
      "cell_type": "code",
      "execution_count": null,
      "id": "86678236",
      "metadata": {},
      "outputs": [],
      "source": [
        "g.agg('mean')"
      ]
    },
    {
      "cell_type": "code",
      "execution_count": null,
      "id": "50eba8ba",
      "metadata": {},
      "outputs": [],
      "source": [
        "g.agg(np.mean)"
      ]
    },
    {
      "cell_type": "code",
      "execution_count": null,
      "id": "a7d11e50",
      "metadata": {},
      "outputs": [],
      "source": [
        "g.agg({'mpg':'mean', 'cylinders':np.max, 'hp':'median'})"
      ]
    },
    {
      "cell_type": "code",
      "execution_count": null,
      "id": "5285027a",
      "metadata": {},
      "outputs": [],
      "source": [
        "df.groupby(['brand', 'cylinders']).median()"
      ]
    },
    {
      "cell_type": "code",
      "execution_count": null,
      "id": "6076bf35",
      "metadata": {},
      "outputs": [],
      "source": [
        "g.mean()"
      ]
    },
    {
      "cell_type": "code",
      "execution_count": null,
      "id": "f79f78b8",
      "metadata": {},
      "outputs": [],
      "source": [
        "g.filter(lambda sub_df: sub_df['weightlbs'].median() > 2400)"
      ]
    },
    {
      "cell_type": "code",
      "execution_count": null,
      "id": "04e69b04",
      "metadata": {},
      "outputs": [],
      "source": [
        "df.isna().sum()"
      ]
    },
    {
      "cell_type": "code",
      "execution_count": null,
      "id": "3e5c80b8",
      "metadata": {},
      "outputs": [],
      "source": [
        "df[df.weightlbs.isna()]"
      ]
    },
    {
      "cell_type": "code",
      "execution_count": null,
      "id": "fb8e2251",
      "metadata": {},
      "outputs": [],
      "source": [
        "dummy_df = pd.DataFrame({\n",
        "    'col1': [1,2,3,4,5,6],\n",
        "    'col2': list('abcdef')\n",
        "})\n",
        "\n",
        "dummy_df"
      ]
    },
    {
      "cell_type": "code",
      "execution_count": null,
      "id": "b6b2189e",
      "metadata": {},
      "outputs": [],
      "source": [
        "dummy_df['new_col'] = dummy_df['col1'].transform(lambda val: val+10)"
      ]
    },
    {
      "cell_type": "code",
      "execution_count": null,
      "id": "82e38066",
      "metadata": {},
      "outputs": [],
      "source": [
        "dummy_df"
      ]
    },
    {
      "cell_type": "code",
      "execution_count": null,
      "id": "d2141f25",
      "metadata": {},
      "outputs": [],
      "source": [
        "df.isna().sum()"
      ]
    },
    {
      "cell_type": "code",
      "execution_count": null,
      "id": "22a35cd7",
      "metadata": {},
      "outputs": [],
      "source": [
        "df[df.weightlbs.isna()]"
      ]
    },
    {
      "cell_type": "code",
      "execution_count": null,
      "id": "e67507a6",
      "metadata": {},
      "outputs": [],
      "source": [
        "df['weightlbs'] = g['weightlbs'].transform(lambda series: series.fillna(series.mean()))"
      ]
    },
    {
      "cell_type": "code",
      "execution_count": null,
      "id": "dbe9236d",
      "metadata": {},
      "outputs": [],
      "source": [
        "df.isna().sum()"
      ]
    },
    {
      "cell_type": "code",
      "execution_count": null,
      "id": "8c8c2909",
      "metadata": {},
      "outputs": [],
      "source": [
        "g.mean()"
      ]
    },
    {
      "cell_type": "code",
      "execution_count": null,
      "id": "21f8338f",
      "metadata": {},
      "outputs": [],
      "source": [
        "df.loc[172, 'weightlbs']"
      ]
    },
    {
      "cell_type": "code",
      "execution_count": null,
      "id": "c1a74a07",
      "metadata": {},
      "outputs": [],
      "source": [
        "df['age_of_car'] = df['year'].transform(lambda year: 2020 - year)"
      ]
    },
    {
      "cell_type": "code",
      "execution_count": null,
      "id": "01a4796f",
      "metadata": {},
      "outputs": [],
      "source": [
        "df.head()"
      ]
    },
    {
      "cell_type": "code",
      "execution_count": null,
      "id": "57721289",
      "metadata": {},
      "outputs": [],
      "source": [
        "# grouper"
      ]
    },
    {
      "cell_type": "code",
      "execution_count": null,
      "id": "597d26fd",
      "metadata": {},
      "outputs": [],
      "source": [
        "c = pd.read_csv('data/covid19-og.csv', index_col=0, parse_dates=[0], dayfirst=True)\n",
        "c.head()"
      ]
    },
    {
      "cell_type": "code",
      "execution_count": null,
      "id": "33cf86e7",
      "metadata": {},
      "outputs": [],
      "source": [
        "c.groupby(pd.Grouper(level='dateRep', freq='1m')).sum()"
      ]
    },
    {
      "cell_type": "markdown",
      "id": "85e9bd9a",
      "metadata": {},
      "source": [
        "### Check the available list of frequencies here:\n",
        "\n",
        "https://pandas.pydata.org/pandas-docs/stable/user_guide/timeseries.html#dateoffset-objects\n"
      ]
    },
    {
      "cell_type": "code",
      "execution_count": null,
      "id": "41deddf8",
      "metadata": {},
      "outputs": [],
      "source": [
        "df.groupby(pd.Grouper(key='brand')).mean()"
      ]
    },
    {
      "cell_type": "code",
      "execution_count": null,
      "id": "855755b1",
      "metadata": {},
      "outputs": [],
      "source": [
        "g.mean()"
      ]
    },
    {
      "cell_type": "markdown",
      "id": "5c857b8d",
      "metadata": {},
      "source": [
        "## join"
      ]
    },
    {
      "cell_type": "code",
      "execution_count": null,
      "id": "04ccda82",
      "metadata": {},
      "outputs": [],
      "source": [
        "sci = pd.DataFrame({'name':'Wayne Frank Pat Tony Lee Sol'.split(' '),\n",
        "                     'sci':[41,51,87,71,87,47]})\n",
        "sci.set_index('name', drop=True, inplace=True)\n",
        "sci"
      ]
    },
    {
      "cell_type": "code",
      "execution_count": null,
      "id": "62381368",
      "metadata": {},
      "outputs": [],
      "source": [
        "geo = pd.DataFrame({'name':['Rocky', 'Wayne', 'Leo', 'Frank', 'Andre', 'Tony', 'Sol'],\n",
        "                     'geo':[55,17,41,28,88,24,90]})\n",
        "geo.set_index('name', drop=True, inplace=True)\n",
        "geo"
      ]
    },
    {
      "cell_type": "code",
      "execution_count": null,
      "id": "dff1288d",
      "metadata": {},
      "outputs": [],
      "source": [
        "sci2 = pd.DataFrame({'name':['Rocky', 'Jason', 'Leo', 'Michael', 'Andre', 'Tony', 'Sol'],\n",
        "                     'sci2':[55,17,41,28,88,24,90]})\n",
        "sci2.set_index('name', drop=True, inplace=True)\n",
        "sci2"
      ]
    },
    {
      "cell_type": "code",
      "execution_count": null,
      "id": "5c15e294",
      "metadata": {},
      "outputs": [],
      "source": [
        "sci.join(geo, how='inner')"
      ]
    },
    {
      "cell_type": "code",
      "execution_count": null,
      "id": "ed9cb29d",
      "metadata": {},
      "outputs": [],
      "source": [
        "geo2 = geo.reset_index()\n",
        "geo2"
      ]
    },
    {
      "cell_type": "code",
      "execution_count": null,
      "id": "05dc66d0",
      "metadata": {},
      "outputs": [],
      "source": [
        "# in the tutorial video, I showed how the lsuffix, rsuffix arguments work using 'sci' dataframe,\n",
        "# but that required manipulating the original sci dataframe which would mess with other code cells.\n",
        "# hence here I've changed the sci dataframe to geo, to demonstrate how and when the l/r suffix\n",
        "# arguments are needed.\n",
        "geo2.join(geo, on='name', how='inner', lsuffix='_left')"
      ]
    },
    {
      "cell_type": "code",
      "execution_count": null,
      "id": "f06d223c",
      "metadata": {},
      "outputs": [],
      "source": [
        "# geo, sci, sci2\n",
        "\n",
        "geo.join([sci, sci2], how='inner')"
      ]
    },
    {
      "cell_type": "markdown",
      "id": "f9cf39d0",
      "metadata": {},
      "source": [
        "## concat"
      ]
    },
    {
      "cell_type": "code",
      "execution_count": null,
      "id": "736c199c",
      "metadata": {},
      "outputs": [],
      "source": [
        "sci"
      ]
    },
    {
      "cell_type": "code",
      "execution_count": null,
      "id": "e17cf641",
      "metadata": {},
      "outputs": [],
      "source": [
        "geo"
      ]
    },
    {
      "cell_type": "code",
      "execution_count": null,
      "id": "71c86dc0",
      "metadata": {},
      "outputs": [],
      "source": [
        "x = pd.concat([sci, geo], sort=False, axis=0, keys=['a', 'b'])\n",
        "x"
      ]
    },
    {
      "cell_type": "code",
      "execution_count": null,
      "id": "041c4551",
      "metadata": {},
      "outputs": [],
      "source": [
        "x.loc['a']"
      ]
    },
    {
      "cell_type": "code",
      "execution_count": null,
      "id": "3468646a",
      "metadata": {},
      "outputs": [],
      "source": [
        "pd.concat([sci, geo], axis=1, sort=False, join='outer', keys=['a', 'b'])"
      ]
    },
    {
      "cell_type": "markdown",
      "id": "aedac7d7",
      "metadata": {},
      "source": [
        "## append"
      ]
    },
    {
      "cell_type": "code",
      "execution_count": null,
      "id": "98f8b32a",
      "metadata": {},
      "outputs": [],
      "source": [
        "sci.append(geo, sort=False)"
      ]
    }
  ],
  "metadata": {
    "colab": {
      "provenance": []
    },
    "kernelspec": {
      "display_name": "Python 3 (ipykernel)",
      "language": "python",
      "name": "python3"
    },
    "language_info": {
      "codemirror_mode": {
        "name": "ipython",
        "version": 3
      },
      "file_extension": ".py",
      "mimetype": "text/x-python",
      "name": "python",
      "nbconvert_exporter": "python",
      "pygments_lexer": "ipython3",
      "version": "3.10.13"
    }
  },
  "nbformat": 4,
  "nbformat_minor": 5
}
