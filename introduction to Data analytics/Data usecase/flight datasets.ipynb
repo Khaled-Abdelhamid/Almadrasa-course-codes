{
 "cells": [
  {
   "cell_type": "code",
   "execution_count": null,
   "metadata": {},
   "outputs": [],
   "source": [
    "import re\n",
    "import pandas as pd\n",
    "from tqdm.auto import tqdm\n",
    "\n",
    "tqdm.pandas()"
   ]
  },
  {
   "cell_type": "code",
   "execution_count": null,
   "metadata": {},
   "outputs": [],
   "source": [
    "airports = pd.read_csv(\n",
    "    \"../data/US 2023 Civil Flights  delays meteo and aircrafts/airports_geolocation.csv\"\n",
    ")\n",
    "cancelled_diverted = pd.read_csv(\n",
    "    \"../data/US 2023 Civil Flights  delays meteo and aircrafts/Cancelled_Diverted_2023.csv\"\n",
    ")\n",
    "flights = pd.read_csv(\n",
    "    filepath_or_buffer=\"../data/US 2023 Civil Flights  delays meteo and aircrafts/US_flights_2023.csv\"\n",
    ")\n",
    "weather = pd.read_csv(\n",
    "    \"../data/US 2023 Civil Flights  delays meteo and aircrafts/weather_meteo_by_airport.csv\"\n",
    ")"
   ]
  },
  {
   "cell_type": "code",
   "execution_count": null,
   "metadata": {},
   "outputs": [],
   "source": [
    "# Function to convert camelCase and space-separated names to snake_case\n",
    "def to_snake_case(name):\n",
    "    # Convert camelCase to snake_case\n",
    "    s1 = re.sub(\"(.)([A-Z][a-z]+)\", r\"\\1_\\2\", name)\n",
    "    s2 = re.sub(\"([a-z0-9])([A-Z])\", r\"\\1_\\2\", s1)\n",
    "    # Convert spaces to underscores, replace multiple underscores with single underscore, and lower the case\n",
    "    return re.sub(\"_+\", \"_\", s2.replace(\" \", \"_\")).lower()\n",
    "\n",
    "\n",
    "# Function to apply the conversion to all columns of a DataFrame\n",
    "def convert_df_columns_to_snake_case(df):\n",
    "    df.columns = [to_snake_case(col) for col in df.columns]\n",
    "    return df\n",
    "\n",
    "\n",
    "def convert_to_category(df, columns):\n",
    "    for column in columns:\n",
    "        df[column] = df[column].astype(\"category\")"
   ]
  },
  {
   "cell_type": "code",
   "execution_count": null,
   "metadata": {},
   "outputs": [],
   "source": [
    "# Apply the function to each DataFrame\n",
    "airports = convert_df_columns_to_snake_case(airports)\n",
    "cancelled_diverted = convert_df_columns_to_snake_case(cancelled_diverted)\n",
    "flights = convert_df_columns_to_snake_case(flights)\n",
    "weather = convert_df_columns_to_snake_case(weather)"
   ]
  },
  {
   "cell_type": "code",
   "execution_count": null,
   "metadata": {},
   "outputs": [],
   "source": [
    "# Apply the function to each DataFrame\n",
    "airports = convert_df_columns_to_snake_case(airports)\n",
    "cancelled_diverted = convert_df_columns_to_snake_case(cancelled_diverted)\n",
    "flights = convert_df_columns_to_snake_case(flights)\n",
    "weather = convert_df_columns_to_snake_case(weather)"
   ]
  },
  {
   "cell_type": "code",
   "execution_count": null,
   "metadata": {},
   "outputs": [],
   "source": [
    "flights[\"flight_date\"] = flights[\"flight_date\"].astype(\"datetime64[ns]\")\n",
    "cancelled_diverted[\"flight_date\"] = cancelled_diverted[\"flight_date\"].astype(\n",
    "    \"datetime64[ns]\"\n",
    ")\n",
    "weather[\"time\"] = weather[\"time\"].astype(\"datetime64[ns]\")"
   ]
  },
  {
   "cell_type": "code",
   "execution_count": null,
   "metadata": {},
   "outputs": [],
   "source": [
    "# Example usage:\n",
    "categorical_columns_flights = [\n",
    "    \"airline\",\n",
    "    \"day_of_week\",\n",
    "    \"dep_airport\",\n",
    "    \"arr_airport\",\n",
    "    \"dep_city_name\",\n",
    "    \"arr_city_name\",\n",
    "    \"dep_time_label\",\n",
    "    \"dep_delay_type\",\n",
    "    \"arr_delay_type\",\n",
    "    \"distance_type\",\n",
    "    \"manufacturer\",\n",
    "    \"model\",\n",
    "]\n",
    "\n",
    "categorical_columns_cancelled_diverted = [\n",
    "    \"day_of_week\",\n",
    "    \"airline\",\n",
    "    \"cancelled\",\n",
    "    \"diverted\",\n",
    "    \"dep_airport\",\n",
    "    \"dep_city_name\",\n",
    "    \"dep_time_label\",\n",
    "    \"dep_delay_tag\",\n",
    "    \"dep_delay_type\",\n",
    "    \"arr_airport\",\n",
    "    \"arr_city_name\",\n",
    "    \"arr_delay_type\",\n",
    "    \"distance_type\",\n",
    "]\n",
    "categorical_columns_airports = [\"airport\", \"city\", \"state\", \"country\"]\n",
    "\n",
    "convert_to_category(airports, categorical_columns_airports)\n",
    "convert_to_category(flights, categorical_columns_flights)\n",
    "convert_to_category(cancelled_diverted, categorical_columns_cancelled_diverted)"
   ]
  },
  {
   "cell_type": "code",
   "execution_count": null,
   "metadata": {},
   "outputs": [],
   "source": [
    "print(\"airports: \")\n",
    "airports.info()\n",
    "print(\"cancelled_diverted: \")\n",
    "cancelled_diverted.info()\n",
    "print(\"flights: \")\n",
    "flights.info()\n",
    "print(\"weather: \")\n",
    "weather.info()"
   ]
  },
  {
   "cell_type": "code",
   "execution_count": null,
   "metadata": {},
   "outputs": [],
   "source": [
    "import matplotlib.pyplot as plt\n",
    "\n",
    "upper = 100\n",
    "bins = 100\n",
    "\n",
    "# Assuming flights_df is the DataFrame containing the flight data\n",
    "plt.figure(figsize=(10, 6))\n",
    "plt.hist(\n",
    "    flights[\"dep_delay\"].clip(upper=upper),\n",
    "    bins=bins,\n",
    "    color=\"skyblue\",\n",
    "    edgecolor=\"black\",\n",
    "    range=[0, upper],\n",
    ")\n",
    "# plt.xscale(\"log\")\n",
    "plt.title(f\"({bins} bins)\")\n",
    "# plt.title(\"Distribution of Departure Delays (5 bins)\")\n",
    "# plt.xlabel(\"Departure Delay (minutes)\")\n",
    "# plt.ylabel(\"Frequency\")\n",
    "plt.show()"
   ]
  }
 ],
 "metadata": {
  "language_info": {
   "name": "python"
  }
 },
 "nbformat": 4,
 "nbformat_minor": 2
}
