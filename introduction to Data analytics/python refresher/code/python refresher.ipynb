{
  "cells": [
    {
      "cell_type": "markdown",
      "metadata": {
        "id": "JbuMvi3gvoZx"
      },
      "source": [
        "# Variables\n",
        "\n",
        "Variables are used to store values. Declare variables using assignment operator (=).\n"
      ]
    },
    {
      "cell_type": "code",
      "execution_count": null,
      "metadata": {},
      "outputs": [],
      "source": [
        "name = \"Alice\"\n",
        "age = 30\n",
        "age = age + 30\n",
        "age "
      ]
    },
    {
      "cell_type": "code",
      "execution_count": null,
      "metadata": {},
      "outputs": [],
      "source": [
        "age = 70\n",
        "age"
      ]
    },
    {
      "cell_type": "code",
      "execution_count": null,
      "metadata": {},
      "outputs": [],
      "source": [
        "age = \"thirty three\"\n",
        "age"
      ]
    },
    {
      "cell_type": "markdown",
      "metadata": {},
      "source": [
        "# Data Types (primitive)"
      ]
    },
    {
      "cell_type": "markdown",
      "metadata": {},
      "source": [
        "Python supports various data types like integers, floats, strings, booleans, etc."
      ]
    },
    {
      "cell_type": "code",
      "execution_count": null,
      "metadata": {},
      "outputs": [],
      "source": [
        "# Person Information\n",
        "age_in_years = 23  # Age as an integer\n",
        "weight_kg = 70.75  # Weight in kilograms as a float\n",
        "name = \"Ahmed\"  # Arabic name as a string\n",
        "is_adult = True  # Boolean indicating if the person is an adult\n",
        "employment_status = None  # NoneType for undefined employment status\n"
      ]
    },
    {
      "cell_type": "markdown",
      "metadata": {},
      "source": [
        "# Operators\n",
        "\n"
      ]
    },
    {
      "cell_type": "markdown",
      "metadata": {},
      "source": [
        "Python provides arithmetic, comparison, logical, and other operators."
      ]
    },
    {
      "cell_type": "code",
      "execution_count": null,
      "metadata": {},
      "outputs": [],
      "source": [
        "a = 5\n",
        "b = 2\n",
        "\n",
        "print(\"a + b => \" , a + b)  # addition\n",
        "print(\"a * b => \" , a * b)  # multiplication\n",
        "print(\"a / b => \" , a / b)  # division\n",
        "print(\"a - b => \" , a - b)  # subtraction\n",
        "print(50*\"=\")\n",
        "\n",
        "print(\"a % b => \" , a % b)  # modulus\n",
        "print(\"a ** b => \" , a ** b)  # exponentiation\n",
        "print(\"a // b => \" , a // b)  # floor division\n",
        "print(50*\"=\")\n",
        "\n",
        "\n",
        "a = 2\n",
        "b = 2\n",
        "print(\"a == b => \" , a == b)  # equality\n",
        "print(\"a > b => \", a > b)  # comparison\n",
        "print(\"a <= b => \", a <= b)  # comparison\n",
        "\n",
        "a = True\n",
        "b = False\n",
        "print(50*\"=\")\n",
        "print(50*\"=\")\n",
        "print(\"a and b => \", a and b)  # logical AND\n",
        "print(\"a or b => \", a or b)  # logical OR\n"
      ]
    },
    {
      "cell_type": "markdown",
      "metadata": {
        "id": "54GPsnNsvtGx"
      },
      "source": [
        "# Hello World"
      ]
    },
    {
      "cell_type": "code",
      "execution_count": null,
      "metadata": {
        "id": "s6I9CyHRvnth"
      },
      "outputs": [],
      "source": [
        "# Basic Print Statements\n",
        "print('Hello World!')  # Simple print statement displaying the greeting.\n",
        "print(\"Hello World!\")  # Simple print statement displaying the greeting."
      ]
    },
    {
      "cell_type": "code",
      "execution_count": null,
      "metadata": {},
      "outputs": [],
      "source": [
        "# Escape Characters in Printing\n",
        "print(\"Hello \\t World!\")  # Using the escape character '\\t' to insert a tab space.\n",
        "print(\"Hello \\n World!\")  # Using the escape character '\\n' to insert a new line."
      ]
    },
    {
      "cell_type": "code",
      "execution_count": null,
      "metadata": {},
      "outputs": [],
      "source": [
        "# Printing Mathematical Expression\n",
        "print(\"5\\\\2 = 2.5\")  # Displaying a mathematical expression with proper escaping for division."
      ]
    },
    {
      "cell_type": "code",
      "execution_count": null,
      "metadata": {},
      "outputs": [],
      "source": [
        "# Handling Single Quotes in Printing\n",
        "print('khaled\\'s age is 50')  # Using the escape character to include a single quote within the string.\n",
        "print(\"khaled's age is 50\")  # Using the escape character to include a single quote within the string."
      ]
    },
    {
      "cell_type": "code",
      "execution_count": null,
      "metadata": {},
      "outputs": [],
      "source": [
        "# Handling Double Quotes in Printing\n",
        "print(\"he said \\\"get away from me\\\"\")  # Using escape characters to include double quotes within the string.\n",
        "print('he said \"get away from me\"')  # Using escape characters to include double quotes within the string."
      ]
    },
    {
      "cell_type": "code",
      "execution_count": null,
      "metadata": {},
      "outputs": [],
      "source": [
        "# Multiline Printing with Triple Quotes\n",
        "print(\"\"\" \n",
        "khaled's age is 50\n",
        "he said \"get away from me\"\n",
        "\"\"\")  # Multiline printing using triple quotes for better readability."
      ]
    },
    {
      "cell_type": "code",
      "execution_count": null,
      "metadata": {},
      "outputs": [],
      "source": [
        "# Logical OR Operation in Printing\n",
        "a = True\n",
        "b = False\n",
        "print(\"a or b => \", a or b)  # Displaying the result of the logical OR operation.\n",
        "\n",
        "# Formatted String for Logical OR\n",
        "print(f\"a or b => {a or b}\")  # Using an f-string to display the result of the logical OR operation in a formatted manner."
      ]
    },
    {
      "cell_type": "markdown",
      "metadata": {
        "id": "T2r6BVrl8AOp"
      },
      "source": [
        "# String manipulation"
      ]
    },
    {
      "cell_type": "code",
      "execution_count": null,
      "metadata": {
        "id": "gnPMeEir8Bma"
      },
      "outputs": [],
      "source": [
        "# Case 1: Concatenating Strings with Different Names\n",
        "first_name = 'Ahmad'\n",
        "last_name = 'Hassan'\n",
        "# full_name = first_name + last_name\n",
        "full_name = first_name + ' ' + last_name\n",
        "print(\"Full Name (Concatenation):\", full_name)"
      ]
    },
    {
      "cell_type": "code",
      "execution_count": null,
      "metadata": {},
      "outputs": [],
      "source": [
        "# Case 2: Concatenating Strings with F-String\n",
        "first_name = 'Ahmad'\n",
        "last_name = 'Hassan'\n",
        "full_name = f\"{first_name} {last_name}\"\n",
        "print(\"Full Name (F-String):\", full_name)"
      ]
    },
    {
      "cell_type": "code",
      "execution_count": null,
      "metadata": {},
      "outputs": [],
      "source": [
        "# Case 3: Using numerical values in String Concatenation\n",
        "age = 25\n",
        "job_title = 'Engineer'\n",
        "# info_string = first_name + \" \" + last_name + \" is \" + str(age) + \" years old and works as an \" + job_title + \".\"\n",
        "info_string = f\"{first_name} {last_name} is {age} years old and works as an {job_title}.\"\n",
        "print(\"Info String:\", info_string)"
      ]
    },
    {
      "cell_type": "code",
      "execution_count": null,
      "metadata": {},
      "outputs": [],
      "source": [
        "type(str(age))"
      ]
    },
    {
      "cell_type": "code",
      "execution_count": null,
      "metadata": {},
      "outputs": [],
      "source": [
        "# Case 4: Concatenating Strings with Numbers\n",
        "num1 = 10\n",
        "num2 = 5\n",
        "result = num1 + num2\n",
        "math_result_string = f\"The sum of {num1} and {num2} is {result}.\"\n",
        "print(\"Math Result String:\", math_result_string)"
      ]
    },
    {
      "cell_type": "code",
      "execution_count": null,
      "metadata": {},
      "outputs": [],
      "source": [
        "# Case 6: Combining String Concatenation and Repetition\n",
        "greeting = \"Hello, \"\n",
        "name = \"John\"\n",
        "repeated_greeting = greeting * 3 + name\n",
        "print(\"Repeated Greeting:\", repeated_greeting)"
      ]
    },
    {
      "cell_type": "code",
      "execution_count": null,
      "metadata": {},
      "outputs": [],
      "source": [
        "# Case 7: Creating quick line separators\n",
        "print(50*\"=+\")\n",
        "print(50*\"+=\")"
      ]
    },
    {
      "cell_type": "code",
      "execution_count": null,
      "metadata": {},
      "outputs": [],
      "source": [
        "# Case 8: Formatting Currency\n",
        "salary = 50000.32945\n",
        "formatted_salary = f\"Monthly Salary: ${salary:,.2f}\"\n",
        "print(formatted_salary)"
      ]
    },
    {
      "cell_type": "code",
      "execution_count": null,
      "metadata": {},
      "outputs": [],
      "source": [
        "# Case 9: String Slicing\n",
        "sentence = \"Python Programming is Fun!\"\n",
        "substring = sentence[7:21]\n",
        "print(\"Substring:\", substring)"
      ]
    },
    {
      "cell_type": "code",
      "execution_count": null,
      "metadata": {},
      "outputs": [],
      "source": [
        "# Case 9: String Slicing\n",
        "sentence = \"Python Programming is Fun!\"\n",
        "substring = sentence[7:]\n",
        "print(\"Substring:\", substring)"
      ]
    },
    {
      "cell_type": "code",
      "execution_count": null,
      "metadata": {},
      "outputs": [],
      "source": [
        "# Case 9: String Slicing\n",
        "sentence = \"Python Programming is Fun!\"\n",
        "substring = sentence[:21]\n",
        "print(\"Substring:\", substring)"
      ]
    },
    {
      "cell_type": "code",
      "execution_count": null,
      "metadata": {},
      "outputs": [],
      "source": [
        "# Case 9: String Slicing\n",
        "sentence = \"Python Programming is Fun!\"\n",
        "substring = sentence[7:21:2]\n",
        "print(\"Substring:\", substring)"
      ]
    },
    {
      "cell_type": "code",
      "execution_count": null,
      "metadata": {},
      "outputs": [],
      "source": [
        "# Case 10: Reversing a String\n",
        "original_string = \"Hello World\"\n",
        "reversed_string = original_string[::-1]\n",
        "print(\"Reversed String:\", reversed_string)"
      ]
    },
    {
      "cell_type": "code",
      "execution_count": null,
      "metadata": {},
      "outputs": [],
      "source": [
        "# Case 11: Stripping Whitespaces\n",
        "untrimmed_string = \"   This is a string with spaces.      \"\n",
        "trimmed_string = untrimmed_string.strip()\n",
        "print(\"Trimmed String:\", trimmed_string)"
      ]
    },
    {
      "cell_type": "code",
      "execution_count": null,
      "metadata": {},
      "outputs": [],
      "source": [
        "# Case 12: Counting Occurrences\n",
        "text = \"Python is easy to learn, Python is versatile.\"\n",
        "count_python = text.count(\"Python\")\n",
        "print(\"Occurrences of 'Python':\", count_python)"
      ]
    },
    {
      "cell_type": "code",
      "execution_count": null,
      "metadata": {},
      "outputs": [],
      "source": [
        "# Case 13: Checking String Start and End\n",
        "file_name = \"document.pdf\"\n",
        "is_txt_file = file_name.endswith(\".txt\")\n",
        "starts_with_doc_prefix = file_name.startswith(\"doc\")\n",
        "print(f\"Is '{file_name}' a text file? {is_txt_file}\")\n",
        "print(f\"Is '{file_name}' start with doc prefix? {starts_with_doc_prefix}\")"
      ]
    },
    {
      "cell_type": "code",
      "execution_count": null,
      "metadata": {},
      "outputs": [],
      "source": [
        "# Case 14: Converting to Uppercase and Lowercase\n",
        "mixed_case = \"ThIs Is A MiXeD CaSe StRiNg\"\n",
        "lowercase_string = mixed_case.lower()\n",
        "uppercase_string = mixed_case.upper()\n",
        "print(\"Lowercase String:\", lowercase_string)\n",
        "print(\"Uppercase String:\", uppercase_string)"
      ]
    },
    {
      "cell_type": "code",
      "execution_count": null,
      "metadata": {},
      "outputs": [],
      "source": [
        "# Case 15: Checking String Content\n",
        "query = \"Apple\"\n",
        "fruit_list = [\"apple\", \"banana\", \"orange\"]\n",
        "is_fruit = query.lower() in fruit_list\n",
        "print(f\"Is '{query}' a fruit? {is_fruit}\")"
      ]
    },
    {
      "cell_type": "markdown",
      "metadata": {},
      "source": [
        "# Advanced printing"
      ]
    },
    {
      "cell_type": "code",
      "execution_count": null,
      "metadata": {},
      "outputs": [],
      "source": [
        "# Formatting Numbers\n",
        "x = 3.14159265359\n",
        "print(f\"Formatted Pi: {x:.4f}\")"
      ]
    },
    {
      "cell_type": "code",
      "execution_count": null,
      "metadata": {},
      "outputs": [],
      "source": [
        "# Printing Variables\n",
        "name = \"John\"\n",
        "age = 25\n",
        "print(\"Name:\", name, \"| Age:\", age)\n",
        "print(\"Name:\", name, \"| Age:\", age)"
      ]
    },
    {
      "cell_type": "code",
      "execution_count": null,
      "metadata": {},
      "outputs": [],
      "source": [
        "# Printing Multiple Items\n",
        "item1, item2, item3 = \"Apple\", \"Banana\", \"Orange\"\n",
        "print(\"Fruits:\", item1, item2, item3)"
      ]
    },
    {
      "cell_type": "code",
      "execution_count": null,
      "metadata": {},
      "outputs": [],
      "source": [
        "# Printing Without Newline\n",
        "print(\"This is\", end=\"|\")\n",
        "print(\"a single line.\")"
      ]
    },
    {
      "cell_type": "code",
      "execution_count": null,
      "metadata": {},
      "outputs": [],
      "source": [
        "# Printing with Separator\n",
        "print(\"One\", \"Two\", \"Three\", sep=\" | \")"
      ]
    },
    {
      "cell_type": "code",
      "execution_count": null,
      "metadata": {},
      "outputs": [],
      "source": [
        "# Printing with Line Separator\n",
        "print(\"=+\" * 50)\n",
        "print(\"+=\" * 50)\n"
      ]
    },
    {
      "cell_type": "code",
      "execution_count": null,
      "metadata": {},
      "outputs": [],
      "source": [
        "# Concatenating Strings in Print\n",
        "str1 = \"Hello\"\n",
        "str2 = \"World!\"\n",
        "print(str1 + \" \" + str2)"
      ]
    },
    {
      "cell_type": "code",
      "execution_count": null,
      "metadata": {},
      "outputs": [],
      "source": [
        "# Printing Unicode Characters\n",
        "print(\"Unicode Heart: \\u2665\")"
      ]
    },
    {
      "cell_type": "markdown",
      "metadata": {
        "id": "2bSvHrSq8Gwu"
      },
      "source": [
        "# Lists\n",
        "A list stores a series of items in a particular order. You\n",
        "access items using an index, or within a loop."
      ]
    },
    {
      "cell_type": "code",
      "execution_count": null,
      "metadata": {},
      "outputs": [],
      "source": [
        "misc = [\"name\" , 15 , True]\n",
        "print(misc)"
      ]
    },
    {
      "cell_type": "code",
      "execution_count": null,
      "metadata": {},
      "outputs": [],
      "source": [
        "# Creating a list of tasks\n",
        "tasks = ['Write report', 'Attend meeting', 'Prepare presentation', 'Submit expenses', 'Review project plan', 'Follow up with clients']"
      ]
    },
    {
      "cell_type": "code",
      "execution_count": null,
      "metadata": {
        "id": "2dRoQeDE8IQp"
      },
      "outputs": [],
      "source": [
        "# Creating a list of tasks\n",
        "tasks = ['Write report', 'Attend meeting', 'Prepare presentation', 'Submit expenses', 'Review project plan', 'Follow up with clients']\n",
        "\n",
        "# Accessing elements in the list\n",
        "first_task = tasks[0]\n",
        "last_task = tasks[-1]\n",
        "before_last_task = tasks[-2]\n",
        "\n",
        "print(\"first_task: \" ,first_task)\n",
        "print(\"last_task: \" ,last_task)\n",
        "print(\"last_task: \" ,before_last_task)"
      ]
    },
    {
      "cell_type": "code",
      "execution_count": null,
      "metadata": {},
      "outputs": [],
      "source": [
        "# Iterating through the list of tasks using enumerate\n",
        "print(\"List of Tasks:\")\n",
        "for idx, task in enumerate(tasks):\n",
        "    print(f\"{idx}. {task}\")"
      ]
    },
    {
      "cell_type": "code",
      "execution_count": null,
      "metadata": {},
      "outputs": [],
      "source": [
        "# Adding list of tasks to a list\n",
        "new_tasks = ['Check emails', 'Daily stand-up meeting', 'Create agenda']\n",
        "tasks.extend(new_tasks)\n",
        "print(\"List after adding new tasks:\", tasks)"
      ]
    },
    {
      "cell_type": "code",
      "execution_count": null,
      "metadata": {},
      "outputs": [],
      "source": [
        "# Slicing a list of priority tasks\n",
        "priority_tasks = tasks[:3]\n",
        "print(\"Priority Tasks (First 3):\", priority_tasks)"
      ]
    },
    {
      "cell_type": "code",
      "execution_count": null,
      "metadata": {},
      "outputs": [],
      "source": [
        "# Slicing a list of non-priority tasks\n",
        "non_priority_tasks = tasks[3:]\n",
        "print(\"Non-Priority Tasks (After 3rd task):\", non_priority_tasks)"
      ]
    },
    {
      "cell_type": "code",
      "execution_count": null,
      "metadata": {},
      "outputs": [],
      "source": [
        "# Slicing a specific range of tasks\n",
        "selected_tasks = tasks[2:5]\n",
        "print(\"Selected Tasks (3rd to 5th):\", selected_tasks)"
      ]
    },
    {
      "cell_type": "code",
      "execution_count": null,
      "metadata": {},
      "outputs": [],
      "source": [
        "# Slicing with a step to get every alternate task\n",
        "alternate_tasks = tasks[1::2]\n",
        "print(\"Alternate Tasks (Every Alternate):\", alternate_tasks)"
      ]
    },
    {
      "cell_type": "code",
      "execution_count": null,
      "metadata": {},
      "outputs": [],
      "source": [
        "print(\"original List of Tasks:\", tasks)\n",
        "\n",
        "# Modifying elements in the list of tasks\n",
        "tasks[0] = 'Write summary'\n",
        "tasks[-1] = 'Important call'\n",
        "print(\"Modified List of Tasks:\", tasks)"
      ]
    },
    {
      "cell_type": "code",
      "execution_count": null,
      "metadata": {},
      "outputs": [],
      "source": [
        "# Appending a new task to the list\n",
        "tasks.append('New task')\n",
        "print(\"List after appending a new task:\", tasks)"
      ]
    },
    {
      "cell_type": "code",
      "execution_count": null,
      "metadata": {},
      "outputs": [],
      "source": [
        "# Inserting tasks at specific positions\n",
        "tasks.insert(2, 'Check emails')\n",
        "print(\"List after inserting tasks:\", tasks)\n",
        "tasks.insert(0, 'Daily stand-up meeting')\n",
        "print(\"List after inserting tasks:\", tasks)"
      ]
    },
    {
      "cell_type": "code",
      "execution_count": null,
      "metadata": {},
      "outputs": [],
      "source": [
        "# Removing a task by name and by position\n",
        "tasks.remove('Review project plan')\n",
        "del tasks[-2]\n",
        "print(\"List after removing tasks:\", tasks)"
      ]
    },
    {
      "cell_type": "code",
      "execution_count": null,
      "metadata": {},
      "outputs": [],
      "source": [
        "# Popping tasks from the list\n",
        "recent_task = tasks.pop()\n",
        "first_task = tasks.pop(0)\n",
        "print(\"Most recent task popped:\", recent_task)\n",
        "print(\"First task popped:\", first_task)"
      ]
    },
    {
      "cell_type": "code",
      "execution_count": null,
      "metadata": {},
      "outputs": [],
      "source": [
        "# Finding the length of the list of tasks\n",
        "num_tasks = len(tasks)\n",
        "print(f\"We have {num_tasks} tasks.\")"
      ]
    },
    {
      "cell_type": "markdown",
      "metadata": {},
      "source": [
        "## List Append Vs extend"
      ]
    },
    {
      "cell_type": "code",
      "execution_count": null,
      "metadata": {},
      "outputs": [],
      "source": [
        "# Using append to add a new task as a single element\n",
        "tasks = ['Write report', 'Attend meeting', 'Prepare presentation']\n",
        "tasks.append('Submit expenses')\n",
        "print(\"List after append (Single Element):\", tasks)"
      ]
    },
    {
      "cell_type": "code",
      "execution_count": null,
      "metadata": {},
      "outputs": [],
      "source": [
        "# Using append to add a new task as a single element, but as a nested list\n",
        "tasks = ['Write report', 'Attend meeting', 'Prepare presentation']\n",
        "tasks.append(['Submit expenses'])\n",
        "print(\"List after append (Nested List):\", tasks)"
      ]
    },
    {
      "cell_type": "code",
      "execution_count": null,
      "metadata": {},
      "outputs": [],
      "source": [
        "# Using append to add a new task as a single element, but as a nested list\n",
        "tasks = ['Write report', 'Attend meeting', 'Prepare presentation']\n",
        "tasks.append(['Review project plan', 'Follow up with clients'])\n",
        "print(\"List after append (Nested List):\", tasks)\n",
        "print(tasks[3][1])"
      ]
    },
    {
      "cell_type": "code",
      "execution_count": null,
      "metadata": {},
      "outputs": [],
      "source": [
        "# Using extend to add multiple tasks as separate elements\n",
        "tasks = ['Write report', 'Attend meeting', 'Prepare presentation']\n",
        "tasks.extend(['Review project plan', 'Follow up with clients'])\n",
        "print(\"List after extend (Multiple Elements):\", tasks)"
      ]
    },
    {
      "cell_type": "code",
      "execution_count": null,
      "metadata": {},
      "outputs": [],
      "source": [
        "# Initializing a multi-dimensional list of tasks\n",
        "multi_dim_tasks = [['Write report', 'Send emails'], ['Attend meeting', 'Prepare presentation'], ['Submit expenses', 'Review project plan']]\n",
        "\n",
        "# Accessing elements in the multi-dimensional list\n",
        "first_task_set = multi_dim_tasks[0]\n",
        "first_task = multi_dim_tasks[0][0]\n",
        "second_task = multi_dim_tasks[1][1]\n",
        "\n",
        "print(\"Multi-Dimensional List of Tasks:\")\n",
        "for task_set in multi_dim_tasks:\n",
        "    print(task_set)\n",
        "\n",
        "print(\"\\nAccessing Elements:\")\n",
        "print(\"First Task Set:\", first_task_set)\n",
        "print(\"First Task:\", first_task)\n",
        "print(\"Second Task:\", second_task)"
      ]
    },
    {
      "cell_type": "markdown",
      "metadata": {},
      "source": [
        "## List reference Vs List copy"
      ]
    },
    {
      "cell_type": "code",
      "execution_count": null,
      "metadata": {},
      "outputs": [],
      "source": [
        "a =5\n",
        "b = a\n",
        "print(a)\n",
        "print(b)\n",
        "a = 7\n",
        "print(a)\n",
        "print(b)"
      ]
    },
    {
      "cell_type": "code",
      "execution_count": null,
      "metadata": {},
      "outputs": [],
      "source": [
        "# Creating a list of tasks\n",
        "tasks = ['Write report', 'Attend meeting', 'Prepare presentation']\n",
        "\n",
        "# Creating a reference to the original list\n",
        "reference_to_tasks = tasks\n",
        "\n",
        "# Modifying elements in the original list\n",
        "tasks[0] = 'Submit expenses'\n",
        "tasks[-2] = 'Follow up with clients'\n",
        "reference_to_tasks[1] = \"Review project plan\"\n",
        "\n",
        "# Displaying both lists to show the effect of not copying\n",
        "print(\"Original tasks:\", tasks)\n",
        "print(\"Reference to tasks:\", reference_to_tasks)\n"
      ]
    },
    {
      "cell_type": "code",
      "execution_count": null,
      "metadata": {},
      "outputs": [],
      "source": [
        "# Creating a list of tasks\n",
        "tasks = ['Write report', 'Attend meeting', 'Prepare presentation']\n",
        "\n",
        "# Copying the list of tasks\n",
        "copy_of_tasks = tasks.copy()\n",
        "\n",
        "# Modifying elements in the original list\n",
        "tasks[0] = 'Submit expenses'\n",
        "tasks[-2] = 'Follow up with clients'\n",
        "\n",
        "# Displaying both lists to show the effect of copying\n",
        "print(\"Original tasks:\", tasks)\n",
        "print(\"Copy of tasks:\", copy_of_tasks)"
      ]
    },
    {
      "cell_type": "code",
      "execution_count": null,
      "metadata": {},
      "outputs": [],
      "source": [
        "# Professional Example: Analyzing Age Data\n",
        "# Updated sample data representing ages\n",
        "ages = [45, 32, 58, 27, 42, 36, 50, 48, 55, 63]\n",
        "\n",
        "# Finding the youngest age\n",
        "youngest_age = min(ages)\n",
        "\n",
        "# Finding the oldest age\n",
        "oldest_age = max(ages)\n",
        "\n",
        "# Calculating the average age\n",
        "average_age = sum(ages) / len(ages)\n",
        "\n",
        "# Displaying the results\n",
        "print(f\"Among the given ages, the youngest person is {youngest_age} years old.\")\n",
        "print(f\"The oldest person is {oldest_age} years old.\")\n",
        "print(f\"The average age among the group is approximately {average_age:.2f} years.\")\n"
      ]
    },
    {
      "cell_type": "markdown",
      "metadata": {},
      "source": [
        "# Sorting a list"
      ]
    },
    {
      "cell_type": "code",
      "execution_count": null,
      "metadata": {},
      "outputs": [],
      "source": [
        "#  Sorting a list permanently\n",
        "tasks = ['Write report', 'Attend meeting', 'Prepare presentation']\n",
        "tasks.sort()\n",
        "\n",
        "# Sorting a list permanently in reverse alphabetical order\n",
        "#  Sorting a list permanently\n",
        "tasks = ['Write report', 'Attend meeting', 'Prepare presentation']\n",
        "tasks.sort(reverse=True)\n",
        "\n",
        "# Sorting a list temporarily\n",
        "#  Sorting a list permanently\n",
        "tasks = ['Write report', 'Attend meeting', 'Prepare presentation']\n",
        "sorted_list_copy = sorted(tasks)\n",
        "print(sorted_list_copy)\n",
        "\n",
        "sorted_list_copy_reversed = sorted(tasks, reverse=True)\n",
        "print(sorted_list_copy_reversed)\n",
        "\n",
        "# Reversing the order of a list\n",
        "tasks.reverse()\n",
        "print(tasks)"
      ]
    },
    {
      "cell_type": "markdown",
      "metadata": {},
      "source": [
        "# For loops"
      ]
    },
    {
      "cell_type": "code",
      "execution_count": null,
      "metadata": {},
      "outputs": [],
      "source": [
        "users = [\"Alice\", \"Bob\", \"Charlie\", \"David\"]\n",
        "print(\"1\", users[0])\n",
        "print(\"2\", users[1])\n",
        "print(\"3\", users[2])\n",
        "print(\"4\", users[3])"
      ]
    },
    {
      "cell_type": "code",
      "execution_count": null,
      "metadata": {},
      "outputs": [],
      "source": [
        "# Sample list of users\n",
        "users = [\"Alice\", \"Bob\", \"Charlie\", \"David\"]\n",
        "\n",
        "# Printing all items in a list\n",
        "print(\"All Users:\")\n",
        "for user in users:\n",
        "    print(user.upper)"
      ]
    },
    {
      "cell_type": "code",
      "execution_count": null,
      "metadata": {},
      "outputs": [],
      "source": [
        "# Printing a personalized welcome message for each user\n",
        "users = [\"Alice\", \"Bob\", \"Charlie\", \"David\"]\n",
        "print(\"\\nWelcome Messages:\")\n",
        "for user in users:\n",
        "    print(\"Welcome, \" + user + \"!\")"
      ]
    },
    {
      "cell_type": "code",
      "execution_count": null,
      "metadata": {},
      "outputs": [],
      "source": [
        "# Printing the numbers 0 to 10\n",
        "print(\"\\nNumbers from 0 to 10:\")\n",
        "for number in range(11):\n",
        "    print(number)"
      ]
    },
    {
      "cell_type": "code",
      "execution_count": null,
      "metadata": {},
      "outputs": [],
      "source": [
        "# Printing the numbers 1 to 10\n",
        "print(\"\\nNumbers from 1 to 10:\")\n",
        "for number in range(1, 11):\n",
        "    print(number)"
      ]
    },
    {
      "cell_type": "code",
      "execution_count": null,
      "metadata": {},
      "outputs": [],
      "source": [
        "# Using break to stop the loop when a specific condition is met\n",
        "numbers = [1, 3, 7, 4, 9, 2, 5]\n",
        "for number in numbers:\n",
        "    if number == 4:\n",
        "        print(\"Found 4, breaking the loop.\")\n",
        "        break\n",
        "    print(number)"
      ]
    },
    {
      "cell_type": "code",
      "execution_count": null,
      "metadata": {},
      "outputs": [],
      "source": [
        "# Using continue to skip an iteration based on a condition\n",
        "numbers = [1, 3, 7, 4, 9, 2, 5]\n",
        "for number in numbers:\n",
        "    if number % 2 == 0:\n",
        "        continue  # Skip even numbers\n",
        "    print(number)"
      ]
    },
    {
      "cell_type": "code",
      "execution_count": null,
      "metadata": {},
      "outputs": [],
      "source": [
        "# Using enumeration to print index and value\n",
        "print(\"\\nEnumerating Users:\")\n",
        "users = [\"Alice\", \"Bob\", \"Charlie\", \"David\"]\n",
        "for idx, user in enumerate(users):\n",
        "    print(f\"{idx}. {user}\")"
      ]
    },
    {
      "cell_type": "markdown",
      "metadata": {},
      "source": [
        "## Nested loops"
      ]
    },
    {
      "cell_type": "code",
      "execution_count": null,
      "metadata": {},
      "outputs": [],
      "source": [
        "# Creating a list of colors and a list of shapes\n",
        "colors = [\"Red\", \"Green\", \"Blue\"]\n",
        "shapes = [\"Circle\", \"Square\", \"Triangle\"]\n",
        "\n",
        "# Nested for loop to create combinations of colors and shapes\n",
        "print(\"Nested For Loop Example:\")\n",
        "for i, color in enumerate(colors):\n",
        "    for j, shape in enumerate(shapes):\n",
        "        print(f\"first loop index {i}\")\n",
        "        print(f\"second loop index {j}\")\n",
        "        print(f\"{color} {shape}\")\n",
        "        print(50*\"==\")"
      ]
    },
    {
      "cell_type": "code",
      "execution_count": null,
      "metadata": {},
      "outputs": [],
      "source": [
        "# Another example with a nested loop for multiplication table\n",
        "print(\"\\nMultiplication Table:\")\n",
        "for i in range(1, 6):  # Rows\n",
        "    for j in range(1, 11):  # Columns\n",
        "        product = i * j\n",
        "        print(f\"{i} * {j} = {product}\", end=\"|| \\t\")\n",
        "    print()  # Move to the next row"
      ]
    },
    {
      "cell_type": "code",
      "execution_count": null,
      "metadata": {},
      "outputs": [],
      "source": [
        "# Multiplication Table with break\n",
        "print(\"\\nMultiplication Table with break:\")\n",
        "for i in range(1, 6):  # Rows\n",
        "    for j in range(1, 11):  # Columns\n",
        "        product = i * j\n",
        "        if product >= 30:\n",
        "            break  # Exit the entire loop structure\n",
        "        print(f\"{i} * {j} = {product}\", end=\"||\\t\")\n",
        "    print()  # Move to the next row"
      ]
    },
    {
      "cell_type": "code",
      "execution_count": null,
      "metadata": {},
      "outputs": [],
      "source": [
        "print(\"Nested For Loop Example with continue:\")\n",
        "colors = [\"Red\", \"Green\", \"Blue\"]\n",
        "shapes = [\"Circle\", \"Square\", \"Triangle\"]\n",
        "\n",
        "for color in colors:\n",
        "    for shape in shapes:\n",
        "        if color == \"Red\":\n",
        "            continue  # Skip the current iteration of the inner loop\n",
        "        print(f\"{color} {shape}\")"
      ]
    },
    {
      "cell_type": "code",
      "execution_count": null,
      "metadata": {},
      "outputs": [],
      "source": [
        "# Using zip to combine elements from two lists\n",
        "print(\"Using Zip to Combine Elements:\")\n",
        "names = [\"Alice\", \"Bob\", \"Charlie\"]\n",
        "ages = [25, 30, 22]\n",
        "\n",
        "for idx, (name, age) in enumerate(zip(names, ages)):\n",
        "    print(f\"{idx} {name} is {age} years old.\")"
      ]
    },
    {
      "cell_type": "code",
      "execution_count": null,
      "metadata": {},
      "outputs": [],
      "source": [
        "# Nested loops with a 2D array\n",
        "print(\"Nested Loops with 2D Array:\")\n",
        "matrix = [\n",
        "    [1, 2, 3],\n",
        "    [4, 5, 6],\n",
        "    [7, 8, 9]\n",
        "]\n",
        "\n",
        "for row in matrix:\n",
        "    for element in row:\n",
        "        print(element, end=' ')\n",
        "    print()  # Move to the next row"
      ]
    },
    {
      "cell_type": "markdown",
      "metadata": {},
      "source": [
        "# list comprehension\n",
        "List comprehension is a concise and expressive way to create lists in Python. It provides a syntactically compact and readable way to generate lists by applying an expression to each item in an existing iterable (such as a list, tuple, or range) and optionally including a condition to filter the items. The general syntax for list comprehension is:"
      ]
    },
    {
      "cell_type": "code",
      "execution_count": null,
      "metadata": {},
      "outputs": [],
      "source": [
        "empty_list=[]\n",
        "for i in range(1,11):\n",
        "    empty_list.append(i)\n",
        "print(empty_list)"
      ]
    },
    {
      "cell_type": "code",
      "execution_count": null,
      "metadata": {},
      "outputs": [],
      "source": [
        "# Making a list of numbers from 1 to a million using list comprehension\n",
        "print(\"\\nList of Numbers from 1 to 1,000,000:\")\n",
        "numbers = list(range(1, 1_000_001))\n",
        "print(\"Total Numbers:\", len(numbers))"
      ]
    },
    {
      "cell_type": "code",
      "execution_count": null,
      "metadata": {},
      "outputs": [],
      "source": [
        "# Using list comprehension to generate a list of square numbers\n",
        "squares = [f\"{x**2}\" for x in range(1, 11) if x > 5]\n",
        "print(\"\\nList of Square Numbers:\", squares)"
      ]
    },
    {
      "cell_type": "code",
      "execution_count": null,
      "metadata": {},
      "outputs": [],
      "source": [
        "# Generating a list of squares for odd numbers using conditional list comprehension\n",
        "numbers = [1, 2, 3, 4, 5, 6, 7, 8, 9, 10]\n",
        "\n",
        "squares_for_odd = [x**2 for x in numbers if x % 2 == 1]\n",
        "\n",
        "print(\"Original Numbers:\", numbers)\n",
        "print(\"Squares for Odd Numbers:\", squares_for_odd)"
      ]
    },
    {
      "cell_type": "markdown",
      "metadata": {},
      "source": [
        "# using tqdm"
      ]
    },
    {
      "cell_type": "code",
      "execution_count": 57,
      "metadata": {},
      "outputs": [
        {
          "name": "stdout",
          "output_type": "stream",
          "text": [
            "0\n",
            "1\n",
            "2\n",
            "3\n",
            "4\n",
            "5\n",
            "6\n",
            "7\n",
            "8\n",
            "9\n",
            "10\n",
            "11\n",
            "12\n",
            "13\n",
            "14\n",
            "15\n",
            "16\n",
            "17\n"
          ]
        },
        {
          "ename": "KeyboardInterrupt",
          "evalue": "",
          "output_type": "error",
          "traceback": [
            "\u001b[0;31m---------------------------------------------------------------------------\u001b[0m",
            "\u001b[0;31mKeyboardInterrupt\u001b[0m                         Traceback (most recent call last)",
            "Cell \u001b[0;32mIn[57], line 5\u001b[0m\n\u001b[1;32m      3\u001b[0m \u001b[38;5;66;03m# Using tqdm to show a progress bar while processing a task\u001b[39;00m\n\u001b[1;32m      4\u001b[0m \u001b[38;5;28;01mfor\u001b[39;00m i \u001b[38;5;129;01min\u001b[39;00m \u001b[38;5;28mrange\u001b[39m(\u001b[38;5;241m10000\u001b[39m):\n\u001b[0;32m----> 5\u001b[0m     \u001b[43mtime\u001b[49m\u001b[38;5;241;43m.\u001b[39;49m\u001b[43msleep\u001b[49m\u001b[43m(\u001b[49m\u001b[38;5;241;43m1\u001b[39;49m\u001b[43m)\u001b[49m  \u001b[38;5;66;03m# Simulating some processing time\u001b[39;00m\n\u001b[1;32m      6\u001b[0m     \u001b[38;5;28mprint\u001b[39m(i)\n",
            "\u001b[0;31mKeyboardInterrupt\u001b[0m: "
          ]
        }
      ],
      "source": [
        "import time\n",
        "\n",
        "# Using tqdm to show a progress bar while processing a task\n",
        "for i in range(10000):\n",
        "    time.sleep(1)  # Simulating some processing time\n",
        "    print(i)"
      ]
    },
    {
      "cell_type": "code",
      "execution_count": 59,
      "metadata": {},
      "outputs": [
        {
          "name": "stdout",
          "output_type": "stream",
          "text": [
            "\n",
            "Processing with tqdm:\n"
          ]
        },
        {
          "name": "stderr",
          "output_type": "stream",
          "text": [
            "Processing:   0%|          | 9/10000 [00:09<3:03:51,  1.10s/it]\n"
          ]
        },
        {
          "ename": "KeyboardInterrupt",
          "evalue": "",
          "output_type": "error",
          "traceback": [
            "\u001b[0;31m---------------------------------------------------------------------------\u001b[0m",
            "\u001b[0;31mKeyboardInterrupt\u001b[0m                         Traceback (most recent call last)",
            "Cell \u001b[0;32mIn[59], line 7\u001b[0m\n\u001b[1;32m      5\u001b[0m \u001b[38;5;28mprint\u001b[39m(\u001b[38;5;124m\"\u001b[39m\u001b[38;5;130;01m\\n\u001b[39;00m\u001b[38;5;124mProcessing with tqdm:\u001b[39m\u001b[38;5;124m\"\u001b[39m)\n\u001b[1;32m      6\u001b[0m \u001b[38;5;28;01mfor\u001b[39;00m i \u001b[38;5;129;01min\u001b[39;00m tqdm(\u001b[38;5;28mrange\u001b[39m(\u001b[38;5;241m10000\u001b[39m), desc\u001b[38;5;241m=\u001b[39m\u001b[38;5;124m\"\u001b[39m\u001b[38;5;124mProcessing\u001b[39m\u001b[38;5;124m\"\u001b[39m):\n\u001b[0;32m----> 7\u001b[0m     \u001b[43mtime\u001b[49m\u001b[38;5;241;43m.\u001b[39;49m\u001b[43msleep\u001b[49m\u001b[43m(\u001b[49m\u001b[38;5;241;43m1\u001b[39;49m\u001b[43m)\u001b[49m  \u001b[38;5;66;03m# Simulating some processing time\u001b[39;00m\n\u001b[1;32m      8\u001b[0m     \u001b[38;5;66;03m# print(i)\u001b[39;00m\n",
            "\u001b[0;31mKeyboardInterrupt\u001b[0m: "
          ]
        }
      ],
      "source": [
        "import time\n",
        "from tqdm import tqdm\n",
        "\n",
        "# Using tqdm to show a progress bar while processing a task\n",
        "print(\"\\nProcessing with tqdm:\")\n",
        "for i in tqdm(range(10000), desc=\"Processing\"):\n",
        "    time.sleep(1)  # Simulating some processing time\n",
        "    # print(i)\n"
      ]
    },
    {
      "cell_type": "markdown",
      "metadata": {
        "id": "oT_88LyP9lKS"
      },
      "source": [
        "# Tuples\n",
        "Tuples are similar to lists, but the items in a tuple cannot be modified"
      ]
    },
    {
      "cell_type": "markdown",
      "metadata": {},
      "source": [
        "# Tuples vs Lists:\n",
        "\n",
        "## Tuples:\n",
        "- Immutable sequences.\n",
        "- Defined using parentheses `()` instead of square brackets `[]`.\n",
        "- Suitable for fixed data that should not be modified.\n",
        "- Slightly more memory-efficient than lists.\n",
        "- Faster iteration compared to lists.\n",
        "- Commonly used for representing fixed collections like coordinates, RGB values, etc.\n",
        "\n",
        "## Lists:\n",
        "- Mutable sequences.\n",
        "- Defined using square brackets `[]`.\n",
        "- Dynamic and flexible, allowing modifications.\n",
        "- More memory consumption compared to tuples.\n",
        "- Versatile and suitable for various data manipulation operations.\n",
        "- Commonly used for dynamic collections and data that may change over time.\n",
        "\n",
        "### Key Differences:\n",
        "- Tuples use parentheses, while lists use square brackets.\n",
        "- Tuples are immutable, lists are mutable.\n",
        "- Tuples are generally faster and use less memory.\n",
        "- Lists are more versatile and commonly used for dynamic data.\n",
        "- The choice depends on whether the data needs to be modified and the specific use case."
      ]
    },
    {
      "cell_type": "code",
      "execution_count": null,
      "metadata": {},
      "outputs": [],
      "source": [
        "# Creating a tuple of coordinates\n",
        "point = (3, 7)\n",
        "x, y = point\n",
        "print(\"Tuple Point:\", point)\n",
        "print(\"X Coordinate:\", x)\n",
        "print(\"Y Coordinate:\", y)\n"
      ]
    },
    {
      "cell_type": "code",
      "execution_count": null,
      "metadata": {},
      "outputs": [],
      "source": [
        "# Attempting to modify a tuple raises an error\n",
        "coord = (5, 9)\n",
        "# coord[0] = 2  # This line will result in a TypeError"
      ]
    },
    {
      "cell_type": "markdown",
      "metadata": {},
      "source": [
        "## Tuples are memory efficient"
      ]
    },
    {
      "cell_type": "code",
      "execution_count": null,
      "metadata": {},
      "outputs": [],
      "source": [
        "import sys\n",
        "\n",
        "tuple_example = (1, 2, 3)\n",
        "list_example = [1, 2, 3]\n",
        "\n",
        "print(\"Memory Usage - Tuple:\", sys.getsizeof(tuple_example), \"bytes\")\n",
        "print(\"Memory Usage - List:\", sys.getsizeof(list_example), \"bytes\")\n"
      ]
    },
    {
      "cell_type": "markdown",
      "metadata": {},
      "source": [
        "## Tuples are time efficient"
      ]
    },
    {
      "cell_type": "code",
      "execution_count": null,
      "metadata": {},
      "outputs": [],
      "source": [
        "import timeit\n",
        "\n",
        "tuple_time = timeit.timeit('for _ in (1, 2, 3): pass', number=1000000)\n",
        "list_time = timeit.timeit('for _ in [1, 2, 3]: pass', number=1000000)\n",
        "\n",
        "print(\"Iteration Time - Tuple:\", tuple_time)\n",
        "print(\"Iteration Time - List:\", list_time)"
      ]
    },
    {
      "cell_type": "markdown",
      "metadata": {},
      "source": [
        "## Sets"
      ]
    },
    {
      "cell_type": "code",
      "execution_count": null,
      "metadata": {},
      "outputs": [],
      "source": [
        "# Creating a set of unique colors\n",
        "colors = {'red', 'green', 'blue', 'red'}  # Duplicates are automatically removed\n",
        "print(\"Set of Colors:\", colors)\n",
        "\n",
        "# Adding and removing elements\n",
        "colors.add('yellow')\n",
        "colors.remove('red')  # Raises an error if 'red' is not present\n",
        "colors.discard('orange')  # Removes 'orange' if present, no error if not\n",
        "\n",
        "# Set Operations:\n",
        "set_A = {1, 2, 3, 4}\n",
        "set_B = {3, 4, 5, 6}\n",
        "\n",
        "# Union of sets\n",
        "union_set = set_A | set_B\n",
        "print(\"Union of Sets:\", union_set)\n",
        "\n",
        "# Intersection of sets\n",
        "intersection_set = set_A & set_B\n",
        "print(\"Intersection of Sets:\", intersection_set)\n",
        "\n",
        "# Difference of sets\n",
        "difference_set = set_A - set_B\n",
        "print(\"Difference of Sets:\", difference_set)\n",
        "\n",
        "# Sets vs Lists:\n",
        "\n",
        "# Uniqueness and Order:\n",
        "# Creating a list with duplicates\n",
        "grades = [90, 85, 92, 90, 88]\n",
        "\n",
        "# Converting the list to a set for uniqueness\n",
        "unique_grades = set(grades)\n",
        "\n",
        "print(\"Original List of Grades:\", grades)\n",
        "print(\"Set of Unique Grades:\", unique_grades)\n",
        "\n",
        "# Set Membership:\n",
        "# Checking membership in a set\n",
        "fruits = {'apple', 'banana', 'orange'}\n",
        "\n",
        "print('banana' in fruits)  # True\n",
        "print('grape' in fruits)   # False\n"
      ]
    },
    {
      "cell_type": "code",
      "execution_count": null,
      "metadata": {},
      "outputs": [],
      "source": [
        "import timeit\n",
        "\n",
        "# Create a large set and list\n",
        "large_set = set(range(10_000))\n",
        "large_list = list(range(10_000))\n",
        "\n",
        "# Membership checking in a set\n",
        "set_membership_time = timeit.timeit('9999 in large_set', globals=globals(), number=100000)\n",
        "print(\"Set Membership Time:\", set_membership_time)\n",
        "\n",
        "# Membership checking in a list\n",
        "list_membership_time = timeit.timeit('9999 in large_list', globals=globals(), number=100000)\n",
        "print(\"List Membership Time:\", list_membership_time)\n",
        "print(f\"Sets are faster by {list_membership_time/ set_membership_time} times\")\n"
      ]
    },
    {
      "cell_type": "code",
      "execution_count": null,
      "metadata": {},
      "outputs": [],
      "source": [
        "import timeit\n",
        "\n",
        "# Create a large set and list\n",
        "large_set = set(range(100_000))\n",
        "large_list = list(range(100_000))\n",
        "\n",
        "# Membership checking in a set\n",
        "set_membership_time = timeit.timeit('99999 in large_set', globals=globals(), number=100000)\n",
        "print(\"Set Membership Time:\", set_membership_time)\n",
        "\n",
        "# Membership checking in a list\n",
        "list_membership_time = timeit.timeit('99999 in large_list', globals=globals(), number=100000)\n",
        "print(\"List Membership Time:\", list_membership_time)\n",
        "print(f\"Sets are faster by {list_membership_time/ set_membership_time} times\")\n"
      ]
    },
    {
      "cell_type": "markdown",
      "metadata": {
        "id": "LqnxaWc69ziH"
      },
      "source": [
        "# If statements\n",
        "If statements are used to test for particular conditions and\n",
        "respond appropriately.\n"
      ]
    },
    {
      "cell_type": "code",
      "execution_count": null,
      "metadata": {
        "id": "r2LTAlVX9cTe"
      },
      "outputs": [],
      "source": [
        "# Conditional tests with numerical values\n",
        "x = 5\n",
        "equals_15 = x == 15  # equals\n",
        "not_equals_15 = x != 15  # not equal\n",
        "greater_than_15 = x > 15  # greater than\n",
        "greater_than_or_equal_to_15 = x >= 15  # greater than or equal to\n",
        "less_than_15 = x < 15  # less than\n",
        "less_than_or_equal_to_15 = x <= 15  # less than or equal to\n",
        "\n",
        "# Conditional tests with a list of tasks\n",
        "tasks = [\"Write report\", \"Attend meeting\", \"Prepare presentation\", \"Submit expenses\"]\n",
        "task_exist = 'Write report' in tasks\n",
        "task_not_exist = 'Review project plan' not in tasks\n",
        "\n",
        "# A simple if test related to academic eligibility\n",
        "credits_completed = 90\n",
        "if credits_completed >= 120:\n",
        "    print(\"You are eligible for graduation\")\n",
        "\n",
        "gpa = 3.9\n",
        "\n",
        "# Checking eligibility for honors based on GPA\n",
        "if gpa >= 3.5:\n",
        "    print(\"Congratulations! You are eligible for the Dean's List.\")\n",
        "if gpa >= 3.8:\n",
        "    print(\"In addition, you qualify for the President's List.\")\n",
        "\n",
        "# If-else statement for graduation status\n",
        "credits_completed = 110\n",
        "if credits_completed >= 120:\n",
        "    print(\"Congratulations! You are eligible for graduation.\")\n",
        "else:\n",
        "    print(\"You are still working towards meeting the graduation requirements.\")\n",
        "\n",
        "# If-elif-else statements determining tuition fees based on academic progress\n",
        "current_gpa = 3.5\n",
        "if current_gpa < 2.0:\n",
        "    tuition_fee = 0\n",
        "elif 2.0 <= current_gpa < 3.0:\n",
        "    tuition_fee = 5000\n",
        "else:\n",
        "    tuition_fee = 10000\n",
        "\n",
        "# Comments explaining the logic of the if-elif-else statements\n",
        "# If the GPA is below 2.0, the student receives a full tuition waiver.\n",
        "# If the GPA is between 2.0 (inclusive) and 3.0 (exclusive), the student pays a reduced tuition fee of $5000.\n",
        "# If the GPA is 3.0 or above, the student pays the full tuition fee of $10000.\n"
      ]
    },
    {
      "cell_type": "markdown",
      "metadata": {
        "id": "hN0qKSjkBYeb"
      },
      "source": [
        "# Dictionaries\n",
        "\n",
        "Dictionaries store connections between pieces of\n",
        "information. Each item in a dictionary is a key-value pair.\n",
        "\n",
        "<!--  -->\n",
        "<!--  -->"
      ]
    },
    {
      "cell_type": "code",
      "execution_count": null,
      "metadata": {
        "colab": {
          "base_uri": "https://localhost:8080/",
          "height": 69
        },
        "id": "1rtUg1GL-QL5",
        "outputId": "c6a0a4f3-3560-4980-8412-c55e28effcac"
      },
      "outputs": [],
      "source": [
        "# Employee information dictionary\n",
        "employee_data = {\n",
        "    'John Doe': {'department': 'Marketing', 'position': 'Senior Analyst', 'years_experience': 8},\n",
        "    'Alice Smith': {'department': 'Finance', 'position': 'Manager', 'years_experience': 12},\n",
        "    'Bob Johnson': {'department': 'Engineering', 'position': 'Software Engineer', 'years_experience': 5},\n",
        "    'Eva Williams': {'department': 'Human Resources', 'position': 'HR Specialist', 'years_experience': 7}\n",
        "}\n",
        "\n",
        "# Accessing values\n",
        "john_position = employee_data['John Doe']['position']\n",
        "print(\"John Doe's Position:\", john_position)\n",
        "\n",
        "# Adding a new employee\n",
        "new_employee = {'department': 'Sales', 'position': 'Sales Representative', 'years_experience': 3}\n",
        "employee_data['Laura Miller'] = new_employee\n",
        "\n",
        "# Looping through all employee names\n",
        "print(\"Employee Names:\")\n",
        "for employee_name in employee_data:\n",
        "    print(employee_name)\n",
        "\n",
        "# Looping through all employee information\n",
        "print(\"\\nEmployee Information:\")\n",
        "for employee_name, employee_info in employee_data.items():\n",
        "    print(f\"{employee_name}: {employee_info['position']} in {employee_info['department']}\")\n",
        "\n",
        "# Looping through all departments\n",
        "print(\"\\nDepartments:\")\n",
        "for department in set(employee_info['department'] for employee_info in employee_data.values()):\n",
        "    print(department)\n",
        "\n",
        "# Looping through years of experience\n",
        "print(\"\\nYears of Experience:\")\n",
        "for experience in set(employee_info['years_experience'] for employee_info in employee_data.values()):\n",
        "    print(f\"{experience} years of experience\")"
      ]
    },
    {
      "cell_type": "markdown",
      "metadata": {
        "id": "oPI9urJBDtAX"
      },
      "source": [
        "# User input\n",
        "Your programs can prompt the user for input. All input is\n",
        "stored as a string."
      ]
    },
    {
      "cell_type": "code",
      "execution_count": null,
      "metadata": {
        "id": "Ug_50AdxDw1O"
      },
      "outputs": [],
      "source": [
        "# Prompting for value\n",
        "name = input('what is your name?')\n",
        "print('Hello, ' + name + '!')\n",
        "\n",
        "# Prompting for for numerical input\n",
        "age = input('How old are you?')\n",
        "age = int(age)\n",
        "\n",
        "pi = input('what is  the value of pi?')\n",
        "pi = float(pi)\n",
        "print(pi)"
      ]
    },
    {
      "cell_type": "markdown",
      "metadata": {
        "id": "kS07gVA_EkNM"
      },
      "source": [
        "# While loops\n",
        "A while loop repeats a block of code as long as a certain\n",
        "condition is true.\n"
      ]
    },
    {
      "cell_type": "code",
      "execution_count": null,
      "metadata": {
        "id": "ugoi2KVqEu4E"
      },
      "outputs": [],
      "source": [
        "# A simple while loop\n",
        "current_value = 1\n",
        "while current_value <= 5:\n",
        "    print(current_value)\n",
        "    current_value +=1\n",
        "\n",
        "  # Letting the user choose when to quit\n",
        "msg = ''\n",
        "while msg !='quit':\n",
        "    msg = input('what is your message?')\n",
        "    print(msg)\n",
        "\n",
        "# Letting the user choose when to quit with break\n",
        "print(\"\\nLetting the User Choose When to Quit (with break):\")\n",
        "while True:\n",
        "    user_input = input('Enter your message (type \"quit\" to exit): ')\n",
        "    if user_input == 'quit':\n",
        "        break\n",
        "    print(user_input)\n",
        "\n",
        "# Letting the user choose when to quit with continue\n",
        "print(\"\\nLetting the User Choose When to Quit (with continue):\")\n",
        "while True:\n",
        "    user_input = input('Enter your message (type \"quit\" to exit): ')\n",
        "    if user_input == 'quit':\n",
        "        print(\"Exiting loop.\")\n",
        "        break\n",
        "    elif user_input == 'skip':\n",
        "        print(\"Skipping this iteration.\")\n",
        "        continue\n",
        "    print(\"this code would be skipped if we used skip\")\n",
        "    print(user_input)"
      ]
    },
    {
      "cell_type": "markdown",
      "metadata": {
        "id": "fOR4wxx_FP2j"
      },
      "source": [
        "# Functions"
      ]
    },
    {
      "cell_type": "code",
      "execution_count": null,
      "metadata": {},
      "outputs": [],
      "source": [
        "def square_number(number):\n",
        "    return number ** 2\n",
        "\n",
        "# Example usage:\n",
        "input_number = int(input(\"Enter a number: \"))\n",
        "result = square_number(input_number)\n",
        "print(f\"The square of {input_number} is: {result}\")\n"
      ]
    },
    {
      "cell_type": "code",
      "execution_count": null,
      "metadata": {},
      "outputs": [],
      "source": [
        "def calculate_rectangle_properties(length, width):\n",
        "    area = length * width\n",
        "    perimeter = 2 * (length + width)\n",
        "    return area, perimeter\n",
        "\n",
        "# Example usage:\n",
        "rectangle_length = float(input(\"Enter the length of the rectangle: \"))\n",
        "rectangle_width = float(input(\"Enter the width of the rectangle: \"))\n",
        "area_result, perimeter_result = calculate_rectangle_properties(rectangle_length, rectangle_width)\n",
        "print(f\"The area is: {area_result}, and the perimeter is: {perimeter_result}\")\n"
      ]
    },
    {
      "cell_type": "code",
      "execution_count": null,
      "metadata": {},
      "outputs": [],
      "source": [
        "def print_welcome_message():\n",
        "    print(\"Welcome to our system!\")\n",
        "\n",
        "# Example usage:\n",
        "print_welcome_message()\n"
      ]
    },
    {
      "cell_type": "code",
      "execution_count": null,
      "metadata": {},
      "outputs": [],
      "source": [
        "def greet_user(name):\n",
        "    print(f\"Hello, {name}!\")\n",
        "\n",
        "# Example usage:\n",
        "user_name = input(\"Enter your name: \")\n",
        "greet_user(user_name)"
      ]
    },
    {
      "cell_type": "code",
      "execution_count": null,
      "metadata": {},
      "outputs": [],
      "source": [
        "def create_project_profile(project_name, project_manager, deadline='Not specified', technology_stack='Not specified'):\n",
        "    \"\"\"Build a project profile with default values for optional arguments.\"\"\"\n",
        "    project_profile = {'Project Name': project_name, 'Project Manager': project_manager, 'Deadline': deadline, 'Technology Stack': technology_stack}\n",
        "    return project_profile\n",
        "\n",
        "# Create a project profile with default values for optional arguments.\n",
        "project_profile_default = create_project_profile('Marketing Campaign', 'John Doe')\n",
        "print(project_profile_default)\n",
        "\n",
        "# Create another project profile with specified values for optional arguments.\n",
        "project_profile_specified = create_project_profile('Software Development', 'Jane Smith', deadline='2022-06-30', technology_stack='Python, Django')\n",
        "print(project_profile_specified)\n"
      ]
    },
    {
      "cell_type": "markdown",
      "metadata": {},
      "source": [
        "# Passing a list to a function\n",
        "You can pass a list as an argument to a function, and the\n",
        "function can work with the values in the list. Any changes\n",
        "the function makes to the list will affect the original list. You\n",
        "can prevent a function from modifying a list by passing a\n",
        "copy of the list as an argument."
      ]
    },
    {
      "cell_type": "code",
      "execution_count": null,
      "metadata": {},
      "outputs": [],
      "source": [
        "# Passing a list as an argument\n",
        "def greet_users(users):\n",
        "    \"\"\"Print a simple greeting to everyone.\"\"\"\n",
        "    for user in users:\n",
        "        message = \"Hello, \" + user + \"!\"\n",
        "        print(message)\n",
        "\n",
        "company_users = ['Ali', 'Fatima', 'Mohammed']\n",
        "greet_users(company_users)"
      ]
    },
    {
      "cell_type": "markdown",
      "metadata": {},
      "source": [
        "# Allowing a function to modify a list\n",
        "The following example sends a list of models to a function for\n",
        "printing. The original list is emptied, and the second list is filled."
      ]
    },
    {
      "cell_type": "code",
      "execution_count": null,
      "metadata": {},
      "outputs": [],
      "source": [
        "def manage_tasks(todo_list, completed_tasks):\n",
        "    \"\"\"Simulate task management.\"\"\"\n",
        "    while todo_list:\n",
        "        current_task = todo_list.pop(0)\n",
        "        print(\"Working on task: \" + current_task)\n",
        "        completed_tasks.append(current_task)\n",
        "\n",
        "# Define a list of tasks to be completed,\n",
        "# and manage each task.\n",
        "todo_tasks = ['Prepare quarterly report', 'Conduct team meeting', 'Review project proposal']\n",
        "completed_tasks = []\n",
        "manage_tasks(todo_tasks, completed_tasks)\n",
        "\n",
        "# Display the remaining tasks and completed tasks.\n",
        "print(\"\\nRemaining Tasks:\", todo_tasks)\n",
        "print(\"Completed Tasks:\", completed_tasks)"
      ]
    },
    {
      "cell_type": "markdown",
      "metadata": {},
      "source": [
        "# Preventing a function from modifying a list\n",
        "The following example is the same as the previous one, except the\n",
        "original list is unchanged after calling print_models()."
      ]
    },
    {
      "cell_type": "code",
      "execution_count": null,
      "metadata": {},
      "outputs": [],
      "source": [
        "def manage_tasks(unfinished_tasks, completed_tasks):\n",
        "    \"\"\"Simulate task management.\"\"\"\n",
        "    while unfinished_tasks:\n",
        "        current_task = unfinished_tasks.pop(0)\n",
        "        print(\"Working on task: \" + current_task)\n",
        "        completed_tasks.append(current_task)\n",
        "\n",
        "# Define a list of original tasks to be completed,\n",
        "# and manage each task.\n",
        "original_tasks = ['Prepare quarterly report', 'Conduct team meeting', 'Review project proposal']\n",
        "completed_tasks = []\n",
        "manage_tasks(original_tasks[:], completed_tasks)\n",
        "\n",
        "# Display the original tasks and completed tasks.\n",
        "print(\"\\nOriginal Tasks:\", original_tasks)\n",
        "print(\"Completed Tasks:\", completed_tasks)\n",
        "\n",
        "\n",
        "# you can use .copy function to make a copy of the list\n",
        "# and manage each task.\n",
        "original_tasks = ['Prepare quarterly report', 'Conduct team meeting', 'Review project proposal']\n",
        "completed_tasks = []\n",
        "manage_tasks(original_tasks[:], completed_tasks)\n",
        "\n",
        "# Display the original tasks and completed tasks.\n",
        "print(\"\\nOriginal Tasks:\", original_tasks)\n",
        "print(\"Completed Tasks:\", completed_tasks)\n",
        "\n"
      ]
    },
    {
      "cell_type": "markdown",
      "metadata": {},
      "source": [
        "# Passing a number of arguments\n",
        "\n",
        "Sometimes you won't know how many arguments a\n",
        "function will need to accept. Python allows you to collect an\n",
        "arbitrary number of arguments into one parameter using\n",
        "\n",
        "The ''*'' operator. A parameter that accepts an arbitrary number of\n",
        "arguments must come last in the function definition.\n",
        "\n",
        " The ** operator allows a parameter to collect an arbitrary\n",
        "number of keyword arguments"
      ]
    },
    {
      "cell_type": "code",
      "execution_count": null,
      "metadata": {},
      "outputs": [],
      "source": [
        "def create_project(project_name, *tasks):\n",
        "    \"\"\"Create a new project with specified tasks.\"\"\"\n",
        "    print(\"\\nCreating a project named '\" + project_name + \"' with the following tasks:\")\n",
        "    for task in tasks:\n",
        "        print(\"- \" + task)\n",
        "    print(\"Project successfully created.\")\n",
        "\n",
        "# Create three projects with different sets of tasks.\n",
        "create_project('Marketing Campaign', 'Define target audience', 'Create content strategy', 'Launch social media ads')\n",
        "create_project('Software Development', 'Design database schema', 'Implement backend functionality', 'Conduct testing')\n",
        "create_project('Event Planning', 'Book venue', 'Coordinate catering', 'Manage invitations', 'Ensure logistics')\n"
      ]
    },
    {
      "cell_type": "code",
      "execution_count": null,
      "metadata": {},
      "outputs": [],
      "source": [
        "def create_project_profile(project_name, project_manager, **project_details):\n",
        "    \"\"\"Build a project profile dictionary.\"\"\"\n",
        "    # Build a dict with the required keys.\n",
        "    project_profile = {'Project Name': project_name, 'Project Manager': project_manager}\n",
        "    # Add any other keys and values.\n",
        "    for key, value in project_details.items():\n",
        "        project_profile[key] = value\n",
        "    return project_profile\n",
        "\n",
        "# Create two project profiles with different kinds\n",
        "# of information.\n",
        "project_profile_0 = create_project_profile('Marketing Campaign', 'John Doe', target_audience='young professionals', budget='$50,000')\n",
        "project_profile_1 = create_project_profile('Software Development', 'Jane Smith', technology_stack='Python, Django', deadline='2022-06-30')\n",
        "print(project_profile_0)\n",
        "print(project_profile_1)\n"
      ]
    },
    {
      "cell_type": "code",
      "execution_count": null,
      "metadata": {},
      "outputs": [],
      "source": [
        "def create_profile(**kwargs):\n",
        "    \"\"\"Create a user profile with provided field names.\"\"\"\n",
        "    profile = {}\n",
        "    for field, value in kwargs.items():\n",
        "        profile[field] = value\n",
        "    return profile\n",
        "\n",
        "# Create a user profile with specified field names.\n",
        "user_profile = create_profile(username='john_doe', email='john@example.com', age=30)\n",
        "print(user_profile)\n"
      ]
    },
    {
      "cell_type": "markdown",
      "metadata": {},
      "source": [
        "# Type hinting and docstring"
      ]
    },
    {
      "cell_type": "markdown",
      "metadata": {},
      "source": [
        "* Clarity and Readability:\n",
        "\n",
        "Type hints provide explicit information about the expected types of variables, making the code more readable and self-explanatory.\n",
        "Developers can quickly understand the intended use of functions and variables.\n",
        "* Enhanced Tooling Support:\n",
        "\n",
        "Type hints enable better integration with code editors, IDEs, and linters, allowing for more accurate autocompletion, error checking, and static analysis.\n",
        "Tools like MyPy use type hints to perform static type checking, catching potential errors before runtime.\n",
        "* Reduced Bugs and Errors:\n",
        "\n",
        "Type hints help catch type-related bugs early in the development process.\n",
        "Improved clarity reduces the likelihood of unintentional type-related mistakes.\n",
        "* Collaboration and Documentation:\n",
        "\n",
        "Type hints serve as a form of documentation, aiding collaboration among developers.\n",
        "Team members can understand the expected types without delving into the implementation details.\n",
        "* Maintainability:\n",
        "\n",
        "Codebase with type hints are generally more maintainable, as developers can make changes with confidence, knowing the expected types and catching potential issues."
      ]
    },
    {
      "cell_type": "code",
      "execution_count": null,
      "metadata": {},
      "outputs": [],
      "source": [
        "def add_numbers(x: int, y: int) -> int:\n",
        "    \"\"\"\n",
        "    Add two numbers and return the sum.\n",
        "\n",
        "    :param x: First number (int).\n",
        "    :param y: Second number (int).\n",
        "    :return: Sum of x and y (int).\n",
        "    \"\"\"\n",
        "    return x + y\n",
        "\n",
        "result = add_numbers(3, 4)  # Type hinting helps catch potential errors.\n",
        "print(result)\n"
      ]
    },
    {
      "cell_type": "code",
      "execution_count": null,
      "metadata": {},
      "outputs": [],
      "source": [
        "from typing import Union, Optional, Any\n",
        "\n",
        "# Type hinting for a simple variable\n",
        "name: str\n",
        "name = \"John\"\n",
        "\n",
        "# Type hinting for a list of integers\n",
        "numbers: list[int]\n",
        "numbers = [1, 2, 3, 4, 5]\n",
        "\n",
        "# Type hinting for a tuple\n",
        "coordinates: tuple[float, float]\n",
        "coordinates = (3.14, 2.71)\n",
        "\n",
        "# Type hinting for a dictionary with string keys and integer values\n",
        "grades: dict[str, int]\n",
        "grades = {'Math': 95, 'English': 88, 'History': 92}\n",
        "\n",
        "# Type hinting for a boolean variable\n",
        "is_valid: bool\n",
        "is_valid = True\n",
        "\n",
        "# Type hinting for a variable with Union type\n",
        "result: Union[int, str]\n",
        "result = 42\n",
        "\n",
        "# Type hinting for a variable with Optional type\n",
        "age: Optional[int]\n",
        "age = None\n",
        "\n",
        "# Type hinting for a complex data structure\n",
        "user_info: dict[str, Union[str, int]]\n",
        "user_info = {'name': 'Alice', 'age': 30, 'email': 'alice@example.com'}\n",
        "\n",
        "# Type hinting for a variable with Any type\n",
        "unknown_value: Any\n",
        "unknown_value = 42"
      ]
    },
    {
      "cell_type": "markdown",
      "metadata": {},
      "source": [
        "# Code guide\n",
        "\n",
        "it's super important to adhere to writing style \n",
        "https://peps.python.org/pep-0008/\n"
      ]
    },
    {
      "cell_type": "markdown",
      "metadata": {},
      "source": [
        "# Importing and installing packages with pip"
      ]
    },
    {
      "cell_type": "code",
      "execution_count": null,
      "metadata": {},
      "outputs": [],
      "source": [
        "# Installing a Package using pip:\n",
        "# Assume you want to install the requests package, a popular package for making HTTP requests.\n",
        "# You can install it using pip in your terminal or command prompt:\n",
        "!pip install requests\n",
        "\n",
        "# also check Poetry"
      ]
    },
    {
      "cell_type": "code",
      "execution_count": null,
      "metadata": {},
      "outputs": [],
      "source": [
        "# Importing the math module\n",
        "import math\n",
        "\n",
        "# Using a function from the math module\n",
        "result = math.sqrt(25)\n",
        "print(\"Square root of 25:\", result)\n",
        "\n",
        "# Importing only the sqrt function from the math module\n",
        "from math import sqrt\n",
        "\n",
        "result = sqrt(25)\n",
        "print(\"Square root of 25:\", result)\n",
        "\n",
        "# Importing the requests module with an alias\n",
        "import requests as req\n",
        "\n",
        "response = req.get(\"https://www.example.com\")\n",
        "print(\"Status code:\", response.status_code)\n",
        "\n",
        "# Importing all items from the math module\n",
        "from math import *\n",
        "\n",
        "result = sqrt(25)\n",
        "print(\"Square root of 25:\", result)\n",
        "\n",
        "# Importing only sqrt and the entire math module\n",
        "from math import sqrt, pi\n",
        "\n",
        "result = sqrt(25)\n",
        "print(\"Square root of 25:\", result)\n",
        "print(\"The value of pi:\", pi)\n"
      ]
    },
    {
      "cell_type": "markdown",
      "metadata": {},
      "source": [
        "# OOP"
      ]
    },
    {
      "cell_type": "code",
      "execution_count": null,
      "metadata": {
        "colab": {
          "base_uri": "https://localhost:8080/",
          "height": 105
        },
        "id": "j20-_KGKf4o0",
        "outputId": "101fec74-8174-460b-aac4-ec5d78f3dd78"
      },
      "outputs": [],
      "source": [
        "class Project:\n",
        "    \"\"\"A class to represent a project.\"\"\"\n",
        "\n",
        "    def __init__(self, name, description, start_date, end_date=None):\n",
        "        \"\"\"Initialize project attributes.\"\"\"\n",
        "        self.name = name\n",
        "        self.description = description\n",
        "        self.start_date = start_date\n",
        "        self.end_date = end_date\n",
        "        self.tasks = []\n",
        "        self.team_members = []\n",
        "\n",
        "    def add_task(self, task):\n",
        "        \"\"\"Add a task to the project.\"\"\"\n",
        "        self.tasks.append(task)\n",
        "        print(f\"Task '{task}' added to the project.\")\n",
        "\n",
        "    def assign_team_member(self, team_member):\n",
        "        \"\"\"Assign a team member to the project.\"\"\"\n",
        "        self.team_members.append(team_member)\n",
        "        print(f\"Team member '{team_member}' assigned to the project.\")\n",
        "\n",
        "    def project_status(self):\n",
        "        \"\"\"Print the project status.\"\"\"\n",
        "        print(f\"Project: {self.name}\")\n",
        "        print(f\"Description: {self.description}\")\n",
        "        print(f\"Start Date: {self.start_date}\")\n",
        "        print(f\"End Date: {self.end_date if self.end_date else 'Ongoing'}\")\n",
        "        print(\"\\nTasks:\")\n",
        "        for task in self.tasks:\n",
        "            print(f\"- {task}\")\n",
        "        print(\"\\nTeam Members:\")\n",
        "        for member in self.team_members:\n",
        "            print(f\"- {member}\")\n",
        "\n",
        "# Creating projects and adding details\n",
        "project1 = Project('Marketing Campaign', 'Digital marketing for product launch', '2022-03-01', '2022-06-30')\n",
        "project1.add_task('Create social media content')\n",
        "project1.add_task('Run targeted ads')\n",
        "project1.assign_team_member('John Doe')\n",
        "project1.assign_team_member('Jane Smith')\n",
        "\n",
        "project2 = Project('Software Development', 'Developing a new application', '2022-04-15')\n",
        "project2.add_task('Design database schema')\n",
        "project2.add_task('Implement backend functionality')\n",
        "project2.assign_team_member('Bob Johnson')\n",
        "project2.assign_team_member('Alice Brown')\n",
        "\n",
        "# Printing project details\n",
        "project1.project_status()\n",
        "print(\"\\n---------------------------\\n\")\n",
        "project2.project_status()\n"
      ]
    },
    {
      "cell_type": "markdown",
      "metadata": {},
      "source": [
        "# Working with files\n",
        "Your programs can read from files and write to files. Files\n",
        "are opened in read mode ('r') by default, but can also be\n",
        "opened in write mode ('w') and append mode ('a')."
      ]
    },
    {
      "cell_type": "code",
      "execution_count": null,
      "metadata": {},
      "outputs": [],
      "source": [
        "# Create a project file and write project details to it\n",
        "with open('projects.txt', 'w') as project_file:\n",
        "    project_file.write(\"Project: Marketing Campaign\\n\")\n",
        "    project_file.write(\"Description: Digital marketing for product launch\\n\")\n",
        "    project_file.write(\"Start Date: 2022-03-01\\n\")\n",
        "    project_file.write(\"End Date: 2022-06-30\\n\")\n",
        "    project_file.write(\"\\nTasks:\\n- Create social media content\\n- Run targeted ads\\n\")\n",
        "    project_file.write(\"\\nTeam Members:\\n- John Doe\\n- Jane Smith\\n\")\n",
        "\n",
        "# Reading project details from the file\n",
        "filename = 'projects.txt'\n",
        "with open(filename) as project_file:\n",
        "    project_lines = project_file.readlines()\n",
        "\n",
        "# Print the project details read from the file\n",
        "print(\"Project details read from 'projects.txt':\")\n",
        "for line in project_lines:\n",
        "    print(line.strip())\n",
        "\n",
        "# Appending a new project to the file\n",
        "with open(filename, 'a') as project_file:\n",
        "    project_file.write(\"\\nProject: Software Development\\n\")\n",
        "    project_file.write(\"Description: Developing a new application\\n\")\n",
        "    project_file.write(\"Start Date: 2022-04-15\\n\")\n",
        "    project_file.write(\"\\nTasks:\\n- Design database schema\\n- Implement backend functionality\\n\")\n",
        "    project_file.write(\"\\nTeam Members:\\n- Bob Johnson\\n- Alice Brown\\n\")\n",
        "\n",
        "# Reading all projects from the file and printing\n",
        "with open(filename) as project_file:\n",
        "    all_projects = project_file.read()\n",
        "\n",
        "print(\"\\nAll projects read from 'projects.txt':\")\n",
        "print(all_projects)\n"
      ]
    },
    {
      "cell_type": "markdown",
      "metadata": {},
      "source": [
        "# Globing"
      ]
    },
    {
      "cell_type": "code",
      "execution_count": null,
      "metadata": {},
      "outputs": [],
      "source": [
        "import glob\n",
        "\n",
        "# List all text files in the current directory\n",
        "text_files = glob.glob('*.txt')\n",
        "\n",
        "print(\"All text files in the current directory:\")\n",
        "for file in text_files:\n",
        "    print(file)\n",
        "\n",
        "# List all Python files in a specific directory and its subdirectories\n",
        "python_files = glob.glob('project_directory/**/*.py', recursive=True)\n",
        "\n",
        "print(\"\\nAll Python files in 'project_directory' and its subdirectories:\")\n",
        "for file in python_files:\n",
        "    print(file)\n",
        " "
      ]
    },
    {
      "cell_type": "markdown",
      "metadata": {},
      "source": [
        "# Exceptions\n",
        "Exceptions help you respond appropriately to errors that\n",
        "are likely to occur. You place code that might cause an\n",
        "error in the try block. Code that should run in response to\n",
        "an error goes in the except block. Code that should run only\n",
        "if the try block was successful goes in the else block."
      ]
    },
    {
      "cell_type": "code",
      "execution_count": null,
      "metadata": {},
      "outputs": [],
      "source": [
        "#Catching an exception\n",
        "prompt = \"How many tickets do you need? \"\n",
        "num_tickets = input(prompt)\n",
        "\n",
        "try:\n",
        "    num_tickets = int(num_tickets)\n",
        "except ValueError:\n",
        "    print(\"Please try again.\")\n",
        "else:\n",
        "    print(\"Your tickers are printing.\")"
      ]
    }
  ],
  "metadata": {
    "colab": {
      "name": "beginnersPythonCheatSheet.ipynb",
      "provenance": [],
      "toc_visible": true
    },
    "kernelspec": {
      "display_name": "Python 3",
      "name": "python3"
    },
    "language_info": {
      "codemirror_mode": {
        "name": "ipython",
        "version": 3
      },
      "file_extension": ".py",
      "mimetype": "text/x-python",
      "name": "python",
      "nbconvert_exporter": "python",
      "pygments_lexer": "ipython3",
      "version": "3.10.13"
    }
  },
  "nbformat": 4,
  "nbformat_minor": 0
}
