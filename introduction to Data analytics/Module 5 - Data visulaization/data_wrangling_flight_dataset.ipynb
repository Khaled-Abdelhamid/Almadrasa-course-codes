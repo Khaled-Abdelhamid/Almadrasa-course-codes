{
 "cells": [
  {
   "cell_type": "code",
   "execution_count": 1,
   "metadata": {},
   "outputs": [],
   "source": [
    "import pandas as pd\n",
    "from tqdm.auto import tqdm\n",
    "from ydata_profiling import ProfileReport\n",
    "tqdm.pandas()"
   ]
  },
  {
   "cell_type": "code",
   "execution_count": 2,
   "metadata": {},
   "outputs": [],
   "source": [
    "airports = pd.read_csv(\"../data/US 2023 Civil Flights  delays meteo and aircrafts/airports_geolocation.csv\")\n",
    "cancelled_diverted = pd.read_csv(\"../data/US 2023 Civil Flights  delays meteo and aircrafts/Cancelled_Diverted_2023.csv\")\n",
    "flights = pd.read_csv(filepath_or_buffer=\"../data/US 2023 Civil Flights  delays meteo and aircrafts/US_flights_2023.csv\")\n",
    "weather = pd.read_csv(\"../data/US 2023 Civil Flights  delays meteo and aircrafts/weather_meteo_by_airport.csv\")"
   ]
  },
  {
   "cell_type": "markdown",
   "metadata": {},
   "source": [
    "# TO DO\n",
    "* Get the info and datatype for each column.\n",
    "* Fix the typing in each column.\n",
    "* Describe each dataset.\n",
    "* Rename columns properly (normalize them to be lower case and with _ instead of spaces).\n",
    "* Check for duplicates .\n",
    "* Count the nulls in each column.\n",
    "* Fill/remove corrupt data (missing values)."
   ]
  },
  {
   "cell_type": "markdown",
   "metadata": {},
   "source": [
    "# Flights info"
   ]
  },
  {
   "cell_type": "markdown",
   "metadata": {},
   "source": [
    "- **index:** Unique flight ID (primary key)\n",
    "- **Day_Of_Week:** Contains the days of the week from 1 to 7\n",
    "- **Dep_Delay:** Departure delay ranging from -99 minutes to 4413 minutes with an average of 12.20 minutes\n",
    "- **Dep_Delay_Tag:** Delay tag where 1 represents a delay of more than 5 minutes\n",
    "- **Arr_Delay:** Arrival delay ranging from -119 minutes to 4405 minutes with an average of 6.62 minutes\n",
    "- **Flight_Duration:** Flight duration ranging from 0 to 795 minutes with an average of 140 minutes\n",
    "- **Delay_Carrier:** Delays caused by the airline ranging from 0 minutes to 3957 minutes\n",
    "- **Delay_Weather:** Weather-related delays ranging from 0 to 1860 minutes\n",
    "- **Delay_NAS:** Delays related to air traffic control (National Aviation System) ranging from 0 to 1708 minutes\n",
    "- **Delay_Security:** Delays related to security checks ranging from 0 to 1460 minutes\n",
    "- **Delay_LastAircraft:** Delays due to waiting for the aircraft ranging from 0 to 3581 minutes\n",
    "- **Aircraft_age:** Age of the aircraft ranging from 1 to 57 years with an average of 13.48 years\n",
    "- **Airline:** Contains the names of the **15 airlines** present in the dataset.\n",
    "- **Tail_Number:** Unique identifier of the aircraft. **5963 aircraft** are present.\n",
    "- **Dep_Airport:** Unique identifier of each departure airport. **350 airports** are represented.\n",
    "- **Dep_CityName:** Names of the departure cities. **344 cities** are represented.\n",
    "- **DepTime_label:** Division of the day into 6-hour periods (Night - Morning - Afternoon - Evening).\n",
    "- **Dep_Delay_Type:** 3 categories of departure delays (Low < 5min - Medium > 15min - High > 60min).\n",
    "- **CityName:** Names of the arrival cities. 344 cities are represented.\n",
    "- **Arr_Delay_Type:** 3 categories of arrival delays (Low < 5min - Medium > 15min - High > 60min).\n",
    "- **Distance_type:** 3 categories of flight distances in miles (Short Haul < 1500Mi, Medium Haul < 3000Mi, Long Haul < 6000Mi).\n",
    "- **Manufacturer:** Aircraft manufacturer. **5 aircraft manufacturers** are present.\n",
    "- **Model:** Model name given by the manufacturer. 21 aircraft models are present.\n"
   ]
  },
  {
   "cell_type": "code",
   "execution_count": 3,
   "metadata": {},
   "outputs": [],
   "source": [
    "day_of_week_mapping = {\n",
    "    1: \"Monday\",\n",
    "    2: \"Tuesday\",\n",
    "    3: \"Wednesday\",\n",
    "    4: \"Thursday\",\n",
    "    5: \"Friday\",\n",
    "    6: \"Saturday\",\n",
    "    7: \"Sunday\",\n",
    "}\n",
    "flights[\"Day_Of_Week\"] = flights[\"Day_Of_Week\"].map(day_of_week_mapping)\n",
    "cancelled_diverted[\"Day_Of_Week\"] = cancelled_diverted[\"Day_Of_Week\"].map(day_of_week_mapping)"
   ]
  },
  {
   "cell_type": "code",
   "execution_count": 4,
   "metadata": {},
   "outputs": [
    {
     "name": "stdout",
     "output_type": "stream",
     "text": [
      "flights: \n",
      "<class 'pandas.core.frame.DataFrame'>\n",
      "RangeIndex: 6743404 entries, 0 to 6743403\n",
      "Data columns (total 24 columns):\n",
      " #   Column              Dtype \n",
      "---  ------              ----- \n",
      " 0   FlightDate          object\n",
      " 1   Day_Of_Week         object\n",
      " 2   Airline             object\n",
      " 3   Tail_Number         object\n",
      " 4   Dep_Airport         object\n",
      " 5   Dep_CityName        object\n",
      " 6   DepTime_label       object\n",
      " 7   Dep_Delay           int64 \n",
      " 8   Dep_Delay_Tag       int64 \n",
      " 9   Dep_Delay_Type      object\n",
      " 10  Arr_Airport         object\n",
      " 11  Arr_CityName        object\n",
      " 12  Arr_Delay           int64 \n",
      " 13  Arr_Delay_Type      object\n",
      " 14  Flight_Duration     int64 \n",
      " 15  Distance_type       object\n",
      " 16  Delay_Carrier       int64 \n",
      " 17  Delay_Weather       int64 \n",
      " 18  Delay_NAS           int64 \n",
      " 19  Delay_Security      int64 \n",
      " 20  Delay_LastAircraft  int64 \n",
      " 21  Manufacturer        object\n",
      " 22  Model               object\n",
      " 23  Aicraft_age         int64 \n",
      "dtypes: int64(10), object(14)\n",
      "memory usage: 1.2+ GB\n"
     ]
    }
   ],
   "source": [
    "print(\"flights: \")\n",
    "flights.info()"
   ]
  },
  {
   "cell_type": "code",
   "execution_count": 5,
   "metadata": {},
   "outputs": [
    {
     "ename": "KeyboardInterrupt",
     "evalue": "",
     "output_type": "error",
     "traceback": [
      "\u001b[0;31m---------------------------------------------------------------------------\u001b[0m",
      "\u001b[0;31mKeyboardInterrupt\u001b[0m                         Traceback (most recent call last)",
      "Cell \u001b[0;32mIn[5], line 1\u001b[0m\n\u001b[0;32m----> 1\u001b[0m old \u001b[38;5;241m=\u001b[39m \u001b[43mflights\u001b[49m\u001b[38;5;241;43m.\u001b[39;49m\u001b[43mmemory_usage\u001b[49m\u001b[43m(\u001b[49m\u001b[43mdeep\u001b[49m\u001b[38;5;241;43m=\u001b[39;49m\u001b[38;5;28;43;01mTrue\u001b[39;49;00m\u001b[43m)\u001b[49m \u001b[38;5;241m/\u001b[39m (\u001b[38;5;241m1024\u001b[39m\u001b[38;5;241m*\u001b[39m\u001b[38;5;241m*\u001b[39m\u001b[38;5;241m2\u001b[39m)\n\u001b[1;32m      2\u001b[0m old\n",
      "File \u001b[0;32m~/.cache/pypoetry/virtualenvs/introduction_to_data_analytics-jZTzfAo0-py3.10/lib/python3.10/site-packages/pandas/core/frame.py:3756\u001b[0m, in \u001b[0;36mDataFrame.memory_usage\u001b[0;34m(self, index, deep)\u001b[0m\n\u001b[1;32m   3666\u001b[0m \u001b[38;5;28;01mdef\u001b[39;00m \u001b[38;5;21mmemory_usage\u001b[39m(\u001b[38;5;28mself\u001b[39m, index: \u001b[38;5;28mbool\u001b[39m \u001b[38;5;241m=\u001b[39m \u001b[38;5;28;01mTrue\u001b[39;00m, deep: \u001b[38;5;28mbool\u001b[39m \u001b[38;5;241m=\u001b[39m \u001b[38;5;28;01mFalse\u001b[39;00m) \u001b[38;5;241m-\u001b[39m\u001b[38;5;241m>\u001b[39m Series:\n\u001b[1;32m   3667\u001b[0m \u001b[38;5;250m    \u001b[39m\u001b[38;5;124;03m\"\"\"\u001b[39;00m\n\u001b[1;32m   3668\u001b[0m \u001b[38;5;124;03m    Return the memory usage of each column in bytes.\u001b[39;00m\n\u001b[1;32m   3669\u001b[0m \n\u001b[0;32m   (...)\u001b[0m\n\u001b[1;32m   3753\u001b[0m \u001b[38;5;124;03m    5244\u001b[39;00m\n\u001b[1;32m   3754\u001b[0m \u001b[38;5;124;03m    \"\"\"\u001b[39;00m\n\u001b[1;32m   3755\u001b[0m     result \u001b[38;5;241m=\u001b[39m \u001b[38;5;28mself\u001b[39m\u001b[38;5;241m.\u001b[39m_constructor_sliced(\n\u001b[0;32m-> 3756\u001b[0m         [c\u001b[38;5;241m.\u001b[39mmemory_usage(index\u001b[38;5;241m=\u001b[39m\u001b[38;5;28;01mFalse\u001b[39;00m, deep\u001b[38;5;241m=\u001b[39mdeep) \u001b[38;5;28;01mfor\u001b[39;00m col, c \u001b[38;5;129;01min\u001b[39;00m \u001b[38;5;28mself\u001b[39m\u001b[38;5;241m.\u001b[39mitems()],\n\u001b[1;32m   3757\u001b[0m         index\u001b[38;5;241m=\u001b[39m\u001b[38;5;28mself\u001b[39m\u001b[38;5;241m.\u001b[39mcolumns,\n\u001b[1;32m   3758\u001b[0m         dtype\u001b[38;5;241m=\u001b[39mnp\u001b[38;5;241m.\u001b[39mintp,\n\u001b[1;32m   3759\u001b[0m     )\n\u001b[1;32m   3760\u001b[0m     \u001b[38;5;28;01mif\u001b[39;00m index:\n\u001b[1;32m   3761\u001b[0m         index_memory_usage \u001b[38;5;241m=\u001b[39m \u001b[38;5;28mself\u001b[39m\u001b[38;5;241m.\u001b[39m_constructor_sliced(\n\u001b[1;32m   3762\u001b[0m             \u001b[38;5;28mself\u001b[39m\u001b[38;5;241m.\u001b[39mindex\u001b[38;5;241m.\u001b[39mmemory_usage(deep\u001b[38;5;241m=\u001b[39mdeep), index\u001b[38;5;241m=\u001b[39m[\u001b[38;5;124m\"\u001b[39m\u001b[38;5;124mIndex\u001b[39m\u001b[38;5;124m\"\u001b[39m]\n\u001b[1;32m   3763\u001b[0m         )\n",
      "File \u001b[0;32m~/.cache/pypoetry/virtualenvs/introduction_to_data_analytics-jZTzfAo0-py3.10/lib/python3.10/site-packages/pandas/core/frame.py:3756\u001b[0m, in \u001b[0;36m<listcomp>\u001b[0;34m(.0)\u001b[0m\n\u001b[1;32m   3666\u001b[0m \u001b[38;5;28;01mdef\u001b[39;00m \u001b[38;5;21mmemory_usage\u001b[39m(\u001b[38;5;28mself\u001b[39m, index: \u001b[38;5;28mbool\u001b[39m \u001b[38;5;241m=\u001b[39m \u001b[38;5;28;01mTrue\u001b[39;00m, deep: \u001b[38;5;28mbool\u001b[39m \u001b[38;5;241m=\u001b[39m \u001b[38;5;28;01mFalse\u001b[39;00m) \u001b[38;5;241m-\u001b[39m\u001b[38;5;241m>\u001b[39m Series:\n\u001b[1;32m   3667\u001b[0m \u001b[38;5;250m    \u001b[39m\u001b[38;5;124;03m\"\"\"\u001b[39;00m\n\u001b[1;32m   3668\u001b[0m \u001b[38;5;124;03m    Return the memory usage of each column in bytes.\u001b[39;00m\n\u001b[1;32m   3669\u001b[0m \n\u001b[0;32m   (...)\u001b[0m\n\u001b[1;32m   3753\u001b[0m \u001b[38;5;124;03m    5244\u001b[39;00m\n\u001b[1;32m   3754\u001b[0m \u001b[38;5;124;03m    \"\"\"\u001b[39;00m\n\u001b[1;32m   3755\u001b[0m     result \u001b[38;5;241m=\u001b[39m \u001b[38;5;28mself\u001b[39m\u001b[38;5;241m.\u001b[39m_constructor_sliced(\n\u001b[0;32m-> 3756\u001b[0m         [\u001b[43mc\u001b[49m\u001b[38;5;241;43m.\u001b[39;49m\u001b[43mmemory_usage\u001b[49m\u001b[43m(\u001b[49m\u001b[43mindex\u001b[49m\u001b[38;5;241;43m=\u001b[39;49m\u001b[38;5;28;43;01mFalse\u001b[39;49;00m\u001b[43m,\u001b[49m\u001b[43m \u001b[49m\u001b[43mdeep\u001b[49m\u001b[38;5;241;43m=\u001b[39;49m\u001b[43mdeep\u001b[49m\u001b[43m)\u001b[49m \u001b[38;5;28;01mfor\u001b[39;00m col, c \u001b[38;5;129;01min\u001b[39;00m \u001b[38;5;28mself\u001b[39m\u001b[38;5;241m.\u001b[39mitems()],\n\u001b[1;32m   3757\u001b[0m         index\u001b[38;5;241m=\u001b[39m\u001b[38;5;28mself\u001b[39m\u001b[38;5;241m.\u001b[39mcolumns,\n\u001b[1;32m   3758\u001b[0m         dtype\u001b[38;5;241m=\u001b[39mnp\u001b[38;5;241m.\u001b[39mintp,\n\u001b[1;32m   3759\u001b[0m     )\n\u001b[1;32m   3760\u001b[0m     \u001b[38;5;28;01mif\u001b[39;00m index:\n\u001b[1;32m   3761\u001b[0m         index_memory_usage \u001b[38;5;241m=\u001b[39m \u001b[38;5;28mself\u001b[39m\u001b[38;5;241m.\u001b[39m_constructor_sliced(\n\u001b[1;32m   3762\u001b[0m             \u001b[38;5;28mself\u001b[39m\u001b[38;5;241m.\u001b[39mindex\u001b[38;5;241m.\u001b[39mmemory_usage(deep\u001b[38;5;241m=\u001b[39mdeep), index\u001b[38;5;241m=\u001b[39m[\u001b[38;5;124m\"\u001b[39m\u001b[38;5;124mIndex\u001b[39m\u001b[38;5;124m\"\u001b[39m]\n\u001b[1;32m   3763\u001b[0m         )\n",
      "File \u001b[0;32m~/.cache/pypoetry/virtualenvs/introduction_to_data_analytics-jZTzfAo0-py3.10/lib/python3.10/site-packages/pandas/core/series.py:5481\u001b[0m, in \u001b[0;36mSeries.memory_usage\u001b[0;34m(self, index, deep)\u001b[0m\n\u001b[1;32m   5432\u001b[0m \u001b[38;5;28;01mdef\u001b[39;00m \u001b[38;5;21mmemory_usage\u001b[39m(\u001b[38;5;28mself\u001b[39m, index: \u001b[38;5;28mbool\u001b[39m \u001b[38;5;241m=\u001b[39m \u001b[38;5;28;01mTrue\u001b[39;00m, deep: \u001b[38;5;28mbool\u001b[39m \u001b[38;5;241m=\u001b[39m \u001b[38;5;28;01mFalse\u001b[39;00m) \u001b[38;5;241m-\u001b[39m\u001b[38;5;241m>\u001b[39m \u001b[38;5;28mint\u001b[39m:\n\u001b[1;32m   5433\u001b[0m \u001b[38;5;250m    \u001b[39m\u001b[38;5;124;03m\"\"\"\u001b[39;00m\n\u001b[1;32m   5434\u001b[0m \u001b[38;5;124;03m    Return the memory usage of the Series.\u001b[39;00m\n\u001b[1;32m   5435\u001b[0m \n\u001b[0;32m   (...)\u001b[0m\n\u001b[1;32m   5479\u001b[0m \u001b[38;5;124;03m    244\u001b[39;00m\n\u001b[1;32m   5480\u001b[0m \u001b[38;5;124;03m    \"\"\"\u001b[39;00m\n\u001b[0;32m-> 5481\u001b[0m     v \u001b[38;5;241m=\u001b[39m \u001b[38;5;28;43mself\u001b[39;49m\u001b[38;5;241;43m.\u001b[39;49m\u001b[43m_memory_usage\u001b[49m\u001b[43m(\u001b[49m\u001b[43mdeep\u001b[49m\u001b[38;5;241;43m=\u001b[39;49m\u001b[43mdeep\u001b[49m\u001b[43m)\u001b[49m\n\u001b[1;32m   5482\u001b[0m     \u001b[38;5;28;01mif\u001b[39;00m index:\n\u001b[1;32m   5483\u001b[0m         v \u001b[38;5;241m+\u001b[39m\u001b[38;5;241m=\u001b[39m \u001b[38;5;28mself\u001b[39m\u001b[38;5;241m.\u001b[39mindex\u001b[38;5;241m.\u001b[39mmemory_usage(deep\u001b[38;5;241m=\u001b[39mdeep)\n",
      "File \u001b[0;32m~/.cache/pypoetry/virtualenvs/introduction_to_data_analytics-jZTzfAo0-py3.10/lib/python3.10/site-packages/pandas/core/base.py:1174\u001b[0m, in \u001b[0;36mIndexOpsMixin._memory_usage\u001b[0;34m(self, deep)\u001b[0m\n\u001b[1;32m   1172\u001b[0m \u001b[38;5;28;01mif\u001b[39;00m deep \u001b[38;5;129;01mand\u001b[39;00m is_object_dtype(\u001b[38;5;28mself\u001b[39m\u001b[38;5;241m.\u001b[39mdtype) \u001b[38;5;129;01mand\u001b[39;00m \u001b[38;5;129;01mnot\u001b[39;00m PYPY:\n\u001b[1;32m   1173\u001b[0m     values \u001b[38;5;241m=\u001b[39m cast(np\u001b[38;5;241m.\u001b[39mndarray, \u001b[38;5;28mself\u001b[39m\u001b[38;5;241m.\u001b[39m_values)\n\u001b[0;32m-> 1174\u001b[0m     v \u001b[38;5;241m+\u001b[39m\u001b[38;5;241m=\u001b[39m \u001b[43mlib\u001b[49m\u001b[38;5;241;43m.\u001b[39;49m\u001b[43mmemory_usage_of_objects\u001b[49m\u001b[43m(\u001b[49m\u001b[43mvalues\u001b[49m\u001b[43m)\u001b[49m\n\u001b[1;32m   1175\u001b[0m \u001b[38;5;28;01mreturn\u001b[39;00m v\n",
      "\u001b[0;31mKeyboardInterrupt\u001b[0m: "
     ]
    }
   ],
   "source": [
    "old = flights.memory_usage(deep=True) / (1024**2)\n",
    "old"
   ]
  },
  {
   "cell_type": "code",
   "execution_count": null,
   "metadata": {},
   "outputs": [],
   "source": [
    "flights[\"FlightDate\"] = flights[\"FlightDate\"].astype(\"datetime64[ns]\")\n",
    "cancelled_diverted[\"FlightDate\"] = cancelled_diverted[\"FlightDate\"].astype(\"datetime64[ns]\")"
   ]
  },
  {
   "cell_type": "code",
   "execution_count": null,
   "metadata": {},
   "outputs": [],
   "source": [
    "categorical_columns = [\n",
    "    \"Airline\",\n",
    "    \"Day_Of_Week\",\n",
    "    \"Dep_Airport\",\n",
    "    \"Arr_Airport\",\n",
    "    \"Dep_CityName\",\n",
    "    \"Arr_CityName\",\n",
    "    \"DepTime_label\",\n",
    "    \"Dep_Delay_Type\",\n",
    "    \"Arr_Delay_Type\",\n",
    "    \"Distance_type\",\n",
    "    \"Manufacturer\",\n",
    "    \"Model\",\n",
    "]\n",
    "\n",
    "for column in categorical_columns:\n",
    "    flights[column] = flights[column].astype(\"category\")"
   ]
  },
  {
   "cell_type": "code",
   "execution_count": null,
   "metadata": {},
   "outputs": [],
   "source": [
    "print(\"flights: \")\n",
    "flights.info()"
   ]
  },
  {
   "cell_type": "code",
   "execution_count": null,
   "metadata": {},
   "outputs": [],
   "source": [
    "new = flights.memory_usage(deep=True) / (1024**2)"
   ]
  },
  {
   "cell_type": "code",
   "execution_count": null,
   "metadata": {},
   "outputs": [],
   "source": [
    "for i,j,index in zip(old,new,old.index):\n",
    "    if i != j:\n",
    "        print(f\"{index}: {i:0.2f} MB => {j:0.2f} MB. a {i/j:0.2f} times reduction in size\")"
   ]
  },
  {
   "cell_type": "code",
   "execution_count": null,
   "metadata": {},
   "outputs": [],
   "source": [
    "flights.sample(5)"
   ]
  },
  {
   "cell_type": "code",
   "execution_count": null,
   "metadata": {},
   "outputs": [],
   "source": [
    "flights.select_dtypes(include=[\"object\",\"category\"]).describe(include=\"all\").T"
   ]
  },
  {
   "cell_type": "code",
   "execution_count": null,
   "metadata": {},
   "outputs": [],
   "source": [
    "flights.describe().T"
   ]
  },
  {
   "cell_type": "markdown",
   "metadata": {},
   "source": [
    "# Cancelled diverted info"
   ]
  },
  {
   "cell_type": "markdown",
   "metadata": {},
   "source": [
    "- **index:** Unique flight ID (primary key)\n",
    "- **Day_Of_Week:** Contains the days of the week from 1 to 7\n",
    "- **Dep_Delay:** Departure delay ranging from -99 minutes to 4413 minutes with an average of 12.20 minutes\n",
    "- **Dep_Delay_Tag:** Delay tag where 1 represents a delay of more than 5 minutes\n",
    "- **Arr_Delay:** Arrival delay ranging from -119 minutes to 4405 minutes with an average of 6.62 minutes\n",
    "- **Flight_Duration:** Flight duration ranging from 0 to 795 minutes with an average of 140 minutes\n",
    "- **Delay_Carrier:** Delays caused by the airline ranging from 0 minutes to 3957 minutes\n",
    "- **Delay_Weather:** Weather-related delays ranging from 0 to 1860 minutes\n",
    "- **Delay_NAS:** Delays related to air traffic control (National Aviation System) ranging from 0 to 1708 minutes\n",
    "- **Delay_Security:** Delays related to security checks ranging from 0 to 1460 minutes\n",
    "- **Delay_LastAircraft:** Delays due to waiting for the aircraft ranging from 0 to 3581 minutes\n",
    "- **Aircraft_age:** Age of the aircraft ranging from 1 to 57 years with an average of 13.48 years\n",
    "- **Airline:** Contains the names of the **15 airlines** present in the dataset.\n",
    "- **Tail_Number:** Unique identifier of the aircraft. **5963 aircraft** are present.\n",
    "- **Dep_Airport:** Unique identifier of each departure airport. **350 airports** are represented.\n",
    "- **Dep_CityName:** Names of the departure cities. **344 cities** are represented.\n",
    "- **DepTime_label:** Division of the day into 6-hour periods (Night - Morning - Afternoon - Evening).\n",
    "- **Dep_Delay_Type:** 3 categories of departure delays (Low < 5min - Medium > 15min - High > 60min).\n",
    "- **CityName:** Names of the arrival cities. 344 cities are represented.\n",
    "- **Arr_Delay_Type:** 3 categories of arrival delays (Low < 5min - Medium > 15min - High > 60min).\n",
    "- **Distance_type:** 3 categories of flight distances in miles (Short Haul < 1500Mi, Medium Haul < 3000Mi, Long Haul < 6000Mi).\n",
    "- **Manufacturer:** Aircraft manufacturer. **5 aircraft manufacturers** are present.\n",
    "- **Model:** Model name given by the manufacturer. 21 aircraft models are present.\n",
    "- **Canceled flight (bool)**\n",
    "- **Diverted flight (bool)**"
   ]
  },
  {
   "cell_type": "code",
   "execution_count": null,
   "metadata": {},
   "outputs": [],
   "source": [
    "print(\"cancelled_diverted: \")\n",
    "cancelled_diverted.info()"
   ]
  },
  {
   "cell_type": "code",
   "execution_count": null,
   "metadata": {},
   "outputs": [],
   "source": [
    "categorical_columns = [\n",
    "    \"Day_Of_Week\",\n",
    "    \"Airline\",\n",
    "    \"Cancelled\",\n",
    "    \"Diverted\",\n",
    "    \"Dep_Airport\",\n",
    "    \"Dep_CityName\",\n",
    "    \"DepTime_label\",\n",
    "    \"Dep_Delay_Tag\",\n",
    "    \"Dep_Delay_Type\",\n",
    "    \"Arr_Airport\",\n",
    "    \"Arr_CityName\",\n",
    "    \"Arr_Delay_Type\",\n",
    "    \"Distance_type\",\n",
    "]\n",
    "\n",
    "for column in categorical_columns:\n",
    "    cancelled_diverted[column] = cancelled_diverted[column].astype(\"category\")"
   ]
  },
  {
   "cell_type": "code",
   "execution_count": null,
   "metadata": {},
   "outputs": [],
   "source": [
    "cancelled_diverted.sample(5)"
   ]
  },
  {
   "cell_type": "code",
   "execution_count": null,
   "metadata": {},
   "outputs": [],
   "source": [
    "cancelled_diverted[cancelled_diverted[\"Tail_Number\"] == \"0\"][\"Cancelled\"].eq(1.0).all()"
   ]
  },
  {
   "cell_type": "code",
   "execution_count": null,
   "metadata": {},
   "outputs": [],
   "source": [
    "cancelled_diverted[cancelled_diverted[\"Cancelled\"] == 1.0][\"Tail_Number\"].eq(\"0\").value_counts()"
   ]
  },
  {
   "cell_type": "code",
   "execution_count": null,
   "metadata": {},
   "outputs": [],
   "source": [
    "cancelled_diverted.select_dtypes([\"object\", \"category\"]).describe(include=\"all\").T"
   ]
  },
  {
   "cell_type": "code",
   "execution_count": null,
   "metadata": {},
   "outputs": [],
   "source": [
    "cancelled_diverted.describe().T"
   ]
  },
  {
   "cell_type": "markdown",
   "metadata": {},
   "source": [
    "# Weather Info"
   ]
  },
  {
   "cell_type": "markdown",
   "metadata": {},
   "source": [
    "- **time** Timestamps associated with the weather data (yyyy-mm-dd). \n",
    "- **tavg** Average Temperature (°C). \n",
    "- **tmin** Minimum Temperature (°C).\n",
    "- **tmax** Maximum Temperature (°C).\n",
    "- **prcp** Total precipitation amount in mm. \n",
    "- **snow** Snow Depth.\n",
    "- **wdir** Wind (From) Direction (Degrees).\n",
    "- **wspd** Average Wind Speed (km/h). \n",
    "- **pres** Sea-Level Air Pressure (hPa)\n",
    "- **airport_id** Unique identifier for the airport where the weather data was collected. \n"
   ]
  },
  {
   "cell_type": "code",
   "execution_count": null,
   "metadata": {},
   "outputs": [],
   "source": [
    "print(\"weather: \")\n",
    "weather.info()"
   ]
  },
  {
   "cell_type": "code",
   "execution_count": null,
   "metadata": {},
   "outputs": [],
   "source": [
    "weather.sample(5)"
   ]
  },
  {
   "cell_type": "code",
   "execution_count": null,
   "metadata": {},
   "outputs": [],
   "source": [
    "weather.describe().T"
   ]
  },
  {
   "cell_type": "code",
   "execution_count": null,
   "metadata": {},
   "outputs": [],
   "source": [
    "weather[\"time\"] = weather[\"time\"].astype(\"datetime64[ns]\")"
   ]
  },
  {
   "cell_type": "markdown",
   "metadata": {},
   "source": [
    "# Airports info"
   ]
  },
  {
   "cell_type": "markdown",
   "metadata": {},
   "source": [
    "- **IATA_CODE**\tUnique identifier for the airport.\n",
    "- **AIRPORT**\tFull name of the airport.\n",
    "- **CITY**\tCity where the airport is located.\n",
    "- **STATE**\tState (US) where the airport is located.\n",
    "- **COUNTRY**\tCountry where the airport is located (Always US).\n",
    "- **LATITUDE**\tGeographic latitude of the airport in decimal degrees.\n",
    "- **LONGITUDE**\tGeographic longitude of the airport in decimal degrees."
   ]
  },
  {
   "cell_type": "code",
   "execution_count": null,
   "metadata": {},
   "outputs": [],
   "source": [
    "print(\"airports: \")\n",
    "airports.info()"
   ]
  },
  {
   "cell_type": "code",
   "execution_count": null,
   "metadata": {},
   "outputs": [],
   "source": [
    "categorical_columns = [\"AIRPORT\", \"CITY\", \"STATE\", \"COUNTRY\"]\n",
    "\n",
    "for column in categorical_columns:\n",
    "    airports[column] = airports[column].astype(\"category\")"
   ]
  },
  {
   "cell_type": "code",
   "execution_count": null,
   "metadata": {},
   "outputs": [],
   "source": [
    "airports.sample(5)"
   ]
  },
  {
   "cell_type": "code",
   "execution_count": null,
   "metadata": {},
   "outputs": [],
   "source": [
    "airports.describe().T"
   ]
  },
  {
   "cell_type": "code",
   "execution_count": null,
   "metadata": {},
   "outputs": [],
   "source": [
    "airports.select_dtypes([\"object\",\"category\"]).describe(include=\"all\").T"
   ]
  },
  {
   "cell_type": "markdown",
   "metadata": {},
   "source": [
    "# Normalizing column names"
   ]
  },
  {
   "cell_type": "code",
   "execution_count": null,
   "metadata": {},
   "outputs": [],
   "source": [
    "# Function to normalize column names\n",
    "def normalize_columns(df):\n",
    "    df.columns = df.columns.str.lower().str.replace(\" \", \"_\")\n",
    "    return df"
   ]
  },
  {
   "cell_type": "code",
   "execution_count": null,
   "metadata": {},
   "outputs": [],
   "source": [
    "# Normalize column names\n",
    "airports = normalize_columns(airports)\n",
    "cancelled_diverted = normalize_columns(cancelled_diverted)\n",
    "flights = normalize_columns(flights)\n",
    "weather = normalize_columns(weather)"
   ]
  },
  {
   "cell_type": "code",
   "execution_count": null,
   "metadata": {},
   "outputs": [
    {
     "name": "stdout",
     "output_type": "stream",
     "text": [
      "airports:  Index(['iata_code', 'airport', 'city', 'state', 'country', 'latitude',\n",
      "       'longitude'],\n",
      "      dtype='object')\n",
      "**************************************************\n",
      "cancelled_diverted:  Index(['flightdate', 'day_of_week', 'airline', 'tail_number', 'cancelled',\n",
      "       'diverted', 'dep_airport', 'dep_cityname', 'deptime_label', 'dep_delay',\n",
      "       'dep_delay_tag', 'dep_delay_type', 'arr_airport', 'arr_cityname',\n",
      "       'arr_delay', 'arr_delay_type', 'flight_duration', 'distance_type',\n",
      "       'delay_carrier', 'delay_weather', 'delay_nas', 'delay_security',\n",
      "       'delay_lastaircraft'],\n",
      "      dtype='object')\n",
      "**************************************************\n",
      "flights:  Index(['flightdate', 'day_of_week', 'airline', 'tail_number', 'dep_airport',\n",
      "       'dep_cityname', 'deptime_label', 'dep_delay', 'dep_delay_tag',\n",
      "       'dep_delay_type', 'arr_airport', 'arr_cityname', 'arr_delay',\n",
      "       'arr_delay_type', 'flight_duration', 'distance_type', 'delay_carrier',\n",
      "       'delay_weather', 'delay_nas', 'delay_security', 'delay_lastaircraft',\n",
      "       'manufacturer', 'model', 'aicraft_age'],\n",
      "      dtype='object')\n",
      "**************************************************\n",
      "weather:  Index(['time', 'tavg', 'tmin', 'tmax', 'prcp', 'snow', 'wdir', 'wspd', 'pres',\n",
      "       'airport_id'],\n",
      "      dtype='object')\n",
      "**************************************************\n"
     ]
    }
   ],
   "source": [
    "print(\"airports: \" , airports.columns)\n",
    "print(50*\"*\")\n",
    "print(\"cancelled_diverted: \" , cancelled_diverted.columns)\n",
    "print(50*\"*\")\n",
    "print(\"flights: \" , flights.columns)\n",
    "print(50*\"*\")\n",
    "print(\"weather: \" , weather.columns)\n",
    "print(50*\"*\")"
   ]
  },
  {
   "cell_type": "markdown",
   "metadata": {},
   "source": [
    "# Getting to know the duplicates"
   ]
  },
  {
   "cell_type": "code",
   "execution_count": null,
   "metadata": {},
   "outputs": [
    {
     "name": "stdout",
     "output_type": "stream",
     "text": [
      "airports 0\n",
      "cancelled_diverted 945\n",
      "flights 31\n",
      "weather 0\n"
     ]
    }
   ],
   "source": [
    "# Check for duplicates and remove them\n",
    "print(\"airports\", airports.duplicated().sum())\n",
    "print(\"cancelled_diverted\", cancelled_diverted.duplicated().sum())\n",
    "print(\"flights\", flights.duplicated().sum())\n",
    "print(\"weather\", weather.duplicated().sum())"
   ]
  },
  {
   "cell_type": "code",
   "execution_count": null,
   "metadata": {},
   "outputs": [],
   "source": [
    "# Check for duplicates and remove them\n",
    "cancelled_diverted = cancelled_diverted.drop_duplicates()\n",
    "flights = flights.drop_duplicates()"
   ]
  },
  {
   "cell_type": "code",
   "execution_count": null,
   "metadata": {},
   "outputs": [
    {
     "name": "stdout",
     "output_type": "stream",
     "text": [
      "airports 0\n",
      "cancelled_diverted 0\n",
      "flights 0\n",
      "weather 0\n"
     ]
    }
   ],
   "source": [
    "# Check for duplicates and remove them\n",
    "print(\"airports\", airports.duplicated().sum())\n",
    "print(\"cancelled_diverted\", cancelled_diverted.duplicated().sum())\n",
    "print(\"flights\", flights.duplicated().sum())\n",
    "print(\"weather\", weather.duplicated().sum())"
   ]
  },
  {
   "cell_type": "markdown",
   "metadata": {},
   "source": [
    "# Find missing values"
   ]
  },
  {
   "cell_type": "code",
   "execution_count": null,
   "metadata": {},
   "outputs": [
    {
     "name": "stdout",
     "output_type": "stream",
     "text": [
      "airports_nas: \n",
      "iata_code    0\n",
      "airport      0\n",
      "city         0\n",
      "state        0\n",
      "country      0\n",
      "latitude     0\n",
      "longitude    0\n",
      "dtype: int64\n",
      "**************************************************\n",
      "cancelled_diverted_nas: \n",
      "flightdate            0\n",
      "day_of_week           0\n",
      "airline               0\n",
      "tail_number           0\n",
      "cancelled             0\n",
      "diverted              0\n",
      "dep_airport           0\n",
      "dep_cityname          0\n",
      "deptime_label         0\n",
      "dep_delay             0\n",
      "dep_delay_tag         0\n",
      "dep_delay_type        0\n",
      "arr_airport           0\n",
      "arr_cityname          0\n",
      "arr_delay             0\n",
      "arr_delay_type        0\n",
      "flight_duration       0\n",
      "distance_type         0\n",
      "delay_carrier         0\n",
      "delay_weather         0\n",
      "delay_nas             0\n",
      "delay_security        0\n",
      "delay_lastaircraft    0\n",
      "dtype: int64\n",
      "**************************************************\n",
      "flights_nas: \n",
      "flightdate            0\n",
      "day_of_week           0\n",
      "airline               0\n",
      "tail_number           0\n",
      "dep_airport           0\n",
      "dep_cityname          0\n",
      "deptime_label         0\n",
      "dep_delay             0\n",
      "dep_delay_tag         0\n",
      "dep_delay_type        0\n",
      "arr_airport           0\n",
      "arr_cityname          0\n",
      "arr_delay             0\n",
      "arr_delay_type        0\n",
      "flight_duration       0\n",
      "distance_type         0\n",
      "delay_carrier         0\n",
      "delay_weather         0\n",
      "delay_nas             0\n",
      "delay_security        0\n",
      "delay_lastaircraft    0\n",
      "manufacturer          0\n",
      "model                 0\n",
      "aicraft_age           0\n",
      "dtype: int64\n",
      "**************************************************\n",
      "weather_nas: \n",
      "time          0\n",
      "tavg          0\n",
      "tmin          0\n",
      "tmax          0\n",
      "prcp          0\n",
      "snow          0\n",
      "wdir          0\n",
      "wspd          0\n",
      "pres          0\n",
      "airport_id    0\n",
      "dtype: int64\n"
     ]
    }
   ],
   "source": [
    "# Count the nas in each column\n",
    "airports_nas = airports.isna().sum()\n",
    "cancelled_diverted_nas = cancelled_diverted.isna().sum()\n",
    "flights_nas = flights.isna().sum()\n",
    "weather_nas = weather.isna().sum()\n",
    "\n",
    "print(\"airports_nas: \")\n",
    "print(airports_nas)\n",
    "print(50 * \"*\")\n",
    "\n",
    "print(\"cancelled_diverted_nas: \")\n",
    "print(cancelled_diverted_nas)\n",
    "print(50 * \"*\")\n",
    "\n",
    "print(\"flights_nas: \")\n",
    "print(flights_nas)\n",
    "print(50 * \"*\")\n",
    "\n",
    "print(\"weather_nas: \")\n",
    "print(weather_nas)"
   ]
  },
  {
   "cell_type": "code",
   "execution_count": null,
   "metadata": {},
   "outputs": [],
   "source": [
    "print(f\"airports df info:\")\n",
    "airports.info()\n",
    "print(50 * \"=\")\n",
    "print(f\"cancelled_diverted df info:\")\n",
    "cancelled_diverted.info()\n",
    "print(50 * \"=\")\n",
    "print(f\"flights df info:\")\n",
    "flights.info()\n",
    "print(50 * \"=\")\n",
    "print(f\"weather df info:\")\n",
    "weather.info()\n",
    "print(50 * \"=\")"
   ]
  },
  {
   "cell_type": "markdown",
   "metadata": {},
   "source": [
    "# Data profiling"
   ]
  },
  {
   "cell_type": "code",
   "execution_count": null,
   "metadata": {},
   "outputs": [
    {
     "data": {
      "application/vnd.jupyter.widget-view+json": {
       "model_id": "410d847b348345978dcfd47397a20993",
       "version_major": 2,
       "version_minor": 0
      },
      "text/plain": [
       "Summarize dataset:   0%|          | 0/5 [00:00<?, ?it/s]"
      ]
     },
     "metadata": {},
     "output_type": "display_data"
    },
    {
     "data": {
      "application/vnd.jupyter.widget-view+json": {
       "model_id": "1bf953ef46ab4f6dab59236073b1cb54",
       "version_major": 2,
       "version_minor": 0
      },
      "text/plain": [
       "Generate report structure:   0%|          | 0/1 [00:00<?, ?it/s]"
      ]
     },
     "metadata": {},
     "output_type": "display_data"
    },
    {
     "data": {
      "application/vnd.jupyter.widget-view+json": {
       "model_id": "950a68c3998a4704982a64d515badbcd",
       "version_major": 2,
       "version_minor": 0
      },
      "text/plain": [
       "Render HTML:   0%|          | 0/1 [00:00<?, ?it/s]"
      ]
     },
     "metadata": {},
     "output_type": "display_data"
    },
    {
     "data": {
      "application/vnd.jupyter.widget-view+json": {
       "model_id": "79d1e222f56746c08705851b0c5c72d1",
       "version_major": 2,
       "version_minor": 0
      },
      "text/plain": [
       "Export report to file:   0%|          | 0/1 [00:00<?, ?it/s]"
      ]
     },
     "metadata": {},
     "output_type": "display_data"
    },
    {
     "data": {
      "application/vnd.jupyter.widget-view+json": {
       "model_id": "806812df09d44741a00dfe80f579c40a",
       "version_major": 2,
       "version_minor": 0
      },
      "text/plain": [
       "Summarize dataset:   0%|          | 0/5 [00:00<?, ?it/s]"
      ]
     },
     "metadata": {},
     "output_type": "display_data"
    },
    {
     "name": "stderr",
     "output_type": "stream",
     "text": [
      "/home/khaled/.cache/pypoetry/virtualenvs/introduction_to_data_analytics-jZTzfAo0-py3.10/lib/python3.10/site-packages/ydata_profiling/model/correlations.py:66: UserWarning: There was an attempt to calculate the auto correlation, but this failed.\n",
      "To hide this warning, disable the calculation\n",
      "(using `df.profile_report(correlations={\"auto\": {\"calculate\": False}})`\n",
      "If this is problematic for your use case, please report this as an issue:\n",
      "https://github.com/ydataai/ydata-profiling/issues\n",
      "(include the error message: 'could not convert string to float: 'Endeavor Air'')\n",
      "  warnings.warn(\n"
     ]
    },
    {
     "data": {
      "application/vnd.jupyter.widget-view+json": {
       "model_id": "b591952578864046ba40e43dbaa8bf06",
       "version_major": 2,
       "version_minor": 0
      },
      "text/plain": [
       "Generate report structure:   0%|          | 0/1 [00:00<?, ?it/s]"
      ]
     },
     "metadata": {},
     "output_type": "display_data"
    },
    {
     "data": {
      "application/vnd.jupyter.widget-view+json": {
       "model_id": "9d84fc09e08149c69406ac89da5ed471",
       "version_major": 2,
       "version_minor": 0
      },
      "text/plain": [
       "Render HTML:   0%|          | 0/1 [00:00<?, ?it/s]"
      ]
     },
     "metadata": {},
     "output_type": "display_data"
    },
    {
     "data": {
      "application/vnd.jupyter.widget-view+json": {
       "model_id": "74f2caf36fc84de58055ea5d9d1be868",
       "version_major": 2,
       "version_minor": 0
      },
      "text/plain": [
       "Export report to file:   0%|          | 0/1 [00:00<?, ?it/s]"
      ]
     },
     "metadata": {},
     "output_type": "display_data"
    },
    {
     "data": {
      "application/vnd.jupyter.widget-view+json": {
       "model_id": "a752fd370ca84443b68daeccaa79a69f",
       "version_major": 2,
       "version_minor": 0
      },
      "text/plain": [
       "Summarize dataset:   0%|          | 0/5 [00:00<?, ?it/s]"
      ]
     },
     "metadata": {},
     "output_type": "display_data"
    },
    {
     "name": "stderr",
     "output_type": "stream",
     "text": [
      "/home/khaled/.cache/pypoetry/virtualenvs/introduction_to_data_analytics-jZTzfAo0-py3.10/lib/python3.10/site-packages/ydata_profiling/model/correlations.py:66: UserWarning: There was an attempt to calculate the auto correlation, but this failed.\n",
      "To hide this warning, disable the calculation\n",
      "(using `df.profile_report(correlations={\"auto\": {\"calculate\": False}})`\n",
      "If this is problematic for your use case, please report this as an issue:\n",
      "https://github.com/ydataai/ydata-profiling/issues\n",
      "(include the error message: 'could not convert string to float: 'Endeavor Air'')\n",
      "  warnings.warn(\n"
     ]
    },
    {
     "data": {
      "application/vnd.jupyter.widget-view+json": {
       "model_id": "d002475549524c17bda9c074748acfcf",
       "version_major": 2,
       "version_minor": 0
      },
      "text/plain": [
       "Generate report structure:   0%|          | 0/1 [00:00<?, ?it/s]"
      ]
     },
     "metadata": {},
     "output_type": "display_data"
    },
    {
     "data": {
      "application/vnd.jupyter.widget-view+json": {
       "model_id": "8956a6cc37ac4c3ab95f5fbe9964d2ad",
       "version_major": 2,
       "version_minor": 0
      },
      "text/plain": [
       "Render HTML:   0%|          | 0/1 [00:00<?, ?it/s]"
      ]
     },
     "metadata": {},
     "output_type": "display_data"
    },
    {
     "data": {
      "application/vnd.jupyter.widget-view+json": {
       "model_id": "8ed63d2d9a5f4092bea98dcfb9370633",
       "version_major": 2,
       "version_minor": 0
      },
      "text/plain": [
       "Export report to file:   0%|          | 0/1 [00:00<?, ?it/s]"
      ]
     },
     "metadata": {},
     "output_type": "display_data"
    },
    {
     "data": {
      "application/vnd.jupyter.widget-view+json": {
       "model_id": "7ca30c3aad64425b884c82a1daa405c3",
       "version_major": 2,
       "version_minor": 0
      },
      "text/plain": [
       "Summarize dataset:   0%|          | 0/5 [00:00<?, ?it/s]"
      ]
     },
     "metadata": {},
     "output_type": "display_data"
    },
    {
     "data": {
      "application/vnd.jupyter.widget-view+json": {
       "model_id": "dfe3d50456cf41b991bf312a298684b4",
       "version_major": 2,
       "version_minor": 0
      },
      "text/plain": [
       "Generate report structure:   0%|          | 0/1 [00:00<?, ?it/s]"
      ]
     },
     "metadata": {},
     "output_type": "display_data"
    },
    {
     "data": {
      "application/vnd.jupyter.widget-view+json": {
       "model_id": "37d8f8d919c04dc49c659a9948148ab3",
       "version_major": 2,
       "version_minor": 0
      },
      "text/plain": [
       "Render HTML:   0%|          | 0/1 [00:00<?, ?it/s]"
      ]
     },
     "metadata": {},
     "output_type": "display_data"
    },
    {
     "data": {
      "application/vnd.jupyter.widget-view+json": {
       "model_id": "4077c623ee15410783aa1cff7eb25ccf",
       "version_major": 2,
       "version_minor": 0
      },
      "text/plain": [
       "Export report to file:   0%|          | 0/1 [00:00<?, ?it/s]"
      ]
     },
     "metadata": {},
     "output_type": "display_data"
    }
   ],
   "source": [
    "from ydata_profiling import ProfileReport\n",
    "\n",
    "profile_airports = ProfileReport(df=airports, title=\"profile_airports\", explorative=True)\n",
    "profile_airports.to_file(output_file=\"./profiling reports/profile_airports.html\")\n",
    "\n",
    "profile_cancelled_diverted = ProfileReport(\n",
    "    df=cancelled_diverted, title=\"profile_cancelled_diverted\", explorative=True\n",
    ")\n",
    "profile_cancelled_diverted.to_file(output_file=\"./profiling reports/profile_cancelled_diverted.html\")\n",
    "\n",
    "profile_flights = ProfileReport(df=flights, title=\"profile_flights\", explorative=True)\n",
    "profile_flights.to_file(output_file=\"./profiling reports/profile_flights.html\")\n",
    "\n",
    "profile_weather = ProfileReport(df=weather, title=\"profile_weather\", explorative=True)\n",
    "profile_weather.to_file(output_file=\"./profiling reports/profile_weather.html\")"
   ]
  },
  {
   "cell_type": "code",
   "execution_count": null,
   "metadata": {},
   "outputs": [],
   "source": []
  }
 ],
 "metadata": {
  "kernelspec": {
   "display_name": "introduction_to_data_analytics-3cRLIqXq-py3.11",
   "language": "python",
   "name": "python3"
  },
  "language_info": {
   "codemirror_mode": {
    "name": "ipython",
    "version": 3
   },
   "file_extension": ".py",
   "mimetype": "text/x-python",
   "name": "python",
   "nbconvert_exporter": "python",
   "pygments_lexer": "ipython3",
   "version": "3.10.13"
  }
 },
 "nbformat": 4,
 "nbformat_minor": 2
}
